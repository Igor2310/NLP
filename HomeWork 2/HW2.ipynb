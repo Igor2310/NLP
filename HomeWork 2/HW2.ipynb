{
 "cells": [
  {
   "cell_type": "markdown",
   "id": "d1d96d99",
   "metadata": {
    "_cell_guid": "3e195f12-de82-440d-855c-6f6e667cf36e",
    "_uuid": "7e41fa0f-369b-4da3-84a5-4f533d26a1f7",
    "papermill": {
     "duration": 0.019364,
     "end_time": "2023-08-08T11:42:27.705113",
     "exception": false,
     "start_time": "2023-08-08T11:42:27.685749",
     "status": "completed"
    },
    "tags": []
   },
   "source": [
    "# Введение в обработку естественного языка"
   ]
  },
  {
   "cell_type": "markdown",
   "id": "a0250112",
   "metadata": {
    "_cell_guid": "b6f6a0fd-cd52-493b-9c96-4b7a4911b1c2",
    "_uuid": "478e4147-b501-420f-bfbd-abe06d0c728e",
    "papermill": {
     "duration": 0.018336,
     "end_time": "2023-08-08T11:42:27.742236",
     "exception": false,
     "start_time": "2023-08-08T11:42:27.723900",
     "status": "completed"
    },
    "tags": []
   },
   "source": [
    "## Урок 2. Создание признакового пространства"
   ]
  },
  {
   "cell_type": "markdown",
   "id": "80c81afe",
   "metadata": {
    "_cell_guid": "ddf29d8a-9f80-4d76-b17f-10b5f560a36e",
    "_uuid": "4ce1431f-4e43-4e29-90ed-805ab4dc392d",
    "id": "nom2EZsLKNhj",
    "papermill": {
     "duration": 0.018164,
     "end_time": "2023-08-08T11:42:27.779219",
     "exception": false,
     "start_time": "2023-08-08T11:42:27.761055",
     "status": "completed"
    },
    "tags": []
   },
   "source": [
    "Данные:\n",
    "\n",
    "https://disk.yandex.ru/i/v5HM-ENiGXZVpQ\n",
    "\n",
    "https://disk.yandex.ru/i/koR5eMCToCZS2Q\n",
    "\n",
    "Задание 1.\n",
    "Задание: обучите три классификатора:\n",
    "\n",
    "1) на токенах с высокой частотой\n",
    "\n",
    "2) на токенах со средней частотой\n",
    "\n",
    "3) на токенах с низкой частотой\n",
    "\n",
    "Сравните полученные результаты, оцените какие токены наиболее важные для классификации.\n",
    "\n",
    "Задание 2.\n",
    "найти фичи с наибольшей значимостью, и вывести их\n",
    "\n",
    "Задание 3.\n",
    "\n",
    "1) сравнить count/tf-idf/hashing векторайзеры/полносвязанную сетку (построить classification_report)\n",
    "\n",
    "2) подобрать оптимальный размер для hashing векторайзера\n",
    "\n",
    "3) убедиться что для сетки нет переобучения"
   ]
  },
  {
   "cell_type": "markdown",
   "id": "c86e346d-2a2d-4848-82dd-82fb8dbf7818",
   "metadata": {},
   "source": [
    "Задание 1."
   ]
  },
  {
   "cell_type": "code",
   "execution_count": 1,
   "id": "ca668e19",
   "metadata": {
    "_cell_guid": "39ccf248-3396-47a0-a22d-cffae6b95d6f",
    "_uuid": "80b98e20-5631-45c0-803f-3e38b2ef8ea6",
    "collapsed": false,
    "id": "mcXSMZL_HRBN",
    "jupyter": {
     "outputs_hidden": false
    },
    "outputId": "92bd55d4-49c1-40f0-cc75-011f0f64bca6",
    "papermill": {
     "duration": 1.588277,
     "end_time": "2023-08-08T11:42:29.385972",
     "exception": false,
     "start_time": "2023-08-08T11:42:27.797695",
     "status": "completed"
    },
    "tags": []
   },
   "outputs": [],
   "source": [
    "import pandas as pd\n",
    "import numpy as np\n",
    "import re\n",
    "from sklearn.metrics import *\n",
    "from sklearn.model_selection import train_test_split\n",
    "from nltk import word_tokenize\n",
    "from sklearn.linear_model import LogisticRegression\n",
    "from sklearn.feature_extraction.text import CountVectorizer, TfidfVectorizer, HashingVectorizer\n",
    "from collections import Counter\n",
    "from string import punctuation\n",
    "import matplotlib.pyplot as plt\n",
    "%matplotlib inline\n",
    "import nltk\n",
    "\n",
    "nltk.download('punkt', quiet=True)\n",
    "\n",
    "# Отключить вывод ошибок\n",
    "import warnings\n",
    "warnings.filterwarnings('ignore')\n",
    "warnings.simplefilter('ignore')"
   ]
  },
  {
   "cell_type": "code",
   "execution_count": 2,
   "id": "493379a8-c1da-4324-b820-c4ad7e01c515",
   "metadata": {},
   "outputs": [],
   "source": [
    "# считываем данные и заполняем общий датасет\n",
    "positive = pd.read_csv('positive.csv', sep=';', usecols=[3], names=['text'])\n",
    "positive['label'] = ['positive'] * len(positive)\n",
    "negative = pd.read_csv('negative.csv', sep=';', usecols=[3], names=['text'])\n",
    "negative['label'] = ['negative'] * len(negative)\n",
    "df = positive._append(negative)"
   ]
  },
  {
   "cell_type": "code",
   "execution_count": 3,
   "id": "584f13b7",
   "metadata": {
    "_cell_guid": "5735af90-1255-42ec-9e44-b65ff25dda07",
    "_uuid": "35810db0-6b41-4fe9-9262-044cbffa17a4",
    "collapsed": false,
    "id": "O4cXfWbRLPVl",
    "jupyter": {
     "outputs_hidden": false
    },
    "papermill": {
     "duration": 0.026641,
     "end_time": "2023-08-08T11:42:30.991760",
     "exception": false,
     "start_time": "2023-08-08T11:42:30.965119",
     "status": "completed"
    },
    "tags": []
   },
   "outputs": [],
   "source": [
    "def delete_pattern(text, pattern):\n",
    "  return re.sub(pattern, ' ', text)"
   ]
  },
  {
   "cell_type": "code",
   "execution_count": 4,
   "id": "7faf72d1-96cb-4c23-9a30-a92a8b87c26d",
   "metadata": {},
   "outputs": [],
   "source": [
    "df['text'] = df['text'].apply(lambda x: x.lower())"
   ]
  },
  {
   "cell_type": "code",
   "execution_count": 5,
   "id": "89b96d5f-dcb6-4e6d-9cfe-3775bb868030",
   "metadata": {},
   "outputs": [],
   "source": [
    "def reg_sub(x, pattern, sub_to = ''):\n",
    "    regs = re.findall(pattern, x)\n",
    "    for reg in regs:\n",
    "        x = re.sub(reg, sub_to, x)\n",
    "    return x\n",
    "\n",
    "x = np.vectorize(reg_sub)\n",
    "\n",
    "df['text'] = x(df['text'], \"htt[\\w]*\")\n",
    "df['text'] = x(df['text'], \"@[\\w]*\")\n",
    "df['text'] = x(df['text'], \"#[\\w]*\")"
   ]
  },
  {
   "cell_type": "code",
   "execution_count": 6,
   "id": "883c742c",
   "metadata": {
    "_cell_guid": "3e36b860-0ac6-4443-87be-07ce9819ca16",
    "_uuid": "bca73250-6e10-4ea5-ab13-836720956541",
    "collapsed": false,
    "id": "MeXJMGF_KgzH",
    "jupyter": {
     "outputs_hidden": false
    },
    "papermill": {
     "duration": 12.114088,
     "end_time": "2023-08-08T11:42:43.126060",
     "exception": false,
     "start_time": "2023-08-08T11:42:31.011972",
     "status": "completed"
    },
    "tags": []
   },
   "outputs": [],
   "source": [
    "# Замена пунктуации на пробелы\n",
    "pattern_for_punctuation = r'[^\\w\\s]'\n",
    "df['text'] = df['text'].apply(lambda x: delete_pattern(x, pattern_for_punctuation))\n",
    "# Замена спец. символов на пробелы \n",
    "#pattern_for_special_symb = r'[^a-zA-Z0-9]'\n",
    "#df['text'] = df['text'].apply(lambda x: delete_pattern(x, pattern_for_special_symb))\n",
    "# Замена чисел на пробелы \n",
    "#pattern_for_numbers = r'[^a-zA-Z]'\n",
    "#df['text'] = df['text'].apply(lambda x: delete_pattern(x, pattern_for_numbers))\n",
    "# Удаление лишних пробелов\n",
    "df['text'] = df['text'].apply(lambda x: ' '.join(x.split()))"
   ]
  },
  {
   "cell_type": "code",
   "execution_count": 7,
   "id": "392b82fd-4503-4a5d-8c88-9baa67f8583b",
   "metadata": {},
   "outputs": [
    {
     "data": {
      "text/plain": [
       "0         хоть я и школота но поверь у нас то же самое d...\n",
       "1         да все таки он немного похож на него но мой ма...\n",
       "2                     rt ну ты идиотка я испугалась за тебя\n",
       "3         rt кто то в углу сидит и погибает от голода а ...\n",
       "4         вот что значит страшилка d но блин посмотрев в...\n",
       "                                ...                        \n",
       "111918    но не каждый хочет что то исправлять t co qnod...\n",
       "111919    скучаю так только вправляет мозги но я все рав...\n",
       "111920              вот и в школу в говно это идти уже надо\n",
       "111921                          rt тауриэль не грусти обнял\n",
       "111922    такси везет меня на работу раздумываю приплати...\n",
       "Name: text, Length: 226834, dtype: object"
      ]
     },
     "execution_count": 7,
     "metadata": {},
     "output_type": "execute_result"
    }
   ],
   "source": [
    "df['text']"
   ]
  },
  {
   "cell_type": "code",
   "execution_count": 8,
   "id": "69938352-930a-4f03-8dcf-1b9620fea6b0",
   "metadata": {},
   "outputs": [],
   "source": [
    "# Слишком много времени занимает\n",
    "# from pymystem3 import Mystem\n",
    "# m = Mystem()\n",
    "\n",
    "# def get_lemmatizer_list(s):\n",
    "#     ' '.join(m.lemmatize(s))\n",
    "#     return s\n",
    "\n",
    "# x = np.vectorize(get_lemmatizer_list)\n",
    "# df['text'] = x(df['text'])"
   ]
  },
  {
   "cell_type": "code",
   "execution_count": 9,
   "id": "95ed2420-ab63-49f6-b36d-1a6cc6f60047",
   "metadata": {},
   "outputs": [
    {
     "data": {
      "text/plain": [
       "'!\"#$%&\\'()*+,-./:;<=>?@[\\\\]^_`{|}~'"
      ]
     },
     "execution_count": 9,
     "metadata": {},
     "output_type": "execute_result"
    }
   ],
   "source": [
    "punctuation"
   ]
  },
  {
   "cell_type": "code",
   "execution_count": 10,
   "id": "0ae8250e-32c7-4038-9c7a-5a8f5cbcc9ed",
   "metadata": {},
   "outputs": [],
   "source": [
    "def delete_words_by_len(s, length = 1):\n",
    "    return ' '.join([w for w in s.split() if len(w)>length])\n",
    "\n",
    "x = np.vectorize(delete_words_by_len)\n",
    "df['text'] = x(df['text'], length = 1)"
   ]
  },
  {
   "cell_type": "code",
   "execution_count": 11,
   "id": "3a9ed882-8230-4f2d-aea5-ea1ef846a8e9",
   "metadata": {},
   "outputs": [
    {
     "name": "stdout",
     "output_type": "stream",
     "text": [
      "2330523\n"
     ]
    },
    {
     "data": {
      "text/plain": [
       "['хоть',\n",
       " 'школота',\n",
       " 'но',\n",
       " 'поверь',\n",
       " 'нас',\n",
       " 'то',\n",
       " 'же',\n",
       " 'самое',\n",
       " 'общество',\n",
       " 'профилирующий']"
      ]
     },
     "execution_count": 11,
     "metadata": {},
     "output_type": "execute_result"
    }
   ],
   "source": [
    "corpus = [token for tweet in df.text for token in word_tokenize(tweet) if token not in punctuation]\n",
    "print(len(corpus))\n",
    "corpus[:10]"
   ]
  },
  {
   "cell_type": "code",
   "execution_count": 12,
   "id": "75e75460-edd7-4b41-bc95-6b085ea0cd08",
   "metadata": {},
   "outputs": [
    {
     "data": {
      "text/plain": [
       "label\n",
       "positive    114911\n",
       "negative    111923\n",
       "Name: count, dtype: int64"
      ]
     },
     "execution_count": 12,
     "metadata": {},
     "output_type": "execute_result"
    }
   ],
   "source": [
    "df.label.value_counts()"
   ]
  },
  {
   "cell_type": "code",
   "execution_count": 13,
   "id": "b3be9798",
   "metadata": {
    "_cell_guid": "50b14740-872b-4852-9c96-6e6dfbbcfde0",
    "_uuid": "faf15945-3ce7-46fe-9269-4c20ea17bdea",
    "collapsed": false,
    "id": "FHKlZcfe9gxq",
    "jupyter": {
     "outputs_hidden": false
    },
    "papermill": {
     "duration": 0.364194,
     "end_time": "2023-08-08T11:42:43.509803",
     "exception": false,
     "start_time": "2023-08-08T11:42:43.145609",
     "status": "completed"
    },
    "tags": []
   },
   "outputs": [],
   "source": [
    "x_train, x_test, y_train, y_test = train_test_split(df.text, df.label)"
   ]
  },
  {
   "cell_type": "code",
   "execution_count": 14,
   "id": "88cc3fc9",
   "metadata": {
    "_cell_guid": "46aec459-c12e-4416-a123-b535a4891053",
    "_uuid": "22cb6de6-5e6f-452b-a4b0-fe3a4fffe1c5",
    "collapsed": false,
    "id": "ZXtZd-icMxjC",
    "jupyter": {
     "outputs_hidden": false
    },
    "papermill": {
     "duration": 0.035398,
     "end_time": "2023-08-08T11:42:43.564713",
     "exception": false,
     "start_time": "2023-08-08T11:42:43.529315",
     "status": "completed"
    },
    "tags": []
   },
   "outputs": [],
   "source": [
    "x_train = x_train.reset_index(drop=True)\n",
    "x_test = x_test.reset_index(drop=True)\n",
    "y_train = y_train.reset_index(drop=True)\n",
    "y_test = y_test.reset_index(drop=True)"
   ]
  },
  {
   "cell_type": "code",
   "execution_count": 15,
   "id": "f0ce6f27",
   "metadata": {
    "_cell_guid": "48b63ff5-375c-4fab-8a5f-69732f663268",
    "_uuid": "bf37173b-4872-42e6-a115-1a14c3a64d74",
    "collapsed": false,
    "id": "p-Y84EYHgK4d",
    "jupyter": {
     "outputs_hidden": false
    },
    "papermill": {
     "duration": 0.072885,
     "end_time": "2023-08-08T11:42:43.656279",
     "exception": false,
     "start_time": "2023-08-08T11:42:43.583394",
     "status": "completed"
    },
    "tags": []
   },
   "outputs": [],
   "source": [
    "y_train_word = y_train.copy()\n",
    "y_train = [1 if elem == 'positive' else 0 for elem in y_train]\n",
    "y_test_word = y_test.copy()\n",
    "y_test = [1 if elem == 'positive' else 0 for elem in y_test]"
   ]
  },
  {
   "cell_type": "code",
   "execution_count": 16,
   "id": "291b533a",
   "metadata": {
    "_cell_guid": "657beea3-1f67-490f-a376-543eca96fbb7",
    "_uuid": "e6f819c5-833f-4b38-823a-048bc1729aba",
    "collapsed": false,
    "id": "BgxI3ZgN-Ovn",
    "jupyter": {
     "outputs_hidden": false
    },
    "outputId": "2d677768-1a07-48d8-d907-7a01350fc8f9",
    "papermill": {
     "duration": 0.145769,
     "end_time": "2023-08-08T11:43:01.276747",
     "exception": false,
     "start_time": "2023-08-08T11:43:01.130978",
     "status": "completed"
    },
    "tags": []
   },
   "outputs": [
    {
     "data": {
      "text/plain": [
       "[('не', 75024),\n",
       " ('на', 38186),\n",
       " ('rt', 37359),\n",
       " ('что', 36097),\n",
       " ('co', 33036),\n",
       " ('как', 23561),\n",
       " ('меня', 21873),\n",
       " ('то', 20881),\n",
       " ('это', 19820),\n",
       " ('так', 19109)]"
      ]
     },
     "execution_count": 16,
     "metadata": {},
     "output_type": "execute_result"
    }
   ],
   "source": [
    "freq_dict = Counter(corpus)\n",
    "freq_dict_sorted= sorted(freq_dict.items(), key=lambda x: -x[1])\n",
    "list(freq_dict_sorted)[:10]"
   ]
  },
  {
   "cell_type": "code",
   "execution_count": 17,
   "id": "63e3cec9",
   "metadata": {
    "_cell_guid": "aca8e1e0-51c7-4161-b1d9-c815f64c5e3c",
    "_uuid": "c63c6998-a34a-4d6b-a7b5-33e3065eba96",
    "collapsed": false,
    "id": "uRwMHNK1ChwF",
    "jupyter": {
     "outputs_hidden": false
    },
    "outputId": "de61abc1-42c5-41e4-cdd1-e5183198ea6f",
    "papermill": {
     "duration": 0.282915,
     "end_time": "2023-08-08T11:43:01.579500",
     "exception": false,
     "start_time": "2023-08-08T11:43:01.296585",
     "status": "completed"
    },
    "tags": []
   },
   "outputs": [
    {
     "data": {
      "image/png": "[encoded data removed]",
      "text/plain": [
       "<Figure size 640x480 with 1 Axes>"
      ]
     },
     "metadata": {},
     "output_type": "display_data"
    }
   ],
   "source": [
    "high_freqs = [freq for word, freq in freq_dict_sorted if freq>200]\n",
    "plt.plot(high_freqs)\n",
    "plt.show()"
   ]
  },
  {
   "cell_type": "code",
   "execution_count": 18,
   "id": "e1b853e4",
   "metadata": {
    "_cell_guid": "6f17fb38-d4d7-4a3e-beb9-5723a832770c",
    "_uuid": "8e7827ff-08f1-487b-8036-0ca66bade60e",
    "collapsed": false,
    "id": "gz01vPUIC0kM",
    "jupyter": {
     "outputs_hidden": false
    },
    "outputId": "430b0d0b-adad-4b42-8123-b80c0e3bd5d8",
    "papermill": {
     "duration": 0.298955,
     "end_time": "2023-08-08T11:43:01.898625",
     "exception": false,
     "start_time": "2023-08-08T11:43:01.599670",
     "status": "completed"
    },
    "tags": []
   },
   "outputs": [
    {
     "data": {
      "image/png": "[encoded data removed]",
      "text/plain": [
       "<Figure size 640x480 with 1 Axes>"
      ]
     },
     "metadata": {},
     "output_type": "display_data"
    }
   ],
   "source": [
    "low_freq = [freq for word, freq in freq_dict_sorted if freq <= 200 and freq > 100]\n",
    "plt.plot(low_freq)\n",
    "plt.show()"
   ]
  },
  {
   "cell_type": "code",
   "execution_count": 19,
   "id": "d4f57589",
   "metadata": {
    "_cell_guid": "7d41d761-2d7f-4ba4-aa90-809090e02b09",
    "_uuid": "d526f688-147a-4a94-ae21-4018b3ba2bb1",
    "collapsed": false,
    "id": "P4JGqNGziyAs",
    "jupyter": {
     "outputs_hidden": false
    },
    "papermill": {
     "duration": 0.046294,
     "end_time": "2023-08-08T11:43:01.965172",
     "exception": false,
     "start_time": "2023-08-08T11:43:01.918878",
     "status": "completed"
    },
    "tags": []
   },
   "outputs": [
    {
     "data": {
      "image/png": "[encoded data removed]",
      "text/plain": [
       "<Figure size 640x480 with 1 Axes>"
      ]
     },
     "metadata": {},
     "output_type": "display_data"
    }
   ],
   "source": [
    "very_low_freq = [freq for word, freq in freq_dict_sorted if freq < 100]\n",
    "plt.plot(very_low_freq)\n",
    "plt.show()"
   ]
  },
  {
   "cell_type": "code",
   "execution_count": 20,
   "id": "e4fa9e41",
   "metadata": {
    "_cell_guid": "a292fc21-951f-4b55-a159-7d1d50e5f21e",
    "_uuid": "2307668b-9ec4-4fe8-b7f9-0b2f9e361c3a",
    "collapsed": false,
    "id": "s0TRqoO0DJQP",
    "jupyter": {
     "outputs_hidden": false
    },
    "outputId": "5aabbf32-9324-4cf5-fff2-d21c66ccd08d",
    "papermill": {
     "duration": 0.029732,
     "end_time": "2023-08-08T11:43:02.295263",
     "exception": false,
     "start_time": "2023-08-08T11:43:02.265531",
     "status": "completed"
    },
    "tags": []
   },
   "outputs": [
    {
     "data": {
      "text/plain": [
       "210063"
      ]
     },
     "execution_count": 20,
     "metadata": {},
     "output_type": "execute_result"
    }
   ],
   "source": [
    "len(freq_dict_sorted)"
   ]
  },
  {
   "cell_type": "code",
   "execution_count": 21,
   "id": "9b9a9ab6-89e6-4697-94a4-be0d82587e75",
   "metadata": {},
   "outputs": [
    {
     "data": {
      "text/plain": [
       "(1166, 1052, 207829)"
      ]
     },
     "execution_count": 21,
     "metadata": {},
     "output_type": "execute_result"
    }
   ],
   "source": [
    "len(high_freqs), len(low_freq), len(very_low_freq)"
   ]
  },
  {
   "cell_type": "code",
   "execution_count": 23,
   "id": "985e1628",
   "metadata": {
    "_cell_guid": "02989aa8-4453-4aff-ae9d-56c73f99b806",
    "_uuid": "b478a8e0-d93e-46e4-a94d-2f2f789cdef5",
    "collapsed": false,
    "id": "6bSsh5umF1hA",
    "jupyter": {
     "outputs_hidden": false
    },
    "papermill": {
     "duration": 1.446804,
     "end_time": "2023-08-08T11:43:03.813309",
     "exception": false,
     "start_time": "2023-08-08T11:43:02.366505",
     "status": "completed"
    },
    "tags": []
   },
   "outputs": [],
   "source": [
    "vectorizer_high_freq = TfidfVectorizer(vocabulary=list(dict(freq_dict_sorted[:len(high_freqs)]).keys()))\n",
    "\n",
    "# Создаем the Bag-of-Words модель\n",
    "bag_of_words_high_freq = vectorizer_high_freq.fit_transform(x_train.values)\n",
    "\n",
    "# Отобразим Bag-of-Words модель как DataFrame\n",
    "feature_names_high_freq = vectorizer_high_freq.get_feature_names_out()\n",
    "df_high_freq_train = pd.DataFrame(bag_of_words_high_freq.toarray(), columns = feature_names_high_freq)\n",
    "bag_of_words_high_freq_test = vectorizer_high_freq.transform(x_test.values)\n",
    "df_high_freq_test = pd.DataFrame(bag_of_words_high_freq_test.toarray(), columns = feature_names_high_freq)"
   ]
  },
  {
   "cell_type": "code",
   "execution_count": 26,
   "id": "a9c9ebd7",
   "metadata": {
    "_cell_guid": "38fef1e3-bb57-4670-a1ff-34856d9791d7",
    "_uuid": "ef13d22f-3442-4dd0-866d-1575bc1f1086",
    "collapsed": false,
    "id": "MgUPtqTZNDiB",
    "jupyter": {
     "outputs_hidden": false
    },
    "papermill": {
     "duration": 6.180997,
     "end_time": "2023-08-08T11:43:10.016101",
     "exception": false,
     "start_time": "2023-08-08T11:43:03.835104",
     "status": "completed"
    },
    "tags": []
   },
   "outputs": [],
   "source": [
    "classifier_high_freq = LogisticRegression(solver='lbfgs', max_iter=1000)\n",
    "classifier_high_freq.fit(df_high_freq_train, y_train)\n",
    "predictions_high_freq_train = classifier_high_freq.predict(df_high_freq_train)\n",
    "predictions_high_freq_test = classifier_high_freq.predict(df_high_freq_test)"
   ]
  },
  {
   "cell_type": "code",
   "execution_count": 27,
   "id": "b414da8c",
   "metadata": {
    "_cell_guid": "df6eab59-ec5a-477c-8508-ead45dd7e22e",
    "_uuid": "db7e56ed-460b-4728-9a96-2c7b9da35b09",
    "collapsed": false,
    "id": "WYlUPkIsZT4D",
    "jupyter": {
     "outputs_hidden": false
    },
    "outputId": "cf864009-a8eb-4efa-9061-2844fe3fd3d0",
    "papermill": {
     "duration": 0.411705,
     "end_time": "2023-08-08T11:43:10.470916",
     "exception": false,
     "start_time": "2023-08-08T11:43:10.059211",
     "status": "completed"
    },
    "tags": []
   },
   "outputs": [
    {
     "name": "stdout",
     "output_type": "stream",
     "text": [
      "              precision    recall  f1-score   support\n",
      "\n",
      "           0       0.68      0.71      0.69     79603\n",
      "           1       0.73      0.70      0.72     90522\n",
      "\n",
      "    accuracy                           0.71    170125\n",
      "   macro avg       0.70      0.71      0.70    170125\n",
      "weighted avg       0.71      0.71      0.71    170125\n",
      "\n"
     ]
    }
   ],
   "source": [
    "print(classification_report(predictions_high_freq_train, y_train))"
   ]
  },
  {
   "cell_type": "code",
   "execution_count": 28,
   "id": "450299e3",
   "metadata": {
    "_cell_guid": "6acef5f8-6343-4e96-9f2d-f53bec69a9f9",
    "_uuid": "b108f0a3-6b76-4a1f-8df9-1a08f0499d23",
    "collapsed": false,
    "id": "DgpcKk15ZFTH",
    "jupyter": {
     "outputs_hidden": false
    },
    "outputId": "502776d8-3807-4298-c48d-b3b2b6313400",
    "papermill": {
     "duration": 0.140091,
     "end_time": "2023-08-08T11:43:10.632808",
     "exception": false,
     "start_time": "2023-08-08T11:43:10.492717",
     "status": "completed"
    },
    "tags": []
   },
   "outputs": [
    {
     "name": "stdout",
     "output_type": "stream",
     "text": [
      "              precision    recall  f1-score   support\n",
      "\n",
      "           0       0.67      0.71      0.69     26636\n",
      "           1       0.73      0.69      0.71     30073\n",
      "\n",
      "    accuracy                           0.70     56709\n",
      "   macro avg       0.70      0.70      0.70     56709\n",
      "weighted avg       0.70      0.70      0.70     56709\n",
      "\n"
     ]
    }
   ],
   "source": [
    "print(classification_report(predictions_high_freq_test, y_test))"
   ]
  },
  {
   "cell_type": "code",
   "execution_count": 29,
   "id": "75dadc88",
   "metadata": {
    "_cell_guid": "e35e427b-e72f-4f3a-a3d4-de2beb50d198",
    "_uuid": "f1cb5ab1-8ac8-4087-943e-2eacccc60c58",
    "collapsed": false,
    "id": "cxD_EOYwZWqj",
    "jupyter": {
     "outputs_hidden": false
    },
    "papermill": {
     "duration": 2.300008,
     "end_time": "2023-08-08T11:43:12.954083",
     "exception": false,
     "start_time": "2023-08-08T11:43:10.654075",
     "status": "completed"
    },
    "tags": []
   },
   "outputs": [],
   "source": [
    "vectorizer_low_freq = TfidfVectorizer(vocabulary=list(dict(freq_dict_sorted[len(high_freqs):len(low_freq)+len(high_freqs)]).keys()))\n",
    "\n",
    "# Создаем the Bag-of-Words модель\n",
    "bag_of_words_low_freq = vectorizer_low_freq.fit_transform(x_train.values)\n",
    "\n",
    "# Отобразим Bag-of-Words модель как DataFrame\n",
    "feature_names_low_freq = vectorizer_low_freq.get_feature_names_out()\n",
    "df_low_freq_train = pd.DataFrame(bag_of_words_low_freq.toarray(), columns = feature_names_low_freq)\n",
    "bag_of_words_low_freq_test = vectorizer_low_freq.transform(x_test.values)\n",
    "df_low_freq_test = pd.DataFrame(bag_of_words_low_freq_test.toarray(), columns = feature_names_low_freq)"
   ]
  },
  {
   "cell_type": "code",
   "execution_count": 30,
   "id": "283850e8",
   "metadata": {
    "_cell_guid": "ff46ad7e-7703-49bb-9011-7e744148a92e",
    "_uuid": "14887b9b-e59d-4916-915f-cf00bb558f4a",
    "collapsed": false,
    "id": "lyh-lsyObgL3",
    "jupyter": {
     "outputs_hidden": false
    },
    "papermill": {
     "duration": 323.15409,
     "end_time": "2023-08-08T11:48:36.129156",
     "exception": false,
     "start_time": "2023-08-08T11:43:12.975066",
     "status": "completed"
    },
    "tags": []
   },
   "outputs": [],
   "source": [
    "classifier_low_freq = LogisticRegression(solver='lbfgs', max_iter=1000)\n",
    "classifier_low_freq.fit(df_low_freq_train, y_train)\n",
    "predictions_low_freq_train = classifier_low_freq.predict(df_low_freq_train)\n",
    "predictions_low_freq_test = classifier_low_freq.predict(df_low_freq_test)"
   ]
  },
  {
   "cell_type": "code",
   "execution_count": 31,
   "id": "5fd1f3c0",
   "metadata": {
    "_cell_guid": "c34ab4ba-9dee-457b-abf5-d8db9ee6dc85",
    "_uuid": "cc48332e-e1c5-42be-9919-0d2b98987f1e",
    "collapsed": false,
    "id": "rsv4j_zVbqCs",
    "jupyter": {
     "outputs_hidden": false
    },
    "outputId": "5fda5b5b-1b97-4fb0-a10f-92da736184d9",
    "papermill": {
     "duration": 0.384727,
     "end_time": "2023-08-08T11:48:36.612666",
     "exception": false,
     "start_time": "2023-08-08T11:48:36.227939",
     "status": "completed"
    },
    "tags": []
   },
   "outputs": [
    {
     "name": "stdout",
     "output_type": "stream",
     "text": [
      "              precision    recall  f1-score   support\n",
      "\n",
      "           0       0.27      0.65      0.38     34786\n",
      "           1       0.86      0.55      0.67    135339\n",
      "\n",
      "    accuracy                           0.57    170125\n",
      "   macro avg       0.56      0.60      0.52    170125\n",
      "weighted avg       0.74      0.57      0.61    170125\n",
      "\n"
     ]
    }
   ],
   "source": [
    "print(classification_report(predictions_low_freq_train, y_train))"
   ]
  },
  {
   "cell_type": "code",
   "execution_count": 32,
   "id": "73d6d633",
   "metadata": {
    "_cell_guid": "ddc02b8f-1614-43c4-af09-6ca780639d96",
    "_uuid": "6395d5f5-6493-42b7-a2a7-1864466b7ea5",
    "collapsed": false,
    "id": "0QoE5H13btvs",
    "jupyter": {
     "outputs_hidden": false
    },
    "outputId": "e3101506-8207-4993-f5b4-5af2602d9b42",
    "papermill": {
     "duration": 0.133288,
     "end_time": "2023-08-08T11:48:36.767157",
     "exception": false,
     "start_time": "2023-08-08T11:48:36.633869",
     "status": "completed"
    },
    "tags": []
   },
   "outputs": [
    {
     "name": "stdout",
     "output_type": "stream",
     "text": [
      "              precision    recall  f1-score   support\n",
      "\n",
      "           0       0.26      0.63      0.37     11524\n",
      "           1       0.85      0.54      0.66     45185\n",
      "\n",
      "    accuracy                           0.56     56709\n",
      "   macro avg       0.56      0.59      0.51     56709\n",
      "weighted avg       0.73      0.56      0.60     56709\n",
      "\n"
     ]
    }
   ],
   "source": [
    "print(classification_report(predictions_low_freq_test, y_test))"
   ]
  },
  {
   "cell_type": "markdown",
   "id": "4e0ec58d-2dcb-4ba4-a3d3-800d7a347a72",
   "metadata": {},
   "source": [
    "Сравнил токенты с высокой частотой по сравнению со средней частотой, можно предположить что токены с высокой частотой более важны, но с увеличением числа токенов со средней частотой их точность будет выравниваться."
   ]
  },
  {
   "cell_type": "code",
   "execution_count": 40,
   "id": "4d68a755-bd17-4c42-b41e-f9dce01ecdb1",
   "metadata": {},
   "outputs": [
    {
     "data": {
      "text/plain": [
       "['хоть',\n",
       " 'школота',\n",
       " 'но',\n",
       " 'поверь',\n",
       " 'нас',\n",
       " 'то',\n",
       " 'же',\n",
       " 'самое',\n",
       " 'общество',\n",
       " 'профилирующий',\n",
       " 'предмет',\n",
       " 'типа',\n",
       " 'да',\n",
       " 'все',\n",
       " 'таки',\n",
       " 'он',\n",
       " 'немного',\n",
       " 'похож',\n",
       " 'на',\n",
       " 'него',\n",
       " 'мой',\n",
       " 'мальчик',\n",
       " 'равно',\n",
       " 'лучше',\n",
       " 'rt',\n",
       " 'ну',\n",
       " 'ты',\n",
       " 'идиотка',\n",
       " 'испугалась',\n",
       " 'за',\n",
       " 'тебя',\n",
       " 'кто',\n",
       " 'углу',\n",
       " 'сидит',\n",
       " 'погибает',\n",
       " 'от',\n",
       " 'голода',\n",
       " 'мы',\n",
       " 'ещё',\n",
       " 'порции',\n",
       " 'взяли',\n",
       " 'хотя',\n",
       " 'уже',\n",
       " 'так',\n",
       " 'жрать',\n",
       " 'не',\n",
       " 'хотим',\n",
       " 'dd',\n",
       " 'co',\n",
       " 'gqg6iue2',\n",
       " 'вот',\n",
       " 'что',\n",
       " 'значит',\n",
       " 'страшилка',\n",
       " 'блин',\n",
       " 'посмотрев',\n",
       " 'части',\n",
       " 'создастся',\n",
       " 'ощущение',\n",
       " 'авторы',\n",
       " 'курили',\n",
       " 'любишь',\n",
       " 'или',\n",
       " 'нет',\n",
       " 'знаю',\n",
       " 'бля',\n",
       " 'brf9eng1u6',\n",
       " 'ох',\n",
       " '900',\n",
       " 'это',\n",
       " 'конечно',\n",
       " 'чтобы',\n",
       " 'нее',\n",
       " 'было',\n",
       " 'много',\n",
       " 'друзей',\n",
       " 'ведь',\n",
       " 'она',\n",
       " 'такая',\n",
       " 'мимими',\n",
       " 'lt',\n",
       " 'есть',\n",
       " 'ухажёр',\n",
       " 'мои',\n",
       " 'уши',\n",
       " 'жрёт',\n",
       " 'поприветствуем',\n",
       " 'моего',\n",
       " 'нового',\n",
       " 'читателя',\n",
       " 'теперь',\n",
       " 'меня',\n",
       " 'частичка',\n",
       " 'сиднея',\n",
       " 'operahouse',\n",
       " 'agnto3czei',\n",
       " 'люблю',\n",
       " 'маму',\n",
       " 'папу',\n",
       " 'остальное',\n",
       " 'влюбляюсь',\n",
       " 'привязываюсь',\n",
       " 'как',\n",
       " 'забыла',\n",
       " 'вчера',\n",
       " 'приехал',\n",
       " 'из',\n",
       " 'деревни',\n",
       " 'наш',\n",
       " 'котэня',\n",
       " 'когда',\n",
       " 'утром',\n",
       " 'пришел',\n",
       " 'ко',\n",
       " 'мне',\n",
       " 'общаться',\n",
       " 'доброе',\n",
       " 'задумано',\n",
       " 'дааааа',\n",
       " 'только',\n",
       " 'вы',\n",
       " 'всё',\n",
       " 'обзоры',\n",
       " 'урезаете',\n",
       " 'просто',\n",
       " 'одна',\n",
       " 'версия',\n",
       " 'сильно',\n",
       " 'порезанная',\n",
       " 'другая',\n",
       " 'полная',\n",
       " 'без',\n",
       " 'мусора',\n",
       " 'смотри',\n",
       " 'там',\n",
       " 'случайно',\n",
       " 'аспирантуру',\n",
       " 'попади',\n",
       " 'наука',\n",
       " 'никого',\n",
       " 'до',\n",
       " 'добра',\n",
       " 'доводила',\n",
       " 'эхх',\n",
       " 'угату',\n",
       " 'контрольных',\n",
       " 'предупреждают',\n",
       " 'контрольной',\n",
       " 'подумала',\n",
       " 'пробежечка',\n",
       " 'зря',\n",
       " 'этой',\n",
       " 'хуйней',\n",
       " 'шутите',\n",
       " 'историй',\n",
       " 'наблюдал',\n",
       " 'режиме',\n",
       " 'рил',\n",
       " 'времени',\n",
       " 'по',\n",
       " 'работе',\n",
       " 'русскими',\n",
       " 'которые',\n",
       " 'разбивались',\n",
       " 'них',\n",
       " 'очень',\n",
       " 'главное',\n",
       " 'спасибо',\n",
       " 'for',\n",
       " 'медвед',\n",
       " 'работал',\n",
       " 'клоуном',\n",
       " 'аниматором',\n",
       " 'прекрасная',\n",
       " 'история',\n",
       " 'сдохнуть',\n",
       " 'неделю',\n",
       " 'сегодня',\n",
       " 'столько',\n",
       " 'поводов',\n",
       " 'выпить',\n",
       " 'могу',\n",
       " 'усидеть',\n",
       " 'месте',\n",
       " 'унылый',\n",
       " 'наверное',\n",
       " 'вдруг',\n",
       " 'его',\n",
       " 'перед',\n",
       " 'этим',\n",
       " 'чпокнули',\n",
       " 'при',\n",
       " 'поддержке',\n",
       " 'администрации',\n",
       " 'мо',\n",
       " 'белевский',\n",
       " 'район',\n",
       " 'сборная',\n",
       " 'белевского',\n",
       " 'района',\n",
       " 'хооорошо',\n",
       " 'валяться',\n",
       " 'бедный',\n",
       " 'обколотый',\n",
       " 'попец',\n",
       " 'хочет',\n",
       " 'прогулку',\n",
       " 'xugobjeb9c',\n",
       " 'кого',\n",
       " 'заебись',\n",
       " 'настюх',\n",
       " 'рада',\n",
       " 'пиздец',\n",
       " 'прям',\n",
       " 'искренне',\n",
       " 'справедливость',\n",
       " 'свете',\n",
       " 'почему',\n",
       " 'похуй',\n",
       " 'новерное',\n",
       " 'потому',\n",
       " 'еще',\n",
       " 'ночь',\n",
       " 'темная',\n",
       " 'хочется',\n",
       " 'писать',\n",
       " 'всякую',\n",
       " 'хуйню',\n",
       " 'пишу',\n",
       " 'бы',\n",
       " 'расскажите',\n",
       " 'чем',\n",
       " 'для',\n",
       " 'epzvfgflfa',\n",
       " 'первому',\n",
       " 'смотрю',\n",
       " 'поэтому',\n",
       " 'качаю',\n",
       " 'инете',\n",
       " 'найди',\n",
       " 'группу',\n",
       " 'вк',\n",
       " 'оттепель',\n",
       " 'думаю',\n",
       " 'серии',\n",
       " 'предвкушение',\n",
       " 'потрясающего',\n",
       " 'уикенда',\n",
       " 'праздник',\n",
       " 'света',\n",
       " 'гулять',\n",
       " 'ночи',\n",
       " 'напролет',\n",
       " 'любоваться',\n",
       " 'огнями',\n",
       " 'рааааааад',\n",
       " 'впереди',\n",
       " 'вся',\n",
       " 'сериалы',\n",
       " 'фильмы',\n",
       " 'книга',\n",
       " 'кофе',\n",
       " 'идеальная',\n",
       " 'ночка',\n",
       " 'списком',\n",
       " 'надо',\n",
       " 'всем',\n",
       " 'гамузом',\n",
       " 'il0y1evqy7',\n",
       " 'электрогенератор',\n",
       " 'qjlwirfd3a',\n",
       " 'изсостоек',\n",
       " 'победим',\n",
       " 'фоток',\n",
       " 'позже',\n",
       " 'тогда',\n",
       " 'кину',\n",
       " 'второй',\n",
       " 'день',\n",
       " 'подряд',\n",
       " 'снятся',\n",
       " 'сны',\n",
       " 'ромой',\n",
       " 'сошла',\n",
       " 'ума',\n",
       " 'слушай',\n",
       " 'коть',\n",
       " 'можно',\n",
       " 'боком',\n",
       " 'встану',\n",
       " 'получается',\n",
       " 'наоборот',\n",
       " 'этот',\n",
       " 'лучший',\n",
       " 'человек',\n",
       " 'почти',\n",
       " 'каждых',\n",
       " 'пиратах',\n",
       " 'рт',\n",
       " 'неимоверно',\n",
       " 'радует',\n",
       " 'своими',\n",
       " 'политическими',\n",
       " 'позициями',\n",
       " 'отсутствии',\n",
       " 'понимания',\n",
       " 'фактов',\n",
       " 'оля',\n",
       " 'добрая',\n",
       " 'самом',\n",
       " 'деле',\n",
       " 'сучка',\n",
       " 'злая',\n",
       " 'бу',\n",
       " 'та',\n",
       " 'тварь',\n",
       " 'заметь',\n",
       " 'сама',\n",
       " 'сказала',\n",
       " 'их',\n",
       " 'иду',\n",
       " 'завтра',\n",
       " 'школу',\n",
       " 'первый',\n",
       " 'раз',\n",
       " 'мама',\n",
       " 'настойчиво',\n",
       " 'отпускала',\n",
       " 'спасиибки',\n",
       " 'нравятся',\n",
       " 'мужчины',\n",
       " 'строгих',\n",
       " 'костюмах',\n",
       " 'млею',\n",
       " 'пушистая',\n",
       " 'скотина',\n",
       " 'тоже',\n",
       " 'дрыхнет',\n",
       " 'круглые',\n",
       " 'сутки',\n",
       " 'просыпается',\n",
       " 'чтоб',\n",
       " 'поорать',\n",
       " 'возле',\n",
       " 'миски',\n",
       " 'ахаха',\n",
       " 'нормээ',\n",
       " 'моим',\n",
       " 'врачем',\n",
       " 'ничего',\n",
       " 'страшно',\n",
       " 'встречайте',\n",
       " 'супер',\n",
       " 'одногруппницы',\n",
       " 'будущие',\n",
       " 'историки',\n",
       " 'искусства',\n",
       " 'моды',\n",
       " 'zge3px3f8p',\n",
       " 'вас',\n",
       " 'покидаю',\n",
       " 'результаты',\n",
       " 'гляну',\n",
       " 'вечером',\n",
       " 'дыы',\n",
       " 'сказал',\n",
       " 'поняла',\n",
       " 'ааххах',\n",
       " '4dcafcmxdl',\n",
       " 'приехали',\n",
       " 'родное',\n",
       " 'селенье',\n",
       " 'москва',\n",
       " 'рига',\n",
       " '1mn85mnxwb',\n",
       " 'уй',\n",
       " 'ваши',\n",
       " 'канары',\n",
       " 'мальдивы',\n",
       " 'тут',\n",
       " 'новая',\n",
       " 'тема',\n",
       " 'проскочила',\n",
       " 'j8phbhhigd',\n",
       " 'стояк',\n",
       " 'снова',\n",
       " 'вселенная',\n",
       " 'вернула',\n",
       " 'свои',\n",
       " 'места',\n",
       " 'прифетигг',\n",
       " 'солныско',\n",
       " 'каг',\n",
       " 'тфаи',\n",
       " 'дила',\n",
       " 'мну',\n",
       " 'сичас',\n",
       " 'фф',\n",
       " 'больниську',\n",
       " 'идеть',\n",
       " 'логопеду',\n",
       " 'нашла',\n",
       " 'фоточку',\n",
       " 'иг',\n",
       " 'нагло',\n",
       " 'спиздила',\n",
       " 'фотографиями',\n",
       " 'статусы',\n",
       " 'вконтакте',\n",
       " 'бывают',\n",
       " 'нижнем',\n",
       " 'слякотная',\n",
       " 'погода',\n",
       " 'брр',\n",
       " 'офигенный',\n",
       " 'привоз',\n",
       " 'заходим',\n",
       " '9jmnttacfe',\n",
       " 'короче',\n",
       " 'видимо',\n",
       " 'ни',\n",
       " 'какой',\n",
       " 'архитектурный',\n",
       " 'капец',\n",
       " '18',\n",
       " 'сделаешь',\n",
       " 'дарья',\n",
       " 'плак',\n",
       " 'надеюсь',\n",
       " 'драфте',\n",
       " 'вытяну',\n",
       " 'моя',\n",
       " 'кроме',\n",
       " 'просится',\n",
       " 'балкон',\n",
       " 'хвост',\n",
       " 'поморозить',\n",
       " 'минуту',\n",
       " 'посидит',\n",
       " 'назад',\n",
       " 'каждому',\n",
       " 'болеть',\n",
       " 'тебе',\n",
       " 'друзья',\n",
       " 'гости',\n",
       " 'ходят',\n",
       " 'мам',\n",
       " 'хреново',\n",
       " 'выпей',\n",
       " 'таблетку',\n",
       " 'работу',\n",
       " 'следующей',\n",
       " 'недели',\n",
       " 'пойдем',\n",
       " 'сауну',\n",
       " 'умеет',\n",
       " 'поддержать',\n",
       " 'добавить',\n",
       " 'стимула',\n",
       " 'тысячи',\n",
       " 'дорого',\n",
       " 'пальто',\n",
       " 'лол',\n",
       " 'криса',\n",
       " 'стоит',\n",
       " 'меньше',\n",
       " '200',\n",
       " 'тыс',\n",
       " 'рублей',\n",
       " 'мило',\n",
       " 'парни',\n",
       " 'ставят',\n",
       " 'аву',\n",
       " 'детские',\n",
       " 'фотографии',\n",
       " 'qvqjuz842z',\n",
       " 'опа',\n",
       " 'дома',\n",
       " 'помнишь',\n",
       " 'должен',\n",
       " 'приятно',\n",
       " 'ахах',\n",
       " 'под',\n",
       " 'столой',\n",
       " 'лежала',\n",
       " 'потухнет',\n",
       " 'погаснет',\n",
       " 'другое',\n",
       " 'кстати',\n",
       " 'после',\n",
       " 'сегодняшнего',\n",
       " 'кроху',\n",
       " 'ненавижу',\n",
       " 'больше',\n",
       " 'год',\n",
       " 'соскучилась',\n",
       " 'чего',\n",
       " 'забросила',\n",
       " 'прекрасных',\n",
       " 'мужчин',\n",
       " 'понимаю',\n",
       " 'вышел',\n",
       " 'прокатится',\n",
       " 'через',\n",
       " '15',\n",
       " 'минут',\n",
       " 'зашёл',\n",
       " 'весь',\n",
       " 'мокрый',\n",
       " 'дождь',\n",
       " 'полил',\n",
       " 'татуировка',\n",
       " 'фото',\n",
       " 'студию',\n",
       " 'ого',\n",
       " 'будет',\n",
       " 'попробовать',\n",
       " 'следующий',\n",
       " 'ахахаха',\n",
       " 'полдня',\n",
       " 'играла',\n",
       " 'обломова',\n",
       " 'примерно',\n",
       " 'полчетвертого',\n",
       " 'кинопоиске',\n",
       " 'сделали',\n",
       " 'саундтреки',\n",
       " 'знала',\n",
       " 'удобнено',\n",
       " 'тви',\n",
       " 'наполнен',\n",
       " 'долгожданным',\n",
       " 'снегом',\n",
       " 'года',\n",
       " 'бросает',\n",
       " 'pmexoxro9h',\n",
       " 'просрала',\n",
       " 'кравченко',\n",
       " 'метры',\n",
       " 'хуй',\n",
       " 'инстаграмм',\n",
       " 'зайдет',\n",
       " 'лежу',\n",
       " 'кровати',\n",
       " 'закуталась',\n",
       " 'вкусняшек',\n",
       " 'нибудь',\n",
       " 'принес',\n",
       " 'давай',\n",
       " 'воронеж',\n",
       " 'ждет',\n",
       " 'распростертыми',\n",
       " 'объятиями',\n",
       " 'сижу',\n",
       " 'братиком',\n",
       " 'гадкий',\n",
       " 'едем',\n",
       " 'мосту',\n",
       " 'со',\n",
       " 'скоростью',\n",
       " '20',\n",
       " 'км',\n",
       " 'донт',\n",
       " 'вори',\n",
       " 'доставило',\n",
       " 'ахахахха',\n",
       " 'прости',\n",
       " 'занят',\n",
       " 'обязательно',\n",
       " 'покажешь',\n",
       " 'всеееех',\n",
       " 'ddddd',\n",
       " 'перемен',\n",
       " 'ждала',\n",
       " 'дождалась',\n",
       " 'буду',\n",
       " 'ждать',\n",
       " 'лето',\n",
       " 'выдался',\n",
       " 'удачным',\n",
       " 'ожидала',\n",
       " 'худшего',\n",
       " 'даже',\n",
       " 'настроение',\n",
       " 'отличное',\n",
       " 'несмотря',\n",
       " 'ночью',\n",
       " 'часов',\n",
       " 'проспала',\n",
       " 'дааа',\n",
       " 'приезжай',\n",
       " 'загорать',\n",
       " 'сразу',\n",
       " 'чай',\n",
       " 'этажом',\n",
       " 'выше',\n",
       " 'песни',\n",
       " 'андрей',\n",
       " 'успехов',\n",
       " 'вам',\n",
       " 'bdm6bxsoan',\n",
       " 'айгуль',\n",
       " 'маратовна',\n",
       " 'сколько',\n",
       " 'ппт',\n",
       " '10',\n",
       " 'щедрость',\n",
       " 'заканчивать',\n",
       " 'человечность',\n",
       " 'радостных',\n",
       " 'выходных',\n",
       " 'mdbsfzf5ml',\n",
       " 'помощью',\n",
       " 'классная',\n",
       " 'позвала',\n",
       " 'клуб',\n",
       " 'мммммммм',\n",
       " 'интересно',\n",
       " 'ахахаххаха',\n",
       " 'ой',\n",
       " 'angel',\n",
       " 'beats',\n",
       " 'начинается',\n",
       " '11',\n",
       " 'апреля',\n",
       " 'весна',\n",
       " 'становится',\n",
       " 'интереснее',\n",
       " 'опять',\n",
       " 'ли',\n",
       " 'подозреваешь',\n",
       " 'знать',\n",
       " 'насколько',\n",
       " 'разных',\n",
       " 'городах',\n",
       " 'живём',\n",
       " 'обломались',\n",
       " 'твитером',\n",
       " 'скучно',\n",
       " 'стало',\n",
       " 'оно',\n",
       " 'смотрела',\n",
       " 'клоунов',\n",
       " 'ostap',\n",
       " 'cae',\n",
       " 'group',\n",
       " 'девиз',\n",
       " 'остапа',\n",
       " 'понесло',\n",
       " 'никогда',\n",
       " 'заканчиваем',\n",
       " 'спикинг',\n",
       " 'вовремя',\n",
       " 'дежурить',\n",
       " 'хомой',\n",
       " 'саней',\n",
       " 'ахуенно',\n",
       " 'ибо',\n",
       " 'нихуя',\n",
       " 'делаешь',\n",
       " 'весело',\n",
       " 'говорят',\n",
       " 'сейчас',\n",
       " 'такие',\n",
       " 'портфели',\n",
       " 'мода',\n",
       " 'городе',\n",
       " 'правда',\n",
       " 'malgjkokvv',\n",
       " 'ые',\n",
       " 'пришли',\n",
       " 'запредельно',\n",
       " 'радуюсь',\n",
       " 'часы',\n",
       " 'черного',\n",
       " 'цвета',\n",
       " 'двойная',\n",
       " 'радость',\n",
       " 'obxekau1g1',\n",
       " 'любит',\n",
       " 'прикольно',\n",
       " 'мкаду',\n",
       " 'лыжах',\n",
       " '80',\n",
       " 'шпарить',\n",
       " 'одной',\n",
       " 'девочки',\n",
       " 'фамилия',\n",
       " 'тимофеева',\n",
       " 'была',\n",
       " 'пальцы',\n",
       " 'совсем',\n",
       " 'отвыкли',\n",
       " 'гитары',\n",
       " 'практически',\n",
       " 'расстроена',\n",
       " 'классе',\n",
       " 'учиться',\n",
       " 'англичанке',\n",
       " 'нашей',\n",
       " 'время',\n",
       " 'работаешь',\n",
       " 'нееет',\n",
       " 'какие',\n",
       " 'дни',\n",
       " 'свободна',\n",
       " 'во',\n",
       " 'пн',\n",
       " 'вт',\n",
       " 'ср',\n",
       " 'чт',\n",
       " 'пт',\n",
       " 'сб',\n",
       " 'вс',\n",
       " 'эмм',\n",
       " 'ясно',\n",
       " 'сердце',\n",
       " 'заходилось',\n",
       " 'объявляли',\n",
       " 'номинантов',\n",
       " 'будто',\n",
       " 'лично',\n",
       " 'участвую',\n",
       " 'осторожно',\n",
       " 'котлетку',\n",
       " 'перекладываю',\n",
       " 'др',\n",
       " 'посуду',\n",
       " 'единственное',\n",
       " 'расстраивает',\n",
       " 'бали',\n",
       " 'невозможность',\n",
       " 'сходить',\n",
       " 'кинотеатр',\n",
       " 'друзьями',\n",
       " 'интересный',\n",
       " 'фильм',\n",
       " 'базарнов',\n",
       " 'спрашивал',\n",
       " 'сушиться',\n",
       " 'парень',\n",
       " 'весит',\n",
       " 'всего',\n",
       " '60',\n",
       " 'кг',\n",
       " 'где',\n",
       " 'ему',\n",
       " 'пора',\n",
       " 'маловато',\n",
       " 'незлобин',\n",
       " 'всеми',\n",
       " 'твоими',\n",
       " 'истериками',\n",
       " 'солнышко',\n",
       " 'урааа',\n",
       " 'говорила',\n",
       " 'свое',\n",
       " 'ношу',\n",
       " 'собой',\n",
       " 'хорошая',\n",
       " 'штука',\n",
       " 'теме',\n",
       " 'регистрируемся',\n",
       " 'получаем',\n",
       " 'бонус',\n",
       " 'wz9ldhqnqo',\n",
       " 'лента',\n",
       " 'сих',\n",
       " 'пор',\n",
       " 'может',\n",
       " 'угомониться',\n",
       " 'ай',\n",
       " 'эм',\n",
       " 'голос',\n",
       " 'билла',\n",
       " 'соглашусь',\n",
       " 'бл',\n",
       " 'они',\n",
       " 'написали',\n",
       " 'раста',\n",
       " 'песню',\n",
       " 'дизайнер',\n",
       " 'большой',\n",
       " 'буквы',\n",
       " 'дней',\n",
       " 'белые',\n",
       " 'носки',\n",
       " 'становятся',\n",
       " 'черными',\n",
       " 'проходя',\n",
       " '50',\n",
       " 'оттенков',\n",
       " 'серого',\n",
       " 'кама',\n",
       " 'совести',\n",
       " 'почувствовала',\n",
       " 'такое',\n",
       " 'цена',\n",
       " 'билет',\n",
       " 'квн',\n",
       " 'сегодняшний',\n",
       " 'финал',\n",
       " '000',\n",
       " 'балконе',\n",
       " 'plvnmgslah',\n",
       " 'москвичи',\n",
       " 'понятиям',\n",
       " 'привыкли',\n",
       " 'могут',\n",
       " 'позорище',\n",
       " 'начальство',\n",
       " 'вызывают',\n",
       " 'такой',\n",
       " 'снежок',\n",
       " 'идёт',\n",
       " 'мммм',\n",
       " '___',\n",
       " 'улице',\n",
       " 'волшебно',\n",
       " 'комп',\n",
       " 'выдерживает',\n",
       " 'такого',\n",
       " 'напора',\n",
       " 'будущая',\n",
       " 'работа',\n",
       " 'дигистировать',\n",
       " 'балык',\n",
       " 'dwn5we7xua',\n",
       " 'ставит',\n",
       " 'readonly',\n",
       " 'своих',\n",
       " 'топиках',\n",
       " 'начинают',\n",
       " 'люди',\n",
       " 'тихо',\n",
       " 'пялиться',\n",
       " 'стар',\n",
       " 'давно',\n",
       " 'zbdmgrfrni',\n",
       " 'юля',\n",
       " 'знает',\n",
       " 'куда',\n",
       " 'соберемся',\n",
       " 'поехать',\n",
       " 'ей',\n",
       " 'стукнет',\n",
       " 'жаль',\n",
       " '2180',\n",
       " 'году',\n",
       " 'опоздаем',\n",
       " 'попиздил',\n",
       " 'патихардит',\n",
       " 'ухахах',\n",
       " 'хз',\n",
       " 'вернусь',\n",
       " 'час',\n",
       " 'удачного',\n",
       " 'времяпровождения',\n",
       " 'страшную',\n",
       " 'тайну',\n",
       " 'зачем',\n",
       " 'монитора',\n",
       " 'ножка',\n",
       " 'имеет',\n",
       " 'круглую',\n",
       " 'основу',\n",
       " '9wk8hsjufs',\n",
       " 'ааа',\n",
       " 'точно',\n",
       " 'недавно',\n",
       " 'версии',\n",
       " 'пк',\n",
       " 'другому',\n",
       " 'показываться',\n",
       " 'стали',\n",
       " 'влюбляешься',\n",
       " 'автоматически',\n",
       " 'классные',\n",
       " 'слова',\n",
       " 'нг',\n",
       " 'придти',\n",
       " 'интересует',\n",
       " 'читающие',\n",
       " 'смотрят',\n",
       " 'сериал',\n",
       " 'им',\n",
       " 'читать',\n",
       " 'спойлеры',\n",
       " 'медалью',\n",
       " 'походу',\n",
       " 'тьфу',\n",
       " 'alexfilmfreak',\n",
       " 'обещал',\n",
       " 'действительно',\n",
       " 'времена',\n",
       " 'были',\n",
       " 'voamx7jtee',\n",
       " 'зиму',\n",
       " 'сам',\n",
       " 'эффекты',\n",
       " 'добавил',\n",
       " 'gif',\n",
       " 'sek4nqf5tr',\n",
       " 'придет',\n",
       " 'перевод',\n",
       " 'нужно',\n",
       " 'заплатить',\n",
       " 'комиссию',\n",
       " '43',\n",
       " '90',\n",
       " 'получения',\n",
       " 'сгущёнки',\n",
       " 'g072azt4en',\n",
       " 'ура',\n",
       " 'первая',\n",
       " 'победа',\n",
       " 'выезде',\n",
       " 'этом',\n",
       " 'сезоне',\n",
       " 'наконец',\n",
       " 'основное',\n",
       " 'взял',\n",
       " 'комплект',\n",
       " 'приемник',\n",
       " 'чудный',\n",
       " 'беспроводное',\n",
       " 'батарейках',\n",
       " 'прекрасное',\n",
       " 'утро',\n",
       " 'проснулась',\n",
       " 'полчаса',\n",
       " 'окном',\n",
       " 'снежоок',\n",
       " 'подстраиваетесь',\n",
       " 'чью',\n",
       " 'своя',\n",
       " 'валяй',\n",
       " 'панд',\n",
       " 'гони',\n",
       " 'тожи',\n",
       " 'панды',\n",
       " 'ссылку',\n",
       " 'всём',\n",
       " 'саду',\n",
       " 'воспитатели',\n",
       " 'происходит',\n",
       " 'группе',\n",
       " 'imj4perehz',\n",
       " 'проходят',\n",
       " 'мимо',\n",
       " 'две',\n",
       " 'девушки',\n",
       " 'крикну',\n",
       " 'третью',\n",
       " 'зовут',\n",
       " 'держу',\n",
       " 'кулачки',\n",
       " 'хайда',\n",
       " 'желаю',\n",
       " 'взорвать',\n",
       " 'спокойствие',\n",
       " 'питерской',\n",
       " 'публики',\n",
       " '7101akdtby',\n",
       " 'волчара',\n",
       " 'позорная',\n",
       " 'гостевая',\n",
       " 'динамо',\n",
       " 'вместе',\n",
       " 'любомиром',\n",
       " 'поковичем',\n",
       " 'хауген',\n",
       " 'красавец',\n",
       " 'ихихи',\n",
       " 'экзаменов',\n",
       " 'осталось',\n",
       " 'закончилась',\n",
       " 'рабочая',\n",
       " 'неделя',\n",
       " 'отпраздновать',\n",
       " 'ее',\n",
       " 'gdbk5q3scz',\n",
       " 'dfdtp4ih82',\n",
       " 'сомнений',\n",
       " 'будильники',\n",
       " 'реально',\n",
       " 'работают',\n",
       " 'wp',\n",
       " 'переходить',\n",
       " 'новости',\n",
       " 'про',\n",
       " 'виталика',\n",
       " 'шоке',\n",
       " 'лох',\n",
       " 'ожидании',\n",
       " 'оксана',\n",
       " 'упала',\n",
       " 'голой',\n",
       " 'кровать',\n",
       " 'обалдели',\n",
       " ...]"
      ]
     },
     "execution_count": 40,
     "metadata": {},
     "output_type": "execute_result"
    }
   ],
   "source": [
    "words=[word for word in freq_dict.keys()]\n",
    "words"
   ]
  },
  {
   "cell_type": "code",
   "execution_count": 41,
   "id": "81c7faa5",
   "metadata": {
    "_cell_guid": "e5ef710f-cca4-4384-93ca-3ff544387248",
    "_uuid": "c0529318-540c-4922-8b7f-fdb86ab69e5e",
    "collapsed": false,
    "id": "3E81tyqxks6O",
    "jupyter": {
     "outputs_hidden": false
    },
    "papermill": {
     "duration": 5.033625,
     "end_time": "2023-08-08T11:49:07.403486",
     "exception": false,
     "start_time": "2023-08-08T11:49:02.369861",
     "status": "completed"
    },
    "tags": []
   },
   "outputs": [],
   "source": [
    "count_vectorizer = CountVectorizer(vocabulary = words)\n",
    "x_train_count = count_vectorizer.fit_transform(x_train.values)\n",
    "x_test_count = count_vectorizer.transform(x_test.values)\n",
    "classifier_count_vect = LogisticRegression(solver='lbfgs', max_iter=1000)\n",
    "classifier_count_vect.fit(x_train_count, y_train)\n",
    "predictions_train_count = classifier_count_vect.predict(x_train_count)\n",
    "predictions_test_count = classifier_count_vect.predict(x_test_count)"
   ]
  },
  {
   "cell_type": "code",
   "execution_count": null,
   "id": "62ce9619-9971-4b8d-9379-357cf1b41254",
   "metadata": {},
   "outputs": [],
   "source": []
  },
  {
   "cell_type": "code",
   "execution_count": 42,
   "id": "1fefd36a",
   "metadata": {
    "_cell_guid": "b89481af-3b4e-4149-aa56-251c3464d36f",
    "_uuid": "52cd724c-95d4-488d-b81c-e90dd81ba4e1",
    "collapsed": false,
    "id": "2rBaN45Izh7q",
    "jupyter": {
     "outputs_hidden": false
    },
    "outputId": "6511cb49-abb4-41a3-984c-fd64fc0e542c",
    "papermill": {
     "duration": 0.364018,
     "end_time": "2023-08-08T11:49:07.789722",
     "exception": false,
     "start_time": "2023-08-08T11:49:07.425704",
     "status": "completed"
    },
    "tags": []
   },
   "outputs": [
    {
     "name": "stdout",
     "output_type": "stream",
     "text": [
      "              precision    recall  f1-score   support\n",
      "\n",
      "           0       0.89      0.89      0.89     83770\n",
      "           1       0.89      0.89      0.89     86355\n",
      "\n",
      "    accuracy                           0.89    170125\n",
      "   macro avg       0.89      0.89      0.89    170125\n",
      "weighted avg       0.89      0.89      0.89    170125\n",
      "\n"
     ]
    }
   ],
   "source": [
    "print(classification_report(predictions_train_count, y_train))"
   ]
  },
  {
   "cell_type": "code",
   "execution_count": 43,
   "id": "587f1717",
   "metadata": {
    "_cell_guid": "4a17b75b-7e6a-4ea7-b91d-a9170f80bd23",
    "_uuid": "616e76a2-e0f9-4123-83a6-0e2a2526075f",
    "collapsed": false,
    "id": "pwa6Pu5Czf4S",
    "jupyter": {
     "outputs_hidden": false
    },
    "outputId": "8f114f0f-72b1-4440-d998-75814049191d",
    "papermill": {
     "duration": 0.141934,
     "end_time": "2023-08-08T11:49:07.953433",
     "exception": false,
     "start_time": "2023-08-08T11:49:07.811499",
     "status": "completed"
    },
    "tags": []
   },
   "outputs": [
    {
     "name": "stdout",
     "output_type": "stream",
     "text": [
      "              precision    recall  f1-score   support\n",
      "\n",
      "           0       0.75      0.75      0.75     27990\n",
      "           1       0.76      0.75      0.75     28719\n",
      "\n",
      "    accuracy                           0.75     56709\n",
      "   macro avg       0.75      0.75      0.75     56709\n",
      "weighted avg       0.75      0.75      0.75     56709\n",
      "\n"
     ]
    }
   ],
   "source": [
    "print(classification_report(predictions_test_count, y_test))"
   ]
  },
  {
   "cell_type": "code",
   "execution_count": 44,
   "id": "860ac0e2",
   "metadata": {
    "_cell_guid": "116e8e39-ccd5-415b-8e98-ab30211a9835",
    "_uuid": "23c30777-104d-4b06-b4f6-8155e4bdb17b",
    "collapsed": false,
    "id": "F_0mqj4Zl5Cx",
    "jupyter": {
     "outputs_hidden": false
    },
    "papermill": {
     "duration": 4.572547,
     "end_time": "2023-08-08T11:49:12.547733",
     "exception": false,
     "start_time": "2023-08-08T11:49:07.975186",
     "status": "completed"
    },
    "tags": []
   },
   "outputs": [],
   "source": [
    "tfidf_vectorizer = TfidfVectorizer(vocabulary = words)\n",
    "x_train_tfidf = tfidf_vectorizer.fit_transform(x_train.values)\n",
    "x_test_tfidf = tfidf_vectorizer.transform(x_test.values)\n",
    "classifier_tfidf_vect = LogisticRegression(solver='lbfgs', max_iter=1000)\n",
    "classifier_tfidf_vect.fit(x_train_tfidf, y_train)\n",
    "predictions_train_tfidf = classifier_tfidf_vect.predict(x_train_tfidf)\n",
    "predictions_test_tfidf = classifier_tfidf_vect.predict(x_test_tfidf)"
   ]
  },
  {
   "cell_type": "code",
   "execution_count": 45,
   "id": "4606eb45",
   "metadata": {
    "_cell_guid": "34a687eb-d19b-4bd7-8c4f-7f5b9a25dd6e",
    "_uuid": "dc258927-1e34-4e2b-849a-b1dce9363fcf",
    "collapsed": false,
    "id": "OnBolojZmBmY",
    "jupyter": {
     "outputs_hidden": false
    },
    "outputId": "169bc64d-ed6a-400c-b34f-f90b62e6509a",
    "papermill": {
     "duration": 0.365467,
     "end_time": "2023-08-08T11:49:12.936016",
     "exception": false,
     "start_time": "2023-08-08T11:49:12.570549",
     "status": "completed"
    },
    "tags": []
   },
   "outputs": [
    {
     "name": "stdout",
     "output_type": "stream",
     "text": [
      "              precision    recall  f1-score   support\n",
      "\n",
      "           0       0.80      0.83      0.82     80248\n",
      "           1       0.85      0.81      0.83     89877\n",
      "\n",
      "    accuracy                           0.82    170125\n",
      "   macro avg       0.82      0.82      0.82    170125\n",
      "weighted avg       0.82      0.82      0.82    170125\n",
      "\n"
     ]
    }
   ],
   "source": [
    "print(classification_report(predictions_train_tfidf, y_train))"
   ]
  },
  {
   "cell_type": "code",
   "execution_count": 46,
   "id": "c5f63b86",
   "metadata": {
    "_cell_guid": "68f58243-d9b2-4fde-87ed-f111c1963177",
    "_uuid": "1ad29cb3-3285-4ef0-a8fa-4a167eae719b",
    "collapsed": false,
    "id": "VJwo_bSPz0YM",
    "jupyter": {
     "outputs_hidden": false
    },
    "outputId": "c67bad2c-743f-4f70-b624-dbc29fce923f",
    "papermill": {
     "duration": 0.140578,
     "end_time": "2023-08-08T11:49:13.098786",
     "exception": false,
     "start_time": "2023-08-08T11:49:12.958208",
     "status": "completed"
    },
    "tags": []
   },
   "outputs": [
    {
     "name": "stdout",
     "output_type": "stream",
     "text": [
      "              precision    recall  f1-score   support\n",
      "\n",
      "           0       0.71      0.76      0.74     26160\n",
      "           1       0.78      0.73      0.76     30549\n",
      "\n",
      "    accuracy                           0.75     56709\n",
      "   macro avg       0.75      0.75      0.75     56709\n",
      "weighted avg       0.75      0.75      0.75     56709\n",
      "\n"
     ]
    }
   ],
   "source": [
    "print(classification_report(predictions_test_tfidf, y_test))"
   ]
  },
  {
   "cell_type": "code",
   "execution_count": 47,
   "id": "851eaa14",
   "metadata": {
    "_cell_guid": "90e61505-208c-49d5-a4c0-0e93913900f4",
    "_uuid": "d68b9bb1-49e2-41c7-a23f-1eca366b17b7",
    "collapsed": false,
    "id": "du3ZL61dMVpw",
    "jupyter": {
     "outputs_hidden": false
    },
    "papermill": {
     "duration": 0.030026,
     "end_time": "2023-08-08T11:49:13.151937",
     "exception": false,
     "start_time": "2023-08-08T11:49:13.121911",
     "status": "completed"
    },
    "tags": []
   },
   "outputs": [],
   "source": [
    "n_features_for_hash = [2 ** i for i in range(18)]"
   ]
  },
  {
   "cell_type": "code",
   "execution_count": 48,
   "id": "1ecb3d4c",
   "metadata": {
    "_cell_guid": "0366ae76-2d1f-4439-a819-1a5e84b4f667",
    "_uuid": "b5f25c10-4fa4-4190-9361-5b59983f9b14",
    "collapsed": false,
    "id": "oYz-NaD4Fh4z",
    "jupyter": {
     "outputs_hidden": false
    },
    "outputId": "db91802e-624f-4490-986f-5e26b52b6ebb",
    "papermill": {
     "duration": 76.827813,
     "end_time": "2023-08-08T11:50:30.005075",
     "exception": false,
     "start_time": "2023-08-08T11:49:13.177262",
     "status": "completed"
    },
    "tags": []
   },
   "outputs": [
    {
     "name": "stdout",
     "output_type": "stream",
     "text": [
      "n_features = 1\n",
      "              precision    recall  f1-score   support\n",
      "\n",
      "           0       0.00      0.00      0.00         0\n",
      "           1       1.00      0.50      0.67     56709\n",
      "\n",
      "    accuracy                           0.50     56709\n",
      "   macro avg       0.50      0.25      0.34     56709\n",
      "weighted avg       1.00      0.50      0.67     56709\n",
      "\n",
      "\n",
      "n_features = 2\n",
      "              precision    recall  f1-score   support\n",
      "\n",
      "           0       0.30      0.51      0.38     16600\n",
      "           1       0.72      0.51      0.60     40109\n",
      "\n",
      "    accuracy                           0.51     56709\n",
      "   macro avg       0.51      0.51      0.49     56709\n",
      "weighted avg       0.60      0.51      0.53     56709\n",
      "\n",
      "\n",
      "n_features = 4\n",
      "              precision    recall  f1-score   support\n",
      "\n",
      "           0       0.41      0.52      0.46     21979\n",
      "           1       0.63      0.52      0.57     34730\n",
      "\n",
      "    accuracy                           0.52     56709\n",
      "   macro avg       0.52      0.52      0.52     56709\n",
      "weighted avg       0.55      0.52      0.53     56709\n",
      "\n",
      "\n",
      "n_features = 8\n",
      "              precision    recall  f1-score   support\n",
      "\n",
      "           0       0.44      0.53      0.48     23619\n",
      "           1       0.61      0.53      0.57     33090\n",
      "\n",
      "    accuracy                           0.53     56709\n",
      "   macro avg       0.53      0.53      0.52     56709\n",
      "weighted avg       0.54      0.53      0.53     56709\n",
      "\n",
      "\n",
      "n_features = 16\n",
      "              precision    recall  f1-score   support\n",
      "\n",
      "           0       0.49      0.54      0.52     25705\n",
      "           1       0.59      0.54      0.56     31004\n",
      "\n",
      "    accuracy                           0.54     56709\n",
      "   macro avg       0.54      0.54      0.54     56709\n",
      "weighted avg       0.54      0.54      0.54     56709\n",
      "\n",
      "\n",
      "n_features = 32\n",
      "              precision    recall  f1-score   support\n",
      "\n",
      "           0       0.51      0.55      0.53     26107\n",
      "           1       0.59      0.55      0.57     30602\n",
      "\n",
      "    accuracy                           0.55     56709\n",
      "   macro avg       0.55      0.55      0.55     56709\n",
      "weighted avg       0.55      0.55      0.55     56709\n",
      "\n",
      "\n",
      "n_features = 64\n",
      "              precision    recall  f1-score   support\n",
      "\n",
      "           0       0.54      0.57      0.56     26484\n",
      "           1       0.60      0.57      0.59     30225\n",
      "\n",
      "    accuracy                           0.57     56709\n",
      "   macro avg       0.57      0.57      0.57     56709\n",
      "weighted avg       0.57      0.57      0.57     56709\n",
      "\n",
      "\n",
      "n_features = 128\n",
      "              precision    recall  f1-score   support\n",
      "\n",
      "           0       0.57      0.59      0.58     27327\n",
      "           1       0.61      0.59      0.60     29382\n",
      "\n",
      "    accuracy                           0.59     56709\n",
      "   macro avg       0.59      0.59      0.59     56709\n",
      "weighted avg       0.59      0.59      0.59     56709\n",
      "\n",
      "\n",
      "n_features = 256\n",
      "              precision    recall  f1-score   support\n",
      "\n",
      "           0       0.60      0.61      0.60     27370\n",
      "           1       0.63      0.61      0.62     29339\n",
      "\n",
      "    accuracy                           0.61     56709\n",
      "   macro avg       0.61      0.61      0.61     56709\n",
      "weighted avg       0.61      0.61      0.61     56709\n",
      "\n",
      "\n",
      "n_features = 512\n",
      "              precision    recall  f1-score   support\n",
      "\n",
      "           0       0.61      0.63      0.62     27156\n",
      "           1       0.65      0.63      0.64     29553\n",
      "\n",
      "    accuracy                           0.63     56709\n",
      "   macro avg       0.63      0.63      0.63     56709\n",
      "weighted avg       0.63      0.63      0.63     56709\n",
      "\n",
      "\n",
      "n_features = 1024\n",
      "              precision    recall  f1-score   support\n",
      "\n",
      "           0       0.63      0.65      0.64     27146\n",
      "           1       0.67      0.65      0.66     29563\n",
      "\n",
      "    accuracy                           0.65     56709\n",
      "   macro avg       0.65      0.65      0.65     56709\n",
      "weighted avg       0.65      0.65      0.65     56709\n",
      "\n",
      "\n",
      "n_features = 2048\n",
      "              precision    recall  f1-score   support\n",
      "\n",
      "           0       0.66      0.67      0.66     27392\n",
      "           1       0.69      0.67      0.68     29317\n",
      "\n",
      "    accuracy                           0.67     56709\n",
      "   macro avg       0.67      0.67      0.67     56709\n",
      "weighted avg       0.67      0.67      0.67     56709\n",
      "\n",
      "\n",
      "n_features = 4096\n",
      "              precision    recall  f1-score   support\n",
      "\n",
      "           0       0.67      0.69      0.68     27254\n",
      "           1       0.71      0.69      0.70     29455\n",
      "\n",
      "    accuracy                           0.69     56709\n",
      "   macro avg       0.69      0.69      0.69     56709\n",
      "weighted avg       0.69      0.69      0.69     56709\n",
      "\n",
      "\n",
      "n_features = 8192\n",
      "              precision    recall  f1-score   support\n",
      "\n",
      "           0       0.69      0.71      0.70     27178\n",
      "           1       0.73      0.70      0.71     29531\n",
      "\n",
      "    accuracy                           0.71     56709\n",
      "   macro avg       0.71      0.71      0.71     56709\n",
      "weighted avg       0.71      0.71      0.71     56709\n",
      "\n",
      "\n",
      "n_features = 16384\n",
      "              precision    recall  f1-score   support\n",
      "\n",
      "           0       0.70      0.73      0.71     27145\n",
      "           1       0.74      0.72      0.73     29564\n",
      "\n",
      "    accuracy                           0.72     56709\n",
      "   macro avg       0.72      0.72      0.72     56709\n",
      "weighted avg       0.72      0.72      0.72     56709\n",
      "\n",
      "\n",
      "n_features = 32768\n",
      "              precision    recall  f1-score   support\n",
      "\n",
      "           0       0.71      0.74      0.72     26997\n",
      "           1       0.75      0.72      0.74     29712\n",
      "\n",
      "    accuracy                           0.73     56709\n",
      "   macro avg       0.73      0.73      0.73     56709\n",
      "weighted avg       0.73      0.73      0.73     56709\n",
      "\n",
      "\n",
      "n_features = 65536\n",
      "              precision    recall  f1-score   support\n",
      "\n",
      "           0       0.71      0.74      0.73     26778\n",
      "           1       0.76      0.73      0.74     29931\n",
      "\n",
      "    accuracy                           0.73     56709\n",
      "   macro avg       0.73      0.74      0.73     56709\n",
      "weighted avg       0.74      0.73      0.74     56709\n",
      "\n",
      "\n",
      "n_features = 131072\n",
      "              precision    recall  f1-score   support\n",
      "\n",
      "           0       0.71      0.75      0.73     26829\n",
      "           1       0.76      0.73      0.75     29880\n",
      "\n",
      "    accuracy                           0.74     56709\n",
      "   macro avg       0.74      0.74      0.74     56709\n",
      "weighted avg       0.74      0.74      0.74     56709\n",
      "\n",
      "\n"
     ]
    }
   ],
   "source": [
    "for numb in n_features_for_hash:\n",
    "    print('n_features =', numb)\n",
    "    hash_vectorizer = HashingVectorizer(n_features=numb)\n",
    "    x_train_hash = hash_vectorizer.fit_transform(x_train.values)\n",
    "    x_test_hash = hash_vectorizer.transform(x_test.values)\n",
    "    classifier_hash_vect = LogisticRegression(solver='lbfgs', max_iter=1000)\n",
    "    classifier_hash_vect.fit(x_train_hash, y_train)\n",
    "    predictions_train_hash = classifier_hash_vect.predict(x_train_hash)\n",
    "    predictions_test_hash = classifier_hash_vect.predict(x_test_hash)\n",
    "    print(classification_report(predictions_test_hash, y_test))\n",
    "    print()"
   ]
  },
  {
   "cell_type": "markdown",
   "id": "07e7dccf-f812-485b-8a22-f19f0c67a44d",
   "metadata": {},
   "source": [
    "512 - оптимальный размер для hash vectorizer"
   ]
  },
  {
   "cell_type": "code",
   "execution_count": 59,
   "id": "111d9bc6-0de7-4e08-85e9-e1b80ff899d6",
   "metadata": {},
   "outputs": [
    {
     "name": "stdout",
     "output_type": "stream",
     "text": [
      "WARNING:tensorflow:From D:\\Programs\\anaconda3\\envs\\My_ds_python\\Lib\\site-packages\\keras\\src\\losses.py:2976: The name tf.losses.sparse_softmax_cross_entropy is deprecated. Please use tf.compat.v1.losses.sparse_softmax_cross_entropy instead.\n",
      "\n"
     ]
    }
   ],
   "source": [
    "import tensorflow as tf\n",
    "\n",
    "from tensorflow.keras import Sequential\n",
    "from tensorflow.keras.layers import Dense, Embedding, GlobalAveragePooling1D, Conv1D, GRU, LSTM, Dropout\n",
    "from tensorflow.keras.layers.experimental.preprocessing import TextVectorization"
   ]
  },
  {
   "cell_type": "code",
   "execution_count": 63,
   "id": "6a585129-28a1-488e-b652-14c6d7ba7965",
   "metadata": {},
   "outputs": [],
   "source": [
    "train_data = tf.data.Dataset.from_tensor_slices((x_train, y_train))\n",
    "valid_data = tf.data.Dataset.from_tensor_slices((x_test, y_test))"
   ]
  },
  {
   "cell_type": "code",
   "execution_count": 64,
   "id": "6a203595-9962-4f4e-a56f-6f81c5a212b2",
   "metadata": {},
   "outputs": [],
   "source": [
    "train_data = train_data.batch(16)\n",
    "valid_data = valid_data.batch(16)"
   ]
  },
  {
   "cell_type": "code",
   "execution_count": 87,
   "id": "9d2aa5f3-de9b-4c9f-a11c-502428952eba",
   "metadata": {},
   "outputs": [],
   "source": [
    "for raw in train_data.take(1):\n",
    "    pass"
   ]
  },
  {
   "cell_type": "code",
   "execution_count": 89,
   "id": "cfde20c5-746c-44f8-b3bf-df056827c4ac",
   "metadata": {},
   "outputs": [],
   "source": [
    "AUTOTUNE = tf.data.AUTOTUNE\n",
    "\n",
    "train_data = train_data.cache().prefetch(buffer_size=AUTOTUNE)\n",
    "valid_data = valid_data.cache().prefetch(buffer_size=AUTOTUNE)"
   ]
  },
  {
   "cell_type": "code",
   "execution_count": 96,
   "id": "c00f1fad-bdf8-4636-a4e0-e3e0bc1a2dc0",
   "metadata": {},
   "outputs": [],
   "source": [
    "def custom_standardization(input_data):\n",
    "    \n",
    "    return input_data\n",
    "\n",
    "vocab_size = 10000\n",
    "seq_len = 100\n",
    "\n",
    "vectorize_layer = TextVectorization(\n",
    "    standardize=custom_standardization,\n",
    "    max_tokens=vocab_size,\n",
    "    output_mode='int',\n",
    "    output_sequence_length=seq_len)\n",
    "\n",
    "# Make a text-only dataset (no labels) and call adapt to build the vocabulary.\n",
    "text_data = train_data.map(lambda x, y: x)\n",
    "vectorize_layer.adapt(text_data)"
   ]
  },
  {
   "cell_type": "code",
   "execution_count": 97,
   "id": "d7853380-8eb9-40b1-856d-e51492e6c164",
   "metadata": {},
   "outputs": [],
   "source": [
    "embedding_dim=200\n",
    "\n",
    "model = Sequential([\n",
    "    vectorize_layer,\n",
    "    Embedding(vocab_size, embedding_dim),\n",
    "    Conv1D(200, (3)),\n",
    "    Conv1D(200, (2)),\n",
    "    GRU(300),\n",
    "    #GlobalAveragePooling1D(),\n",
    "    Dense(100, activation='relu'),\n",
    "    Dense(1)\n",
    "])"
   ]
  },
  {
   "cell_type": "code",
   "execution_count": 98,
   "id": "2b7c6ead-df19-446e-bab9-c061ac0faafd",
   "metadata": {},
   "outputs": [],
   "source": [
    "model.compile(optimizer='adam',\n",
    "              loss=tf.keras.losses.BinaryCrossentropy(from_logits=True),\n",
    "              metrics=['accuracy'])"
   ]
  },
  {
   "cell_type": "code",
   "execution_count": 104,
   "id": "f6f94e01-08b7-41cf-9bf4-d08181f93982",
   "metadata": {},
   "outputs": [
    {
     "name": "stdout",
     "output_type": "stream",
     "text": [
      "10633/10633 [==============================] - 1853s 174ms/step - loss: 0.6931 - accuracy: 0.4927 - val_loss: 0.6931 - val_accuracy: 0.4954\n"
     ]
    },
    {
     "data": {
      "text/plain": [
       "<keras.src.callbacks.History at 0x265f021d6d0>"
      ]
     },
     "execution_count": 104,
     "metadata": {},
     "output_type": "execute_result"
    }
   ],
   "source": [
    "model.fit(train_data, validation_data=valid_data, epochs=1)"
   ]
  },
  {
   "cell_type": "markdown",
   "id": "fd903f0b-e999-4548-952b-6165927251c7",
   "metadata": {},
   "source": [
    "0.4954 не особо хороший результат, т.к. примерно такой же результат дает, если все время называть позитивный коммент, нужны более сложные методы для обучения текста "
   ]
  }
 ],
 "metadata": {
  "kernelspec": {
   "display_name": "Python 3 (ipykernel)",
   "language": "python",
   "name": "python3"
  },
  "language_info": {
   "codemirror_mode": {
    "name": "ipython",
    "version": 3
   },
   "file_extension": ".py",
   "mimetype": "text/x-python",
   "name": "python",
   "nbconvert_exporter": "python",
   "pygments_lexer": "ipython3",
   "version": "3.11.5"
  },
  "papermill": {
   "default_parameters": {},
   "duration": 774.873129,
   "end_time": "2023-08-08T11:55:12.772607",
   "environment_variables": {},
   "exception": null,
   "input_path": "__notebook__.ipynb",
   "output_path": "__notebook__.ipynb",
   "parameters": {},
   "start_time": "2023-08-08T11:42:17.899478",
   "version": "2.4.0"
  }
 },
 "nbformat": 4,
 "nbformat_minor": 5
}
