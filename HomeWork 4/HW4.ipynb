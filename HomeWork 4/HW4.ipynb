{
 "cells": [
  {
   "cell_type": "markdown",
   "id": "2736949d",
   "metadata": {
    "papermill": {
     "duration": 0.010373,
     "end_time": "2023-08-17T14:51:41.650802",
     "exception": false,
     "start_time": "2023-08-17T14:51:41.640429",
     "status": "completed"
    },
    "tags": []
   },
   "source": [
    "# Введение в обработку естественного языка"
   ]
  },
  {
   "cell_type": "markdown",
   "id": "df8e1fd3",
   "metadata": {
    "papermill": {
     "duration": 0.009454,
     "end_time": "2023-08-17T14:51:41.670318",
     "exception": false,
     "start_time": "2023-08-17T14:51:41.660864",
     "status": "completed"
    },
    "tags": []
   },
   "source": [
    "# Урок 4. Тематическое моделирование. EM-алгоритм"
   ]
  },
  {
   "cell_type": "markdown",
   "id": "500fd879-afb2-46cf-b51c-270f69715778",
   "metadata": {
    "papermill": {
     "duration": 0.00942,
     "end_time": "2023-08-17T14:51:41.689426",
     "exception": false,
     "start_time": "2023-08-17T14:51:41.680006",
     "status": "completed"
    },
    "tags": []
   },
   "source": [
    "Задача тематическое моделирование\n",
    "\n",
    "продолжаем исследование датасета с твитами\n",
    "\n",
    "Скачиваем датасет ([источник](http://study.mokoron.com/)): [положительные](https://www.dropbox.com/s/fnpq3z4bcnoktiv/positive.csv?dl=0), [отрицательные](https://www.dropbox.com/s/r6u59ljhhjdg6j0/negative.csv).\n",
    "\n",
    "или можно через ноутбук\n",
    "\n",
    "!wget https://www.dropbox.com/s/fnpq3z4bcnoktiv/positive.csv\n",
    "\n",
    "!wget https://www.dropbox.com/s/r6u59ljhhjdg6j0/negative.csv\n",
    "\n",
    "как альтернатива можно скачать данные из Роспотребнадзора \n",
    "https://zpp.rospotrebnadzor.ru/Forum/Appeals\n",
    "для этого берём ноутбук `parse_rospotrebnadzor.ipynb`\n",
    "устанавливаем количество скачанных страниц больше не 50-сят хотябы 500 и для анализа берём только вопросы так как ответы есть не всегда\n",
    "\n",
    "что надо сделать \n",
    "1. объединить в одну выборку (это только для твитов), для роспотребнадзора сформировать датасет из вопросов\n",
    "2. провести исследование и выявить тематики о которых говорят в твитах (для твитов), а для роспотребнадзора так же выявить тематики о которых люди пишут проанализировать\n",
    "3. сделать визуализацию кластеров тематик\n",
    "4. проинтерпритировать получившиеся тематики\n"
   ]
  },
  {
   "cell_type": "code",
   "execution_count": 3,
   "id": "32c1763d",
   "metadata": {
    "id": "J5YiZNCPLVPe",
    "papermill": {
     "duration": 1.813327,
     "end_time": "2023-08-17T14:52:08.137059",
     "exception": false,
     "start_time": "2023-08-17T14:52:06.323732",
     "status": "completed"
    },
    "tags": []
   },
   "outputs": [],
   "source": [
    "import pandas as pd\n",
    "import numpy as np\n",
    "from sklearn.metrics import *\n",
    "from sklearn.model_selection import train_test_split\n",
    "from sklearn.pipeline import Pipeline\n",
    "import nltk\n",
    "\n",
    "import re\n",
    "from nltk.corpus import stopwords\n",
    "from tqdm.notebook import tqdm\n",
    "from multiprocessing import Pool\n",
    "#from pymystem3 import Mystem\n",
    "import pymorphy3\n",
    "\n",
    "import matplotlib.pyplot as plt\n",
    "%matplotlib inline\n",
    "\n",
    "import nltk\n",
    "nltk.download('stopwords', quiet=True)"
   ]
  },
  {
   "cell_type": "code",
   "execution_count": 4,
   "id": "05ce25b7-2a9c-43cd-b30f-aff51c505e1f",
   "metadata": {},
   "outputs": [
    {
     "name": "stderr",
     "output_type": "stream",
     "text": [
      "[nltk_data] Downloading package stopwords to\n",
      "[nltk_data]     C:\\Users\\Игорь\\AppData\\Roaming\\nltk_data...\n",
      "[nltk_data]   Package stopwords is already up-to-date!\n"
     ]
    },
    {
     "data": {
      "text/plain": [
       "True"
      ]
     },
     "execution_count": 4,
     "metadata": {},
     "output_type": "execute_result"
    }
   ],
   "source": [
    "nltk.download('stopwords')"
   ]
  },
  {
   "cell_type": "code",
   "execution_count": 6,
   "id": "dbd649a5",
   "metadata": {
    "id": "1PUjLn7GRCIZ",
    "outputId": "14fb8cf7-9e3f-4c85-c872-2496deac59e1",
    "papermill": {
     "duration": 1.196237,
     "end_time": "2023-08-17T14:52:09.348487",
     "exception": false,
     "start_time": "2023-08-17T14:52:08.152250",
     "status": "completed"
    },
    "tags": []
   },
   "outputs": [
    {
     "data": {
      "text/html": [
       "<div>\n",
       "<style scoped>\n",
       "    .dataframe tbody tr th:only-of-type {\n",
       "        vertical-align: middle;\n",
       "    }\n",
       "\n",
       "    .dataframe tbody tr th {\n",
       "        vertical-align: top;\n",
       "    }\n",
       "\n",
       "    .dataframe thead th {\n",
       "        text-align: right;\n",
       "    }\n",
       "</style>\n",
       "<table border=\"1\" class=\"dataframe\">\n",
       "  <thead>\n",
       "    <tr style=\"text-align: right;\">\n",
       "      <th></th>\n",
       "      <th>0</th>\n",
       "      <th>1</th>\n",
       "      <th>2</th>\n",
       "      <th>text</th>\n",
       "      <th>4</th>\n",
       "      <th>5</th>\n",
       "      <th>6</th>\n",
       "      <th>7</th>\n",
       "      <th>8</th>\n",
       "      <th>9</th>\n",
       "      <th>10</th>\n",
       "      <th>11</th>\n",
       "    </tr>\n",
       "  </thead>\n",
       "  <tbody>\n",
       "    <tr>\n",
       "      <th>0</th>\n",
       "      <td>408906692374446080</td>\n",
       "      <td>1386325927</td>\n",
       "      <td>pleease_shut_up</td>\n",
       "      <td>@first_timee хоть я и школота, но поверь, у на...</td>\n",
       "      <td>1</td>\n",
       "      <td>0</td>\n",
       "      <td>0</td>\n",
       "      <td>0</td>\n",
       "      <td>7569</td>\n",
       "      <td>62</td>\n",
       "      <td>61</td>\n",
       "      <td>0</td>\n",
       "    </tr>\n",
       "    <tr>\n",
       "      <th>1</th>\n",
       "      <td>408906692693221377</td>\n",
       "      <td>1386325927</td>\n",
       "      <td>alinakirpicheva</td>\n",
       "      <td>Да, все-таки он немного похож на него. Но мой ...</td>\n",
       "      <td>1</td>\n",
       "      <td>0</td>\n",
       "      <td>0</td>\n",
       "      <td>0</td>\n",
       "      <td>11825</td>\n",
       "      <td>59</td>\n",
       "      <td>31</td>\n",
       "      <td>2</td>\n",
       "    </tr>\n",
       "    <tr>\n",
       "      <th>2</th>\n",
       "      <td>408906695083954177</td>\n",
       "      <td>1386325927</td>\n",
       "      <td>EvgeshaRe</td>\n",
       "      <td>RT @KatiaCheh: Ну ты идиотка) я испугалась за ...</td>\n",
       "      <td>1</td>\n",
       "      <td>0</td>\n",
       "      <td>1</td>\n",
       "      <td>0</td>\n",
       "      <td>1273</td>\n",
       "      <td>26</td>\n",
       "      <td>27</td>\n",
       "      <td>0</td>\n",
       "    </tr>\n",
       "    <tr>\n",
       "      <th>3</th>\n",
       "      <td>408906695356973056</td>\n",
       "      <td>1386325927</td>\n",
       "      <td>ikonnikova_21</td>\n",
       "      <td>RT @digger2912: \"Кто то в углу сидит и погибае...</td>\n",
       "      <td>1</td>\n",
       "      <td>0</td>\n",
       "      <td>1</td>\n",
       "      <td>0</td>\n",
       "      <td>1549</td>\n",
       "      <td>19</td>\n",
       "      <td>17</td>\n",
       "      <td>0</td>\n",
       "    </tr>\n",
       "    <tr>\n",
       "      <th>4</th>\n",
       "      <td>408906761416867842</td>\n",
       "      <td>1386325943</td>\n",
       "      <td>JumpyAlex</td>\n",
       "      <td>@irina_dyshkant Вот что значит страшилка :D\\nН...</td>\n",
       "      <td>1</td>\n",
       "      <td>0</td>\n",
       "      <td>0</td>\n",
       "      <td>0</td>\n",
       "      <td>597</td>\n",
       "      <td>16</td>\n",
       "      <td>23</td>\n",
       "      <td>1</td>\n",
       "    </tr>\n",
       "  </tbody>\n",
       "</table>\n",
       "</div>"
      ],
      "text/plain": [
       "                    0           1                2  \\\n",
       "0  408906692374446080  1386325927  pleease_shut_up   \n",
       "1  408906692693221377  1386325927  alinakirpicheva   \n",
       "2  408906695083954177  1386325927        EvgeshaRe   \n",
       "3  408906695356973056  1386325927    ikonnikova_21   \n",
       "4  408906761416867842  1386325943        JumpyAlex   \n",
       "\n",
       "                                                text  4  5  6  7      8   9  \\\n",
       "0  @first_timee хоть я и школота, но поверь, у на...  1  0  0  0   7569  62   \n",
       "1  Да, все-таки он немного похож на него. Но мой ...  1  0  0  0  11825  59   \n",
       "2  RT @KatiaCheh: Ну ты идиотка) я испугалась за ...  1  0  1  0   1273  26   \n",
       "3  RT @digger2912: \"Кто то в углу сидит и погибае...  1  0  1  0   1549  19   \n",
       "4  @irina_dyshkant Вот что значит страшилка :D\\nН...  1  0  0  0    597  16   \n",
       "\n",
       "   10  11  \n",
       "0  61   0  \n",
       "1  31   2  \n",
       "2  27   0  \n",
       "3  17   0  \n",
       "4  23   1  "
      ]
     },
     "execution_count": 6,
     "metadata": {},
     "output_type": "execute_result"
    }
   ],
   "source": [
    "positive = pd.read_csv('positive.csv', sep=';', encoding='utf8', header=None)\n",
    "positive = positive.rename(columns={3:'text'})\n",
    "positive.head()"
   ]
  },
  {
   "cell_type": "code",
   "execution_count": 7,
   "id": "738aa5fc",
   "metadata": {
    "id": "ZoY5avCURIDt",
    "outputId": "3cb8e65d-076e-4715-bd2d-5eee35824db5",
    "papermill": {
     "duration": 0.953736,
     "end_time": "2023-08-17T14:52:10.313686",
     "exception": false,
     "start_time": "2023-08-17T14:52:09.359950",
     "status": "completed"
    },
    "tags": []
   },
   "outputs": [
    {
     "data": {
      "text/html": [
       "<div>\n",
       "<style scoped>\n",
       "    .dataframe tbody tr th:only-of-type {\n",
       "        vertical-align: middle;\n",
       "    }\n",
       "\n",
       "    .dataframe tbody tr th {\n",
       "        vertical-align: top;\n",
       "    }\n",
       "\n",
       "    .dataframe thead th {\n",
       "        text-align: right;\n",
       "    }\n",
       "</style>\n",
       "<table border=\"1\" class=\"dataframe\">\n",
       "  <thead>\n",
       "    <tr style=\"text-align: right;\">\n",
       "      <th></th>\n",
       "      <th>0</th>\n",
       "      <th>1</th>\n",
       "      <th>2</th>\n",
       "      <th>text</th>\n",
       "      <th>4</th>\n",
       "      <th>5</th>\n",
       "      <th>6</th>\n",
       "      <th>7</th>\n",
       "      <th>8</th>\n",
       "      <th>9</th>\n",
       "      <th>10</th>\n",
       "      <th>11</th>\n",
       "    </tr>\n",
       "  </thead>\n",
       "  <tbody>\n",
       "    <tr>\n",
       "      <th>0</th>\n",
       "      <td>408906762813579264</td>\n",
       "      <td>1386325944</td>\n",
       "      <td>dugarchikbellko</td>\n",
       "      <td>на работе был полный пиддес :| и так каждое за...</td>\n",
       "      <td>-1</td>\n",
       "      <td>0</td>\n",
       "      <td>0</td>\n",
       "      <td>0</td>\n",
       "      <td>8064</td>\n",
       "      <td>111</td>\n",
       "      <td>94</td>\n",
       "      <td>2</td>\n",
       "    </tr>\n",
       "    <tr>\n",
       "      <th>1</th>\n",
       "      <td>408906818262687744</td>\n",
       "      <td>1386325957</td>\n",
       "      <td>nugemycejela</td>\n",
       "      <td>Коллеги сидят рубятся в Urban terror, а я из-з...</td>\n",
       "      <td>-1</td>\n",
       "      <td>0</td>\n",
       "      <td>0</td>\n",
       "      <td>0</td>\n",
       "      <td>26</td>\n",
       "      <td>42</td>\n",
       "      <td>39</td>\n",
       "      <td>0</td>\n",
       "    </tr>\n",
       "    <tr>\n",
       "      <th>2</th>\n",
       "      <td>408906858515398656</td>\n",
       "      <td>1386325966</td>\n",
       "      <td>4post21</td>\n",
       "      <td>@elina_4post как говорят обещаного три года жд...</td>\n",
       "      <td>-1</td>\n",
       "      <td>0</td>\n",
       "      <td>0</td>\n",
       "      <td>0</td>\n",
       "      <td>718</td>\n",
       "      <td>49</td>\n",
       "      <td>249</td>\n",
       "      <td>0</td>\n",
       "    </tr>\n",
       "    <tr>\n",
       "      <th>3</th>\n",
       "      <td>408906914437685248</td>\n",
       "      <td>1386325980</td>\n",
       "      <td>Poliwake</td>\n",
       "      <td>Желаю хорошего полёта и удачной посадки,я буду...</td>\n",
       "      <td>-1</td>\n",
       "      <td>0</td>\n",
       "      <td>0</td>\n",
       "      <td>0</td>\n",
       "      <td>10628</td>\n",
       "      <td>207</td>\n",
       "      <td>200</td>\n",
       "      <td>0</td>\n",
       "    </tr>\n",
       "    <tr>\n",
       "      <th>4</th>\n",
       "      <td>408906914723295232</td>\n",
       "      <td>1386325980</td>\n",
       "      <td>capyvixowe</td>\n",
       "      <td>Обновил за каким-то лешим surf, теперь не рабо...</td>\n",
       "      <td>-1</td>\n",
       "      <td>0</td>\n",
       "      <td>0</td>\n",
       "      <td>0</td>\n",
       "      <td>35</td>\n",
       "      <td>17</td>\n",
       "      <td>34</td>\n",
       "      <td>0</td>\n",
       "    </tr>\n",
       "  </tbody>\n",
       "</table>\n",
       "</div>"
      ],
      "text/plain": [
       "                    0           1                2  \\\n",
       "0  408906762813579264  1386325944  dugarchikbellko   \n",
       "1  408906818262687744  1386325957     nugemycejela   \n",
       "2  408906858515398656  1386325966          4post21   \n",
       "3  408906914437685248  1386325980         Poliwake   \n",
       "4  408906914723295232  1386325980       capyvixowe   \n",
       "\n",
       "                                                text  4  5  6  7      8    9  \\\n",
       "0  на работе был полный пиддес :| и так каждое за... -1  0  0  0   8064  111   \n",
       "1  Коллеги сидят рубятся в Urban terror, а я из-з... -1  0  0  0     26   42   \n",
       "2  @elina_4post как говорят обещаного три года жд... -1  0  0  0    718   49   \n",
       "3  Желаю хорошего полёта и удачной посадки,я буду... -1  0  0  0  10628  207   \n",
       "4  Обновил за каким-то лешим surf, теперь не рабо... -1  0  0  0     35   17   \n",
       "\n",
       "    10  11  \n",
       "0   94   2  \n",
       "1   39   0  \n",
       "2  249   0  \n",
       "3  200   0  \n",
       "4   34   0  "
      ]
     },
     "execution_count": 7,
     "metadata": {},
     "output_type": "execute_result"
    }
   ],
   "source": [
    "negative = pd.read_csv('negative.csv', sep=';', encoding='utf8', header=None)\n",
    "negative = negative.rename(columns={3:'text'})\n",
    "negative.head()"
   ]
  },
  {
   "cell_type": "code",
   "execution_count": 8,
   "id": "3c49d6ee",
   "metadata": {
    "id": "aAoqHbvZggQC",
    "papermill": {
     "duration": 0.037697,
     "end_time": "2023-08-17T14:52:10.362813",
     "exception": false,
     "start_time": "2023-08-17T14:52:10.325116",
     "status": "completed"
    },
    "tags": []
   },
   "outputs": [],
   "source": [
    "df = pd.concat([positive, negative], ignore_index=True)"
   ]
  },
  {
   "cell_type": "code",
   "execution_count": 9,
   "id": "e50669a6",
   "metadata": {
    "id": "j1AEISlBLVP0",
    "outputId": "592320fc-e576-4ab1-913c-db55c41de297",
    "papermill": {
     "duration": 0.026327,
     "end_time": "2023-08-17T14:52:10.399963",
     "exception": false,
     "start_time": "2023-08-17T14:52:10.373636",
     "status": "completed"
    },
    "tags": []
   },
   "outputs": [
    {
     "data": {
      "text/html": [
       "<div>\n",
       "<style scoped>\n",
       "    .dataframe tbody tr th:only-of-type {\n",
       "        vertical-align: middle;\n",
       "    }\n",
       "\n",
       "    .dataframe tbody tr th {\n",
       "        vertical-align: top;\n",
       "    }\n",
       "\n",
       "    .dataframe thead th {\n",
       "        text-align: right;\n",
       "    }\n",
       "</style>\n",
       "<table border=\"1\" class=\"dataframe\">\n",
       "  <thead>\n",
       "    <tr style=\"text-align: right;\">\n",
       "      <th></th>\n",
       "      <th>0</th>\n",
       "      <th>1</th>\n",
       "      <th>2</th>\n",
       "      <th>text</th>\n",
       "      <th>4</th>\n",
       "      <th>5</th>\n",
       "      <th>6</th>\n",
       "      <th>7</th>\n",
       "      <th>8</th>\n",
       "      <th>9</th>\n",
       "      <th>10</th>\n",
       "      <th>11</th>\n",
       "    </tr>\n",
       "  </thead>\n",
       "  <tbody>\n",
       "    <tr>\n",
       "      <th>226829</th>\n",
       "      <td>425138243257253888</td>\n",
       "      <td>1390195830</td>\n",
       "      <td>Yanch_96</td>\n",
       "      <td>Но не каждый хочет что то исправлять:( http://...</td>\n",
       "      <td>-1</td>\n",
       "      <td>0</td>\n",
       "      <td>0</td>\n",
       "      <td>0</td>\n",
       "      <td>1138</td>\n",
       "      <td>32</td>\n",
       "      <td>46</td>\n",
       "      <td>0</td>\n",
       "    </tr>\n",
       "    <tr>\n",
       "      <th>226830</th>\n",
       "      <td>425138339503943682</td>\n",
       "      <td>1390195853</td>\n",
       "      <td>tkit_on</td>\n",
       "      <td>скучаю так :-( только @taaannyaaa вправляет мо...</td>\n",
       "      <td>-1</td>\n",
       "      <td>0</td>\n",
       "      <td>0</td>\n",
       "      <td>0</td>\n",
       "      <td>4822</td>\n",
       "      <td>38</td>\n",
       "      <td>32</td>\n",
       "      <td>0</td>\n",
       "    </tr>\n",
       "    <tr>\n",
       "      <th>226831</th>\n",
       "      <td>425138437684215808</td>\n",
       "      <td>1390195876</td>\n",
       "      <td>ckooker1</td>\n",
       "      <td>Вот и в школу, в говно это идти уже надо(</td>\n",
       "      <td>-1</td>\n",
       "      <td>0</td>\n",
       "      <td>0</td>\n",
       "      <td>1</td>\n",
       "      <td>165</td>\n",
       "      <td>13</td>\n",
       "      <td>16</td>\n",
       "      <td>0</td>\n",
       "    </tr>\n",
       "    <tr>\n",
       "      <th>226832</th>\n",
       "      <td>425138490452344832</td>\n",
       "      <td>1390195889</td>\n",
       "      <td>LisaBeroud</td>\n",
       "      <td>RT @_Them__: @LisaBeroud Тауриэль, не грусти :...</td>\n",
       "      <td>-1</td>\n",
       "      <td>0</td>\n",
       "      <td>1</td>\n",
       "      <td>0</td>\n",
       "      <td>2516</td>\n",
       "      <td>187</td>\n",
       "      <td>265</td>\n",
       "      <td>0</td>\n",
       "    </tr>\n",
       "    <tr>\n",
       "      <th>226833</th>\n",
       "      <td>425138595251625984</td>\n",
       "      <td>1390195914</td>\n",
       "      <td>sukapavlov</td>\n",
       "      <td>Такси везет меня на работу. Раздумываю приплат...</td>\n",
       "      <td>-1</td>\n",
       "      <td>0</td>\n",
       "      <td>0</td>\n",
       "      <td>0</td>\n",
       "      <td>7778</td>\n",
       "      <td>146</td>\n",
       "      <td>66</td>\n",
       "      <td>5</td>\n",
       "    </tr>\n",
       "  </tbody>\n",
       "</table>\n",
       "</div>"
      ],
      "text/plain": [
       "                         0           1           2  \\\n",
       "226829  425138243257253888  1390195830    Yanch_96   \n",
       "226830  425138339503943682  1390195853     tkit_on   \n",
       "226831  425138437684215808  1390195876    ckooker1   \n",
       "226832  425138490452344832  1390195889  LisaBeroud   \n",
       "226833  425138595251625984  1390195914  sukapavlov   \n",
       "\n",
       "                                                     text  4  5  6  7     8  \\\n",
       "226829  Но не каждый хочет что то исправлять:( http://... -1  0  0  0  1138   \n",
       "226830  скучаю так :-( только @taaannyaaa вправляет мо... -1  0  0  0  4822   \n",
       "226831          Вот и в школу, в говно это идти уже надо( -1  0  0  1   165   \n",
       "226832  RT @_Them__: @LisaBeroud Тауриэль, не грусти :... -1  0  1  0  2516   \n",
       "226833  Такси везет меня на работу. Раздумываю приплат... -1  0  0  0  7778   \n",
       "\n",
       "          9   10  11  \n",
       "226829   32   46   0  \n",
       "226830   38   32   0  \n",
       "226831   13   16   0  \n",
       "226832  187  265   0  \n",
       "226833  146   66   5  "
      ]
     },
     "execution_count": 9,
     "metadata": {},
     "output_type": "execute_result"
    }
   ],
   "source": [
    "df.tail()"
   ]
  },
  {
   "cell_type": "markdown",
   "id": "36f1ab0d",
   "metadata": {
    "id": "bsWr6XDzf6Mp",
    "papermill": {
     "duration": 0.010859,
     "end_time": "2023-08-17T14:52:10.422750",
     "exception": false,
     "start_time": "2023-08-17T14:52:10.411891",
     "status": "completed"
    },
    "tags": []
   },
   "source": [
    "### Предобработка\n",
    "\n",
    "\n",
    "Все модели, с которыми мы будем работать далее, работают с предобработанными текстами, поэтому сперва проведем стандартную предобработку текста:"
   ]
  },
  {
   "cell_type": "code",
   "execution_count": 11,
   "id": "5be40a48",
   "metadata": {
    "id": "XDBV03ENKhgu",
    "papermill": {
     "duration": 0.263952,
     "end_time": "2023-08-17T14:52:10.698587",
     "exception": false,
     "start_time": "2023-08-17T14:52:10.434635",
     "status": "completed"
    },
    "tags": []
   },
   "outputs": [],
   "source": [
    "morph = pymorphy3.MorphAnalyzer()"
   ]
  },
  {
   "cell_type": "code",
   "execution_count": 12,
   "id": "b1338df9",
   "metadata": {
    "id": "V3a8Btmff6Mp",
    "papermill": {
     "duration": 0.023843,
     "end_time": "2023-08-17T14:52:10.733907",
     "exception": false,
     "start_time": "2023-08-17T14:52:10.710064",
     "status": "completed"
    },
    "tags": []
   },
   "outputs": [],
   "source": [
    "words_regex = re.compile('\\w+')\n",
    "\n",
    "def find_words(text, regex = words_regex):\n",
    "    tokens =  regex.findall(text.lower())\n",
    "    return [w for w in tokens if w.isalpha() and len(w) >= 3]\n",
    "\n",
    "\n",
    "stopwords_list = stopwords.words('russian')\n",
    "\n",
    "# mystem = Mystem()\n",
    "# def lemmatize(words, lemmer = mystem, stopwords = stopwords_list):\n",
    "#     lemmas = lemmer.lemmatize(' '.join(words))\n",
    "#     return [w for w in lemmas if not w in stopwords\n",
    "#             and w.isalpha()]\n",
    "\n",
    "def lemmatize(words, lemmer = morph, stopwords = stopwords_list):\n",
    "    lemmas = [lemmer.parse(w)[0].normal_form for w in words]\n",
    "    return [w for w in lemmas if not w in stopwords\n",
    "            and w.isalpha()]\n",
    "\n",
    "def preprocess(text):\n",
    "    return (lemmatize(find_words(text)))"
   ]
  },
  {
   "cell_type": "code",
   "execution_count": 13,
   "id": "df83caaf",
   "metadata": {
    "id": "zkxfy_uXf6Mp",
    "outputId": "caa0ac35-7bd2-422c-abce-4c367a14524f",
    "papermill": {
     "duration": 0.0194,
     "end_time": "2023-08-17T14:52:10.764004",
     "exception": false,
     "start_time": "2023-08-17T14:52:10.744604",
     "status": "completed"
    },
    "tags": []
   },
   "outputs": [
    {
     "data": {
      "text/plain": [
       "'Да, все-таки он немного похож на него. Но мой мальчик все равно лучше:D'"
      ]
     },
     "execution_count": 13,
     "metadata": {},
     "output_type": "execute_result"
    }
   ],
   "source": [
    "df.text.iloc[1]"
   ]
  },
  {
   "cell_type": "code",
   "execution_count": 14,
   "id": "c295fed4",
   "metadata": {
    "id": "TLz9uO5Yf6Mp",
    "outputId": "656c6ef4-672e-47cd-ad8a-3ef7cf5969a3",
    "papermill": {
     "duration": 0.023631,
     "end_time": "2023-08-17T14:52:10.798448",
     "exception": false,
     "start_time": "2023-08-17T14:52:10.774817",
     "status": "completed"
    },
    "scrolled": true,
    "tags": []
   },
   "outputs": [
    {
     "name": "stdout",
     "output_type": "stream",
     "text": [
      "['всё', 'таки', 'немного', 'похожий', 'мальчик', 'всё', 'равно', 'хороший']\n"
     ]
    }
   ],
   "source": [
    "print(preprocess(df.text.iloc[1]))"
   ]
  },
  {
   "cell_type": "code",
   "execution_count": 15,
   "id": "e55b7e35",
   "metadata": {
    "id": "Cp9UP1pCf6Mp",
    "papermill": {
     "duration": 0.018063,
     "end_time": "2023-08-17T14:52:10.827977",
     "exception": false,
     "start_time": "2023-08-17T14:52:10.809914",
     "status": "completed"
    },
    "tags": []
   },
   "outputs": [],
   "source": [
    "# Возьмём весь dataframe для анализа:\n",
    "data = df#.sample(100000)"
   ]
  },
  {
   "cell_type": "code",
   "execution_count": 18,
   "id": "6fe4bfed",
   "metadata": {
    "id": "S8PnTSmRf6Mp",
    "outputId": "085896c9-1def-4204-f4ce-5f057fdccba1",
    "papermill": {
     "duration": 481.074855,
     "end_time": "2023-08-17T15:08:26.510317",
     "exception": false,
     "start_time": "2023-08-17T15:00:25.435462",
     "status": "completed"
    },
    "tags": []
   },
   "outputs": [
    {
     "data": {
      "application/vnd.jupyter.widget-view+json": {
       "model_id": "ad37ecf2150c4a6f9f91c175744b6414",
       "version_major": 2,
       "version_minor": 0
      },
      "text/plain": [
       "  0%|          | 0/226834 [00:00<?, ?it/s]"
      ]
     },
     "metadata": {},
     "output_type": "display_data"
    }
   ],
   "source": [
    "preprocessed_text = list(tqdm(map(preprocess, data['text']), total=len(data)))"
   ]
  },
  {
   "cell_type": "code",
   "execution_count": 21,
   "id": "e8a07811",
   "metadata": {
    "id": "DriM5_5_f6Mq",
    "outputId": "7573c150-7e82-4ecc-d984-be6c5ed55e17",
    "papermill": {
     "duration": 0.122692,
     "end_time": "2023-08-17T15:08:26.645167",
     "exception": false,
     "start_time": "2023-08-17T15:08:26.522475",
     "status": "completed"
    },
    "tags": []
   },
   "outputs": [
    {
     "data": {
      "text/html": [
       "<div>\n",
       "<style scoped>\n",
       "    .dataframe tbody tr th:only-of-type {\n",
       "        vertical-align: middle;\n",
       "    }\n",
       "\n",
       "    .dataframe tbody tr th {\n",
       "        vertical-align: top;\n",
       "    }\n",
       "\n",
       "    .dataframe thead th {\n",
       "        text-align: right;\n",
       "    }\n",
       "</style>\n",
       "<table border=\"1\" class=\"dataframe\">\n",
       "  <thead>\n",
       "    <tr style=\"text-align: right;\">\n",
       "      <th></th>\n",
       "      <th>0</th>\n",
       "      <th>1</th>\n",
       "      <th>2</th>\n",
       "      <th>text</th>\n",
       "      <th>4</th>\n",
       "      <th>5</th>\n",
       "      <th>6</th>\n",
       "      <th>7</th>\n",
       "      <th>8</th>\n",
       "      <th>9</th>\n",
       "      <th>10</th>\n",
       "      <th>11</th>\n",
       "    </tr>\n",
       "  </thead>\n",
       "  <tbody>\n",
       "    <tr>\n",
       "      <th>203932</th>\n",
       "      <td>421537845476487168</td>\n",
       "      <td>1389337428</td>\n",
       "      <td>ego_radost</td>\n",
       "      <td>[ещё, английский, ехать, ещё, олимпиада, впереди]</td>\n",
       "      <td>-1</td>\n",
       "      <td>0</td>\n",
       "      <td>0</td>\n",
       "      <td>0</td>\n",
       "      <td>114</td>\n",
       "      <td>4</td>\n",
       "      <td>6</td>\n",
       "      <td>0</td>\n",
       "    </tr>\n",
       "    <tr>\n",
       "      <th>209126</th>\n",
       "      <td>422404678694207488</td>\n",
       "      <td>1389544097</td>\n",
       "      <td>nastya88vasilen</td>\n",
       "      <td>[черта, планшет, ноут, забирут, это, будить, п...</td>\n",
       "      <td>-1</td>\n",
       "      <td>0</td>\n",
       "      <td>0</td>\n",
       "      <td>0</td>\n",
       "      <td>5</td>\n",
       "      <td>0</td>\n",
       "      <td>2</td>\n",
       "      <td>0</td>\n",
       "    </tr>\n",
       "    <tr>\n",
       "      <th>50249</th>\n",
       "      <td>410035912630751232</td>\n",
       "      <td>1386595154</td>\n",
       "      <td>LOVE_TO_BLAME</td>\n",
       "      <td>[макаров, научить, делать, скрин, телефон, реш...</td>\n",
       "      <td>1</td>\n",
       "      <td>0</td>\n",
       "      <td>0</td>\n",
       "      <td>0</td>\n",
       "      <td>8577</td>\n",
       "      <td>151</td>\n",
       "      <td>73</td>\n",
       "      <td>3</td>\n",
       "    </tr>\n",
       "  </tbody>\n",
       "</table>\n",
       "</div>"
      ],
      "text/plain": [
       "                         0           1                2  \\\n",
       "203932  421537845476487168  1389337428       ego_radost   \n",
       "209126  422404678694207488  1389544097  nastya88vasilen   \n",
       "50249   410035912630751232  1386595154    LOVE_TO_BLAME   \n",
       "\n",
       "                                                     text  4  5  6  7     8  \\\n",
       "203932  [ещё, английский, ехать, ещё, олимпиада, впереди] -1  0  0  0   114   \n",
       "209126  [черта, планшет, ноут, забирут, это, будить, п... -1  0  0  0     5   \n",
       "50249   [макаров, научить, делать, скрин, телефон, реш...  1  0  0  0  8577   \n",
       "\n",
       "          9  10  11  \n",
       "203932    4   6   0  \n",
       "209126    0   2   0  \n",
       "50249   151  73   3  "
      ]
     },
     "execution_count": 21,
     "metadata": {},
     "output_type": "execute_result"
    }
   ],
   "source": [
    "data['text'] = preprocessed_text\n",
    "data.sample(3)"
   ]
  },
  {
   "cell_type": "markdown",
   "id": "f16815e5",
   "metadata": {
    "id": "FFmXozKkf6Mq",
    "papermill": {
     "duration": 0.012158,
     "end_time": "2023-08-17T15:08:26.669969",
     "exception": false,
     "start_time": "2023-08-17T15:08:26.657811",
     "status": "completed"
    },
    "tags": []
   },
   "source": [
    "## Модель LDA\n",
    "\n",
    "\n",
    "Мы рассмотрим, LDA - латентное размещение Дирихле. Воспользуемся реализацией из библиотеки gensim."
   ]
  },
  {
   "cell_type": "code",
   "execution_count": 22,
   "id": "e72603f6",
   "metadata": {
    "id": "8Q0q12sDPl3m",
    "outputId": "1e13c6da-a486-44c6-a4c0-5090cd7ebe06",
    "papermill": {
     "duration": 11.210654,
     "end_time": "2023-08-17T15:08:37.892858",
     "exception": false,
     "start_time": "2023-08-17T15:08:26.682204",
     "status": "completed"
    },
    "tags": []
   },
   "outputs": [
    {
     "name": "stdout",
     "output_type": "stream",
     "text": [
      "Collecting gensim\n",
      "  Downloading gensim-4.3.2-cp311-cp311-win_amd64.whl.metadata (8.5 kB)\n",
      "Requirement already satisfied: numpy>=1.18.5 in d:\\programs\\anaconda3\\envs\\my_ds_python\\lib\\site-packages (from gensim) (1.26.2)\n",
      "Requirement already satisfied: scipy>=1.7.0 in d:\\programs\\anaconda3\\envs\\my_ds_python\\lib\\site-packages (from gensim) (1.11.4)\n",
      "Requirement already satisfied: smart-open>=1.8.1 in d:\\programs\\anaconda3\\envs\\my_ds_python\\lib\\site-packages (from gensim) (6.4.0)\n",
      "Downloading gensim-4.3.2-cp311-cp311-win_amd64.whl (24.0 MB)\n",
      "   ---------------------------------------- 0.0/24.0 MB ? eta -:--:--\n",
      "   ---------------------------------------- 0.0/24.0 MB ? eta -:--:--\n",
      "   ---------------------------------------- 0.1/24.0 MB 812.7 kB/s eta 0:00:30\n",
      "   ---------------------------------------- 0.2/24.0 MB 1.5 MB/s eta 0:00:17\n",
      "    --------------------------------------- 0.3/24.0 MB 1.9 MB/s eta 0:00:13\n",
      "    --------------------------------------- 0.5/24.0 MB 2.2 MB/s eta 0:00:11\n",
      "   - -------------------------------------- 0.7/24.0 MB 2.9 MB/s eta 0:00:09\n",
      "   -- ------------------------------------- 1.3/24.0 MB 4.4 MB/s eta 0:00:06\n",
      "   -- ------------------------------------- 1.7/24.0 MB 5.0 MB/s eta 0:00:05\n",
      "   --- ------------------------------------ 1.9/24.0 MB 5.3 MB/s eta 0:00:05\n",
      "   --- ------------------------------------ 1.9/24.0 MB 5.3 MB/s eta 0:00:05\n",
      "   --- ------------------------------------ 1.9/24.0 MB 5.3 MB/s eta 0:00:05\n",
      "   ---- ----------------------------------- 2.7/24.0 MB 5.1 MB/s eta 0:00:05\n",
      "   ----- ---------------------------------- 3.3/24.0 MB 5.7 MB/s eta 0:00:04\n",
      "   ------ --------------------------------- 3.9/24.0 MB 6.1 MB/s eta 0:00:04\n",
      "   ------- -------------------------------- 4.2/24.0 MB 6.4 MB/s eta 0:00:04\n",
      "   ------- -------------------------------- 4.2/24.0 MB 6.4 MB/s eta 0:00:04\n",
      "   ------- -------------------------------- 4.6/24.0 MB 6.1 MB/s eta 0:00:04\n",
      "   -------- ------------------------------- 4.9/24.0 MB 6.2 MB/s eta 0:00:04\n",
      "   -------- ------------------------------- 5.1/24.0 MB 6.0 MB/s eta 0:00:04\n",
      "   --------- ------------------------------ 5.5/24.0 MB 6.0 MB/s eta 0:00:04\n",
      "   --------- ------------------------------ 5.7/24.0 MB 6.0 MB/s eta 0:00:04\n",
      "   --------- ------------------------------ 5.7/24.0 MB 6.0 MB/s eta 0:00:04\n",
      "   ---------- ----------------------------- 6.3/24.0 MB 6.0 MB/s eta 0:00:03\n",
      "   ----------- ---------------------------- 6.7/24.0 MB 6.2 MB/s eta 0:00:03\n",
      "   ----------- ---------------------------- 7.2/24.0 MB 6.4 MB/s eta 0:00:03\n",
      "   ------------ --------------------------- 7.6/24.0 MB 6.5 MB/s eta 0:00:03\n",
      "   ------------- -------------------------- 8.0/24.0 MB 6.6 MB/s eta 0:00:03\n",
      "   -------------- ------------------------- 8.4/24.0 MB 6.7 MB/s eta 0:00:03\n",
      "   -------------- ------------------------- 9.0/24.0 MB 6.8 MB/s eta 0:00:03\n",
      "   --------------- ------------------------ 9.2/24.0 MB 6.8 MB/s eta 0:00:03\n",
      "   ---------------- ----------------------- 9.8/24.0 MB 7.0 MB/s eta 0:00:03\n",
      "   ---------------- ----------------------- 10.1/24.0 MB 6.9 MB/s eta 0:00:03\n",
      "   ----------------- ---------------------- 10.5/24.0 MB 7.6 MB/s eta 0:00:02\n",
      "   ------------------ --------------------- 10.8/24.0 MB 7.7 MB/s eta 0:00:02\n",
      "   ------------------ --------------------- 11.1/24.0 MB 7.9 MB/s eta 0:00:02\n",
      "   ------------------ --------------------- 11.4/24.0 MB 7.5 MB/s eta 0:00:02\n",
      "   ------------------- -------------------- 11.8/24.0 MB 7.5 MB/s eta 0:00:02\n",
      "   -------------------- ------------------- 12.4/24.0 MB 8.4 MB/s eta 0:00:02\n",
      "   --------------------- ------------------ 12.8/24.0 MB 8.2 MB/s eta 0:00:02\n",
      "   ---------------------- ----------------- 13.4/24.0 MB 8.2 MB/s eta 0:00:02\n",
      "   ---------------------- ----------------- 13.8/24.0 MB 8.0 MB/s eta 0:00:02\n",
      "   ----------------------- ---------------- 13.9/24.0 MB 7.7 MB/s eta 0:00:02\n",
      "   ----------------------- ---------------- 14.0/24.0 MB 7.5 MB/s eta 0:00:02\n",
      "   ------------------------ --------------- 14.6/24.0 MB 8.0 MB/s eta 0:00:02\n",
      "   ------------------------ --------------- 14.7/24.0 MB 7.9 MB/s eta 0:00:02\n",
      "   ------------------------ --------------- 14.7/24.0 MB 7.9 MB/s eta 0:00:02\n",
      "   ------------------------- -------------- 15.1/24.0 MB 7.6 MB/s eta 0:00:02\n",
      "   ------------------------- -------------- 15.3/24.0 MB 7.6 MB/s eta 0:00:02\n",
      "   -------------------------- ------------- 15.9/24.0 MB 7.8 MB/s eta 0:00:02\n",
      "   -------------------------- ------------- 16.1/24.0 MB 8.0 MB/s eta 0:00:01\n",
      "   --------------------------- ------------ 16.7/24.0 MB 8.0 MB/s eta 0:00:01\n",
      "   ---------------------------- ----------- 17.0/24.0 MB 7.9 MB/s eta 0:00:01\n",
      "   ----------------------------- ---------- 17.6/24.0 MB 8.0 MB/s eta 0:00:01\n",
      "   ----------------------------- ---------- 17.9/24.0 MB 7.9 MB/s eta 0:00:01\n",
      "   ------------------------------ --------- 18.4/24.0 MB 7.9 MB/s eta 0:00:01\n",
      "   ------------------------------ --------- 18.4/24.0 MB 7.9 MB/s eta 0:00:01\n",
      "   -------------------------------- ------- 19.3/24.0 MB 8.0 MB/s eta 0:00:01\n",
      "   -------------------------------- ------- 19.7/24.0 MB 8.1 MB/s eta 0:00:01\n",
      "   --------------------------------- ------ 20.0/24.0 MB 8.0 MB/s eta 0:00:01\n",
      "   --------------------------------- ------ 20.4/24.0 MB 8.0 MB/s eta 0:00:01\n",
      "   ---------------------------------- ----- 20.8/24.0 MB 7.9 MB/s eta 0:00:01\n",
      "   ----------------------------------- ---- 21.2/24.0 MB 8.0 MB/s eta 0:00:01\n",
      "   ------------------------------------ --- 21.6/24.0 MB 8.2 MB/s eta 0:00:01\n",
      "   ------------------------------------ --- 22.1/24.0 MB 8.3 MB/s eta 0:00:01\n",
      "   ------------------------------------- -- 22.5/24.0 MB 8.1 MB/s eta 0:00:01\n",
      "   -------------------------------------- - 22.9/24.0 MB 8.1 MB/s eta 0:00:01\n",
      "   -------------------------------------- - 23.4/24.0 MB 8.1 MB/s eta 0:00:01\n",
      "   ---------------------------------------  23.8/24.0 MB 8.0 MB/s eta 0:00:01\n",
      "   ---------------------------------------  23.9/24.0 MB 7.9 MB/s eta 0:00:01\n",
      "   ---------------------------------------  24.0/24.0 MB 7.7 MB/s eta 0:00:01\n",
      "   ---------------------------------------- 24.0/24.0 MB 7.7 MB/s eta 0:00:00\n",
      "Installing collected packages: gensim\n",
      "Successfully installed gensim-4.3.2\n"
     ]
    }
   ],
   "source": [
    "#!pip install -U gensim"
   ]
  },
  {
   "cell_type": "code",
   "execution_count": 23,
   "id": "b982fdc9",
   "metadata": {
    "id": "jITId1Axf6Mq",
    "papermill": {
     "duration": 0.218043,
     "end_time": "2023-08-17T15:08:38.124421",
     "exception": false,
     "start_time": "2023-08-17T15:08:37.906378",
     "status": "completed"
    },
    "tags": []
   },
   "outputs": [],
   "source": [
    "from gensim.models import *\n",
    "from gensim import corpora"
   ]
  },
  {
   "cell_type": "markdown",
   "id": "69f697d7",
   "metadata": {
    "id": "b1usmvtHf6Mq",
    "papermill": {
     "duration": 0.017813,
     "end_time": "2023-08-17T15:08:38.162671",
     "exception": false,
     "start_time": "2023-08-17T15:08:38.144858",
     "status": "completed"
    },
    "tags": []
   },
   "source": [
    "Модель использует векторное представление документов, например, мешок слов (bow), поэтому сперва создадим словарь:"
   ]
  },
  {
   "cell_type": "code",
   "execution_count": 24,
   "id": "9862ebec",
   "metadata": {
    "id": "l9-iZNVuf6Mq",
    "papermill": {
     "duration": 4.613986,
     "end_time": "2023-08-17T15:08:42.795238",
     "exception": false,
     "start_time": "2023-08-17T15:08:38.181252",
     "status": "completed"
    },
    "tags": []
   },
   "outputs": [],
   "source": [
    "dictionary = corpora.Dictionary(data['text'])\n",
    "\n",
    "dictionary.filter_extremes(no_below = 10, no_above = 0.9, keep_n=None) # игнорируем слова, которые встречаются реже 10 раз или составляют более 0.9 словаря\n",
    "dictionary.save('tweets.dict')"
   ]
  },
  {
   "cell_type": "markdown",
   "id": "3292e203",
   "metadata": {
    "id": "gUZtBF3gf6Mq",
    "papermill": {
     "duration": 0.012208,
     "end_time": "2023-08-17T15:08:42.820906",
     "exception": false,
     "start_time": "2023-08-17T15:08:42.808698",
     "status": "completed"
    },
    "tags": []
   },
   "source": [
    "Векторизуем документы:"
   ]
  },
  {
   "cell_type": "code",
   "execution_count": 25,
   "id": "dcdf5c21",
   "metadata": {
    "id": "Sn17WY1vf6Mq",
    "papermill": {
     "duration": 5.056814,
     "end_time": "2023-08-17T15:08:47.890318",
     "exception": false,
     "start_time": "2023-08-17T15:08:42.833504",
     "status": "completed"
    },
    "tags": []
   },
   "outputs": [],
   "source": [
    "corpus = [dictionary.doc2bow(text) for text in data['text']]\n",
    "corpora.MmCorpus.serialize('tweets.model', corpus)"
   ]
  },
  {
   "cell_type": "markdown",
   "id": "eb9bbbae",
   "metadata": {
    "id": "cx4kZUtff6Mq",
    "papermill": {
     "duration": 0.012278,
     "end_time": "2023-08-17T15:08:47.916451",
     "exception": false,
     "start_time": "2023-08-17T15:08:47.904173",
     "status": "completed"
    },
    "tags": []
   },
   "source": [
    "Теперь можем обучать модель:"
   ]
  },
  {
   "cell_type": "code",
   "execution_count": 26,
   "id": "3eb10ac1",
   "metadata": {
    "id": "oOzLXIDQf6Mq",
    "outputId": "2f864d17-6b97-4252-fece-1305f5d5a094",
    "papermill": {
     "duration": 168.326432,
     "end_time": "2023-08-17T15:11:36.255305",
     "exception": false,
     "start_time": "2023-08-17T15:08:47.928873",
     "status": "completed"
    },
    "tags": []
   },
   "outputs": [
    {
     "name": "stdout",
     "output_type": "stream",
     "text": [
      "CPU times: total: 2min 12s\n",
      "Wall time: 2min 12s\n"
     ]
    }
   ],
   "source": [
    "%time lda = ldamodel.LdaModel(corpus, id2word=dictionary, num_topics=10, chunksize=50, update_every=1, passes=2)"
   ]
  },
  {
   "cell_type": "markdown",
   "id": "2d6a0f23",
   "metadata": {
    "id": "BbQWg_jPf6Mq",
    "papermill": {
     "duration": 0.012401,
     "end_time": "2023-08-17T15:11:36.280798",
     "exception": false,
     "start_time": "2023-08-17T15:11:36.268397",
     "status": "completed"
    },
    "tags": []
   },
   "source": [
    "Посмотрим на получившиеся темы:"
   ]
  },
  {
   "cell_type": "code",
   "execution_count": 27,
   "id": "f1158d46",
   "metadata": {
    "id": "EqQzwFm2c1_B",
    "outputId": "ac917ce0-ac18-472a-9a97-21efc433b482",
    "papermill": {
     "duration": 0.025653,
     "end_time": "2023-08-17T15:11:36.319095",
     "exception": false,
     "start_time": "2023-08-17T15:11:36.293442",
     "status": "completed"
    },
    "tags": []
   },
   "outputs": [
    {
     "data": {
      "text/plain": [
       "[(0,\n",
       "  '0.061*\"завтра\" + 0.048*\"человек\" + 0.039*\"идти\" + 0.035*\"школа\" + 0.026*\"говорить\" + 0.023*\"урок\" + 0.021*\"последний\" + 0.018*\"первый\" + 0.018*\"улица\" + 0.018*\"холодно\"'),\n",
       " (1,\n",
       "  '0.110*\"хотеть\" + 0.032*\"делать\" + 0.032*\"любить\" + 0.030*\"свой\" + 0.030*\"ещё\" + 0.029*\"спать\" + 0.026*\"болеть\" + 0.025*\"дом\" + 0.022*\"сидеть\" + 0.019*\"мама\"'),\n",
       " (2,\n",
       "  '0.073*\"знать\" + 0.068*\"блин\" + 0.065*\"вообще\" + 0.027*\"бля\" + 0.024*\"посмотреть\" + 0.019*\"заболеть\" + 0.017*\"бояться\" + 0.017*\"скучно\" + 0.016*\"жить\" + 0.016*\"дать\"'),\n",
       " (3,\n",
       "  '0.140*\"http\" + 0.060*\"весь\" + 0.050*\"очень\" + 0.029*\"сказать\" + 0.022*\"скучать\" + 0.021*\"год\" + 0.021*\"жаль\" + 0.016*\"сделать\" + 0.016*\"твой\" + 0.015*\"голова\"'),\n",
       " (4,\n",
       "  '0.103*\"день\" + 0.039*\"пойти\" + 0.027*\"ночь\" + 0.024*\"наш\" + 0.023*\"скоро\" + 0.021*\"вчера\" + 0.021*\"второй\" + 0.021*\"прийти\" + 0.020*\"забыть\" + 0.019*\"пиздец\"'),\n",
       " (5,\n",
       "  '0.095*\"мочь\" + 0.082*\"сегодня\" + 0.058*\"просто\" + 0.023*\"друг\" + 0.019*\"нужно\" + 0.017*\"написать\" + 0.016*\"снова\" + 0.015*\"прийтись\" + 0.015*\"казаться\" + 0.013*\"город\"'),\n",
       " (6,\n",
       "  '0.186*\"всё\" + 0.056*\"ещё\" + 0.051*\"почему\" + 0.039*\"большой\" + 0.034*\"хороший\" + 0.028*\"думать\" + 0.022*\"стать\" + 0.016*\"равно\" + 0.015*\"найти\" + 0.013*\"ненавидеть\"'),\n",
       " (7,\n",
       "  '0.047*\"смотреть\" + 0.042*\"который\" + 0.040*\"время\" + 0.033*\"никто\" + 0.032*\"плохо\" + 0.026*\"работа\" + 0.025*\"любимый\" + 0.020*\"понять\" + 0.020*\"домой\" + 0.015*\"месяц\"'),\n",
       " (8,\n",
       "  '0.230*\"это\" + 0.032*\"час\" + 0.024*\"ждать\" + 0.022*\"настроение\" + 0.022*\"плохой\" + 0.018*\"видеть\" + 0.016*\"пора\" + 0.015*\"минута\" + 0.014*\"конец\" + 0.013*\"парень\"'),\n",
       " (9,\n",
       "  '0.041*\"писать\" + 0.035*\"жизнь\" + 0.034*\"самый\" + 0.031*\"хотеться\" + 0.026*\"утро\" + 0.025*\"понимать\" + 0.024*\"неделя\" + 0.017*\"учить\" + 0.014*\"ранний\" + 0.014*\"устать\"')]"
      ]
     },
     "execution_count": 27,
     "metadata": {},
     "output_type": "execute_result"
    }
   ],
   "source": [
    "lda.show_topics(num_topics=10, num_words=10, formatted=True)"
   ]
  },
  {
   "cell_type": "markdown",
   "id": "e57771ca",
   "metadata": {
    "id": "j5PIsI6ef6Mq",
    "papermill": {
     "duration": 0.012357,
     "end_time": "2023-08-17T15:11:36.344303",
     "exception": false,
     "start_time": "2023-08-17T15:11:36.331946",
     "status": "completed"
    },
    "tags": []
   },
   "source": [
    "На полученные темы можно посмотреть, изобразив их на плоскости с помощью библиотеки __pyLDAvis__. Чтобы спроецировать темы на плоскость, внутри применяется PCA-разложение."
   ]
  },
  {
   "cell_type": "code",
   "execution_count": 30,
   "id": "25d0edea",
   "metadata": {
    "id": "BlW0h05wf6Mq",
    "outputId": "fd7e027f-36b9-48e7-fb0f-d09d84f7b240",
    "papermill": {
     "duration": 20.343975,
     "end_time": "2023-08-17T15:11:56.700865",
     "exception": false,
     "start_time": "2023-08-17T15:11:36.356890",
     "status": "completed"
    },
    "tags": []
   },
   "outputs": [
    {
     "name": "stdout",
     "output_type": "stream",
     "text": [
      "CPU times: total: 7.3 s\n",
      "Wall time: 10.1 s\n"
     ]
    },
    {
     "data": {
      "text/html": [
       "\n",
       "<link rel=\"stylesheet\" type=\"text/css\" href=\"https://cdn.jsdelivr.net/gh/bmabey/pyLDAvis@3.4.0/pyLDAvis/js/ldavis.v1.0.0.css\">\n",
       "\n",
       "\n",
       "<div id=\"ldavis_el1255229697330284808536704971\" style=\"background-color:white;\"></div>\n",
       "<script type=\"text/javascript\">\n",
       "\n",
       "var ldavis_el1255229697330284808536704971_data = {\"mdsDat\": {\"x\": [-0.08808513447363864, 0.32189020786665445, 0.308977572155738, -0.08150535927405259, -0.07849653393159658, -0.07765969479316735, -0.07851993339463395, -0.07469801642827677, -0.07530079732657328, -0.07660231040045364], \"y\": [-0.4481138871402618, -0.006239606077456495, -0.005164660423182534, 0.11771594358517519, 0.07311160559306736, 0.04216338648018418, 0.05316450349258992, 0.06421291077258376, 0.055413533257193615, 0.053736270460106324], \"topics\": [1, 2, 3, 4, 5, 6, 7, 8, 9, 10], \"cluster\": [1, 1, 1, 1, 1, 1, 1, 1, 1, 1], \"Freq\": [14.995838873541006, 11.916951033931708, 10.872657364066175, 10.058899445841377, 9.27735025297091, 9.096479432081196, 9.084592294022006, 8.739400865937515, 8.397608821238434, 7.560221616369672]}, \"tinfo\": {\"Term\": [\"\\u044d\\u0442\\u043e\", \"\\u0432\\u0441\\u0451\", \"http\", \"\\u0445\\u043e\\u0442\\u0435\\u0442\\u044c\", \"\\u0434\\u0435\\u043d\\u044c\", \"\\u043c\\u043e\\u0447\\u044c\", \"\\u0441\\u0435\\u0433\\u043e\\u0434\\u043d\\u044f\", \"\\u0432\\u0435\\u0441\\u044c\", \"\\u0435\\u0449\\u0451\", \"\\u043e\\u0447\\u0435\\u043d\\u044c\", \"\\u0437\\u043d\\u0430\\u0442\\u044c\", \"\\u0437\\u0430\\u0432\\u0442\\u0440\\u0430\", \"\\u0431\\u043b\\u0438\\u043d\", \"\\u043f\\u0440\\u043e\\u0441\\u0442\\u043e\", \"\\u0432\\u043e\\u043e\\u0431\\u0449\\u0435\", \"\\u043f\\u043e\\u0447\\u0435\\u043c\\u0443\", \"\\u0447\\u0435\\u043b\\u043e\\u0432\\u0435\\u043a\", \"\\u0441\\u043c\\u043e\\u0442\\u0440\\u0435\\u0442\\u044c\", \"\\u0431\\u043e\\u043b\\u044c\\u0448\\u043e\\u0439\", \"\\u0438\\u0434\\u0442\\u0438\", \"\\u043a\\u043e\\u0442\\u043e\\u0440\\u044b\\u0439\", \"\\u043f\\u0438\\u0441\\u0430\\u0442\\u044c\", \"\\u043f\\u043e\\u0439\\u0442\\u0438\", \"\\u0432\\u0440\\u0435\\u043c\\u044f\", \"\\u0434\\u0435\\u043b\\u0430\\u0442\\u044c\", \"\\u0445\\u043e\\u0440\\u043e\\u0448\\u0438\\u0439\", \"\\u0441\\u043a\\u0430\\u0437\\u0430\\u0442\\u044c\", \"\\u0448\\u043a\\u043e\\u043b\\u0430\", \"\\u043b\\u044e\\u0431\\u0438\\u0442\\u044c\", \"\\u0441\\u0432\\u043e\\u0439\", \"http\", \"\\u0432\\u0435\\u0441\\u044c\", \"\\u043e\\u0447\\u0435\\u043d\\u044c\", \"\\u0441\\u043a\\u0430\\u0437\\u0430\\u0442\\u044c\", \"\\u0441\\u043a\\u0443\\u0447\\u0430\\u0442\\u044c\", \"\\u0433\\u043e\\u0434\", \"\\u0436\\u0430\\u043b\\u044c\", \"\\u0441\\u0434\\u0435\\u043b\\u0430\\u0442\\u044c\", \"\\u0442\\u0432\\u043e\\u0439\", \"\\u0433\\u043e\\u043b\\u043e\\u0432\\u0430\", \"\\u043d\\u043e\\u0432\\u044b\\u0439\", \"\\u0434\\u0435\\u043b\\u043e\", \"\\u0432\\u044b\\u0445\\u043e\\u0434\\u043d\\u043e\\u0439\", \"\\u0436\\u0430\\u043b\\u043a\\u043e\", \"\\u0432\\u0440\\u043e\\u0434\\u0435\", \"amp\", \"\\u0432\\u0435\\u0447\\u0435\\u0440\", \"\\u0443\\u0447\\u0451\\u0431\\u0430\", \"\\u0441\\u043d\\u0435\\u0433\", \"\\u0434\\u0430\\u0432\\u0430\\u0442\\u044c\", \"\\u0431\\u043e\\u043b\\u044c\\u043d\\u043e\", \"\\u043f\\u0435\\u0441\\u043d\\u044f\", \"\\u0443\\u0432\\u0438\\u0434\\u0435\\u0442\\u044c\", \"\\u043c\\u043e\\u043c\\u0435\\u043d\\u0442\", \"\\u0438\\u0433\\u0440\\u0430\\u0442\\u044c\", \"\\u043f\\u043e\\u0433\\u043e\\u0434\\u0430\", \"\\u0443\\u043a\\u0440\\u0430\\u0438\\u043d\\u0430\", \"\\u0432\\u0430\\u0448\", \"\\u0440\\u0435\\u0431\\u044f\\u0442\\u0430\", \"\\u0431\\u044b\\u0432\\u0430\\u0442\\u044c\", \"\\u0445\\u043e\\u0442\\u0435\\u0442\\u044c\", \"\\u0434\\u0435\\u043b\\u0430\\u0442\\u044c\", \"\\u043b\\u044e\\u0431\\u0438\\u0442\\u044c\", \"\\u0441\\u0432\\u043e\\u0439\", \"\\u0441\\u043f\\u0430\\u0442\\u044c\", \"\\u0431\\u043e\\u043b\\u0435\\u0442\\u044c\", \"\\u0434\\u043e\\u043c\", \"\\u0441\\u0438\\u0434\\u0435\\u0442\\u044c\", \"\\u043c\\u0430\\u043c\\u0430\", \"\\u043a\\u0430\\u0436\\u0434\\u044b\\u0439\", \"\\u043f\\u043e\\u043a\\u0430\", \"\\u043d\\u0438\\u0431\\u044b\\u0442\\u044c\", \"\\u043e\\u0441\\u0442\\u0430\\u0442\\u044c\\u0441\\u044f\", \"\\u044d\\u043a\\u0437\\u0430\\u043c\\u0435\\u043d\", \"\\u0445\\u043e\\u0442\\u044f\", \"\\u0443\\u0436\\u0430\\u0441\\u043d\\u043e\", \"\\u0431\\u043e\\u0433\", \"\\u043f\\u0440\\u043e\\u0439\\u0442\\u0438\", \"\\u0437\\u0430\\u043a\\u043e\\u043d\\u0447\\u0438\\u0442\\u044c\\u0441\\u044f\", \"\\u0441\\u043b\\u043e\\u0432\\u043e\", \"\\u043f\\u0430\\u043f\\u0430\", \"\\u0443\\u0439\\u0442\\u0438\", \"\\u0432\\u044b\\u0439\\u0442\\u0438\", \"\\u0434\\u0430\\u0432\\u043d\\u043e\", \"\\u0437\\u0438\\u043c\\u0430\", \"\\u0432\\u044b\\u0445\\u043e\\u0434\\u0438\\u0442\\u044c\", \"\\u0432\\u0437\\u044f\\u0442\\u044c\", \"\\u043c\\u044b\\u0441\\u043b\\u044c\", \"\\u043d\\u0430\\u0434\\u043e\\u0435\\u0441\\u0442\\u044c\", \"\\u043b\\u0438\\u0448\\u044c\", \"\\u0435\\u0449\\u0451\", \"\\u0432\\u0441\\u0451\", \"\\u043f\\u043e\\u0447\\u0435\\u043c\\u0443\", \"\\u0431\\u043e\\u043b\\u044c\\u0448\\u043e\\u0439\", \"\\u0445\\u043e\\u0440\\u043e\\u0448\\u0438\\u0439\", \"\\u0434\\u0443\\u043c\\u0430\\u0442\\u044c\", \"\\u0441\\u0442\\u0430\\u0442\\u044c\", \"\\u0440\\u0430\\u0432\\u043d\\u043e\", \"\\u043d\\u0430\\u0439\\u0442\\u0438\", \"\\u043d\\u0435\\u043d\\u0430\\u0432\\u0438\\u0434\\u0435\\u0442\\u044c\", \"\\u043f\\u0440\\u043e\\u0441\\u0442\\u0438\\u0442\\u044c\", \"\\u0440\\u0430\\u0431\\u043e\\u0442\\u0430\\u0442\\u044c\", \"\\u0441\\u043f\\u0430\\u0441\\u0438\\u0431\\u043e\", \"\\u0441\\u043c\\u043e\\u0447\\u044c\", \"\\u0440\\u0430\\u043d\\u043e\", \"\\u0442\\u0430\\u043a\\u0438\", \"\\u0432\\u043e\\u0434\\u0430\", \"\\u0441\\u043b\\u0435\\u0437\\u0430\", \"\\u0438\\u0431\\u043e\", \"\\u0438\\u043d\\u0442\\u0435\\u0440\\u043d\\u0435\\u0442\", \"\\u0440\\u044f\\u0434\\u043e\\u043c\", \"\\u043d\\u0435\\u043c\\u043d\\u043e\\u0433\\u043e\", \"\\u0430\\u0430\\u0430\", \"\\u043a\\u0441\\u0442\\u0430\\u0442\\u0438\", \"\\u0441\\u0435\\u0440\\u0438\\u044f\", \"\\u0437\\u0430\\u0439\\u0442\\u0438\", \"\\u043f\\u043e\\u044d\\u0442\\u043e\\u043c\\u0443\", \"\\u0441\\u043c\\u044b\\u0441\\u043b\", \"https\", \"\\u043d\\u043e\\u0440\\u043c\\u0430\", \"\\u0430\\u043b\\u0433\\u0435\\u0431\\u0440\\u0430\", \"\\u0435\\u0449\\u0451\", \"\\u0437\\u0430\\u0432\\u0442\\u0440\\u0430\", \"\\u0447\\u0435\\u043b\\u043e\\u0432\\u0435\\u043a\", \"\\u0438\\u0434\\u0442\\u0438\", \"\\u0448\\u043a\\u043e\\u043b\\u0430\", \"\\u0433\\u043e\\u0432\\u043e\\u0440\\u0438\\u0442\\u044c\", \"\\u0443\\u0440\\u043e\\u043a\", \"\\u043f\\u043e\\u0441\\u043b\\u0435\\u0434\\u043d\\u0438\\u0439\", \"\\u043f\\u0435\\u0440\\u0432\\u044b\\u0439\", \"\\u0443\\u043b\\u0438\\u0446\\u0430\", \"\\u0445\\u043e\\u043b\\u043e\\u0434\\u043d\\u043e\", \"\\u0447\\u0438\\u0442\\u0430\\u0442\\u044c\", \"\\u043d\\u0440\\u0430\\u0432\\u0438\\u0442\\u044c\\u0441\\u044f\", \"\\u0442\\u0435\\u043b\\u0435\\u0444\\u043e\\u043d\", \"\\u0432\\u0441\\u0442\\u0430\\u0432\\u0430\\u0442\\u044c\", \"\\u043a\\u0443\\u043f\\u0438\\u0442\\u044c\", \"\\u043f\\u043b\\u0430\\u043a\\u0430\\u0442\\u044c\", \"\\u0442\\u0435\\u043c\\u043f\\u0435\\u0440\\u0430\\u0442\\u0443\\u0440\\u0430\", \"\\u043f\\u0440\\u0430\\u0432\\u0434\\u0430\", \"\\u043f\\u043e\\u043b\\u0443\\u0447\\u0430\\u0442\\u044c\\u0441\\u044f\", \"\\u043d\\u043e\\u0433\\u0430\", \"\\u043d\\u0430\\u0447\\u0430\\u043b\\u043e\", \"\\u0444\\u043e\\u0442\\u043a\\u0430\", \"\\u0443\\u0447\\u0438\\u0442\\u044c\\u0441\\u044f\", \"\\u0441\\u043b\\u0438\\u0448\\u043a\\u043e\\u043c\", \"\\u043f\\u043e\\u0445\\u043e\\u0434\", \"\\u0441\\u043b\\u0443\\u0448\\u0430\\u0442\\u044c\", \"\\u043d\\u043e\\u0440\\u043c\\u0430\\u043b\\u044c\\u043d\\u044b\\u0439\", \"\\u0441\\u0435\\u0437\\u043e\\u043d\", \"\\u043f\\u0440\\u0438\\u0445\\u043e\\u0434\\u0438\\u0442\\u044c\", \"\\u043f\\u0435\\u0447\\u0430\\u043b\\u044c\", \"\\u043c\\u043e\\u0447\\u044c\", \"\\u0441\\u0435\\u0433\\u043e\\u0434\\u043d\\u044f\", \"\\u043f\\u0440\\u043e\\u0441\\u0442\\u043e\", \"\\u0434\\u0440\\u0443\\u0433\", \"\\u043d\\u0443\\u0436\\u043d\\u043e\", \"\\u043d\\u0430\\u043f\\u0438\\u0441\\u0430\\u0442\\u044c\", \"\\u0441\\u043d\\u043e\\u0432\\u0430\", \"\\u043f\\u0440\\u0438\\u0439\\u0442\\u0438\\u0441\\u044c\", \"\\u043a\\u0430\\u0437\\u0430\\u0442\\u044c\\u0441\\u044f\", \"\\u0433\\u043e\\u0440\\u043e\\u0434\", \"\\u043e\\u0431\\u0438\\u0434\\u043d\\u043e\", \"\\u043c\\u0430\\u043b\\u0435\\u043d\\u044c\\u043a\\u0438\\u0439\", \"\\u0441\\u0438\\u043b\\u044c\\u043d\\u043e\", \"\\u043f\\u0430\\u0440\\u0430\", \"\\u0445\\u043e\\u0434\\u0438\\u0442\\u044c\", \"\\u0431\\u043e\\u043b\\u044c\", \"\\u0441\\u0442\\u043e\\u043b\\u044c\\u043a\\u043e\", \"\\u043d\\u0430\\u0432\\u0435\\u0440\\u043d\\u043e\\u0435\", \"\\u043d\\u043e\\u0440\\u043c\\u0430\\u043b\\u044c\\u043d\\u043e\", \"\\u043b\\u0435\\u043d\\u0442\\u0430\", \"\\u0447\\u0443\\u0432\\u0441\\u0442\\u0432\\u043e\\u0432\\u0430\\u0442\\u044c\", \"\\u043a\\u0430\\u0442\\u043e\\u043a\", \"\\u0443\\u0441\\u043d\\u0443\\u0442\\u044c\", \"\\u0441\\u0440\\u0430\\u0437\\u0443\", \"\\u043c\\u0435\\u0441\\u0442\\u043e\", \"\\u043f\\u043e\\u0436\\u0430\\u043b\\u0443\\u0439\\u0441\\u0442\\u0430\", \"\\u043d\\u0438\\u043a\\u0430\\u043a\", \"\\u0441\\u0442\\u043e\\u0438\\u0442\\u044c\", \"\\u043f\\u0435\\u0440\\u0435\\u0441\\u0442\\u0430\\u0442\\u044c\", \"\\u043d\\u043e\\u0447\\u044c\\u044e\", \"\\u0434\\u0435\\u043d\\u044c\", \"\\u043f\\u043e\\u0439\\u0442\\u0438\", \"\\u043d\\u043e\\u0447\\u044c\", \"\\u043d\\u0430\\u0448\", \"\\u0441\\u043a\\u043e\\u0440\\u043e\", \"\\u0432\\u0447\\u0435\\u0440\\u0430\", \"\\u0432\\u0442\\u043e\\u0440\\u043e\\u0439\", \"\\u043f\\u0440\\u0438\\u0439\\u0442\\u0438\", \"\\u0437\\u0430\\u0431\\u044b\\u0442\\u044c\", \"\\u043f\\u0438\\u0437\\u0434\\u0435\\u0446\", \"\\u0444\\u0438\\u043b\\u044c\\u043c\", \"\\u0431\\u043b\\u044f\\u0434\\u044c\", \"\\u0440\\u0443\\u043a\\u0430\", \"\\u0442\\u0432\\u0438\\u0442\\u0442\\u0435\\u0440\", \"\\u0441\\u043e\\u043d\", \"\\u043d\\u0430\\u0447\\u0438\\u043d\\u0430\\u0442\\u044c\", \"\\u043c\\u0443\\u0437\\u044b\\u043a\\u0430\", \"\\u0441\\u0435\\u0440\\u0438\\u0430\\u043b\", \"\\u043a\\u043b\\u0430\\u0441\\u0441\", \"\\u043a\\u043d\\u0438\\u0433\\u0430\", \"\\u043f\\u0440\\u044f\\u043c\", \"\\u0446\\u0435\\u043b\\u044b\\u0439\", \"\\u0432\\u043e\\u043f\\u0440\\u043e\\u0441\", \"\\u0441\\u0435\\u0441\\u0441\\u0438\\u044f\", \"\\u043f\\u0440\\u0438\\u0435\\u0445\\u0430\\u0442\\u044c\", \"\\u0441\\u0445\\u043e\\u0434\\u0438\\u0442\\u044c\", \"\\u0441\\u043e\\u0431\\u0438\\u0440\\u0430\\u0442\\u044c\\u0441\\u044f\", \"\\u0437\\u0430\\u0442\\u043e\", \"\\u043b\\u044e\\u0431\\u043e\\u0432\\u044c\", \"\\u043b\\u0435\\u0447\\u044c\", \"\\u044d\\u0442\\u043e\", \"\\u0447\\u0430\\u0441\", \"\\u0436\\u0434\\u0430\\u0442\\u044c\", \"\\u043d\\u0430\\u0441\\u0442\\u0440\\u043e\\u0435\\u043d\\u0438\\u0435\", \"\\u043f\\u043b\\u043e\\u0445\\u043e\\u0439\", \"\\u0432\\u0438\\u0434\\u0435\\u0442\\u044c\", \"\\u043f\\u043e\\u0440\\u0430\", \"\\u043c\\u0438\\u043d\\u0443\\u0442\\u0430\", \"\\u043a\\u043e\\u043d\\u0435\\u0446\", \"\\u043f\\u0430\\u0440\\u0435\\u043d\\u044c\", \"\\u043d\\u0430\\u0434\\u0435\\u044f\\u0442\\u044c\\u0441\\u044f\", \"\\u043b\\u0435\\u0442\\u043e\", \"\\u043f\\u0435\\u0447\\u0430\\u043b\\u044c\\u043d\\u043e\", \"\\u0440\\u0435\\u0431\\u0451\\u043d\\u043e\\u043a\", \"\\u043f\\u043e\\u043b\", \"\\u0432\\u0441\\u0442\\u0430\\u0442\\u044c\", \"\\u043d\\u0430\\u0437\\u0430\\u0434\", \"\\u0447\\u0435\\u0440\\u0442\\u0430\", \"\\u0441\\u0435\\u0439\", \"\\u0443\\u0437\\u043d\\u0430\\u0442\\u044c\", \"\\u0441\\u043a\\u043e\\u043b\\u044c\\u043a\\u043e\", \"\\u0441\\u043e\\u0431\\u0430\\u043a\\u0430\", \"\\u0436\\u0435\\u043b\\u0430\\u043d\\u0438\\u0435\", \"\\u0430\\u0432\\u0442\\u043e\\u0431\\u0443\\u0441\", \"\\u043f\\u0440\\u043e\\u0445\\u043e\\u0434\\u0438\\u0442\\u044c\", \"\\u0431\\u043e\\u043b\\u044c\\u0448\\u0438\\u0439\", \"\\u043f\\u043e\\u043d\\u0440\\u0430\\u0432\\u0438\\u0442\\u044c\\u0441\\u044f\", \"\\u0431\\u0440\\u0430\\u0442\\u044c\", \"\\u043f\\u0435\\u0440\\u0435\\u0436\\u0438\\u0432\\u0430\\u0442\\u044c\", \"\\u043d\\u0430\\u0441\\u0442\\u043e\\u043b\\u044c\\u043a\\u043e\", \"\\u043f\\u0438\\u0441\\u0430\\u0442\\u044c\", \"\\u0436\\u0438\\u0437\\u043d\\u044c\", \"\\u0441\\u0430\\u043c\\u044b\\u0439\", \"\\u0445\\u043e\\u0442\\u0435\\u0442\\u044c\\u0441\\u044f\", \"\\u0443\\u0442\\u0440\\u043e\", \"\\u043f\\u043e\\u043d\\u0438\\u043c\\u0430\\u0442\\u044c\", \"\\u043d\\u0435\\u0434\\u0435\\u043b\\u044f\", \"\\u0443\\u0447\\u0438\\u0442\\u044c\", \"\\u0440\\u0430\\u043d\\u043d\\u0438\\u0439\", \"\\u0443\\u0441\\u0442\\u0430\\u0442\\u044c\", \"\\u0442\\u0432\\u0438\\u0442\", \"\\u043f\\u043e\\u043d\\u0435\\u0434\\u0435\\u043b\\u044c\\u043d\\u0438\\u043a\", \"\\u0443\\u0436\\u0430\\u0441\\u043d\\u044b\\u0439\", \"\\u0447\\u0443\\u0432\\u0441\\u0442\\u0432\\u043e\", \"\\u0443\\u0436\\u0430\\u0441\", \"\\u0441\\u0443\\u043a\\u0430\", \"\\u0434\\u0435\\u043d\\u044c\\u0433\\u0430\", \"\\u043f\\u044b\\u0442\\u0430\\u0442\\u044c\\u0441\\u044f\", \"\\u043d\\u0443\\u0436\\u043d\\u044b\\u0439\", \"\\u0443\\u0435\\u0445\\u0430\\u0442\\u044c\", \"\\u0434\\u043e\\u043b\\u0433\\u043e\", \"\\u0433\\u043b\\u0430\\u0437\", \"\\u043f\\u0440\\u043e\\u0441\\u043d\\u0443\\u0442\\u044c\\u0441\\u044f\", \"\\u0431\\u0435\\u0441\\u0438\\u0442\\u044c\", \"\\u0435\\u0434\\u0430\", \"\\u0441\\u0435\\u0440\\u0434\\u0446\\u0435\", \"\\u0435\\u0445\\u0430\\u0442\\u044c\", \"\\u043a\\u0438\\u0435\\u0432\", \"\\u043a\\u0440\\u0443\\u0442\\u043e\", \"\\u043c\\u043e\\u0440\\u043e\\u0437\", \"\\u0441\\u043c\\u043e\\u0442\\u0440\\u0435\\u0442\\u044c\", \"\\u043a\\u043e\\u0442\\u043e\\u0440\\u044b\\u0439\", \"\\u0432\\u0440\\u0435\\u043c\\u044f\", \"\\u043d\\u0438\\u043a\\u0442\\u043e\", \"\\u043f\\u043b\\u043e\\u0445\\u043e\", \"\\u0440\\u0430\\u0431\\u043e\\u0442\\u0430\", \"\\u043b\\u044e\\u0431\\u0438\\u043c\\u044b\\u0439\", \"\\u043f\\u043e\\u043d\\u044f\\u0442\\u044c\", \"\\u0434\\u043e\\u043c\\u043e\\u0439\", \"\\u043c\\u0435\\u0441\\u044f\\u0446\", \"\\u043f\\u043e\\u043c\\u043d\\u0438\\u0442\\u044c\", \"\\u0434\\u043e\\u043b\\u0436\\u043d\\u044b\\u0439\", \"\\u0445\\u0432\\u0430\\u0442\\u0430\\u0442\\u044c\", \"\\u0434\\u0443\\u0448\\u0430\", \"\\u0443\\u0431\\u0438\\u0442\\u044c\", \"\\u043a\\u0430\\u043f\\u0435\\u0446\", \"\\u0434\\u0435\\u0432\\u0443\\u0448\\u043a\\u0430\", \"\\u0431\\u043e\\u043b\\u044c\\u043d\\u0438\\u0446\\u0430\", \"\\u043b\\u0438\\u0446\\u043e\", \"\\u043a\\u043e\\u0442\", \"\\u043f\\u043e\\u043f\\u0430\\u0441\\u0442\\u044c\", \"\\u0440\\u0443\\u0441\\u0441\\u043a\\u0438\\u0439\", \"\\u0442\\u043e\\u0447\\u043d\\u043e\", \"\\u0434\\u043e\\u0440\\u043e\\u0433\\u0430\", \"\\u0433\\u043e\\u0442\\u043e\\u0432\\u044b\\u0439\", \"\\u0445\\u0432\\u0430\\u0442\\u0438\\u0442\\u044c\", \"\\u043f\\u0440\\u043e\\u0438\\u0441\\u0445\\u043e\\u0434\\u0438\\u0442\\u044c\", \"\\u0437\\u0430\\u0431\\u0440\\u0430\\u0442\\u044c\", \"\\u0438\\u0433\\u0440\\u0430\", \"\\u0443\\u043c\\u0435\\u0442\\u044c\", \"\\u0437\\u043d\\u0430\\u0442\\u044c\", \"\\u0431\\u043b\\u0438\\u043d\", \"\\u0432\\u043e\\u043e\\u0431\\u0449\\u0435\", \"\\u0431\\u043b\\u044f\", \"\\u043f\\u043e\\u0441\\u043c\\u043e\\u0442\\u0440\\u0435\\u0442\\u044c\", \"\\u0437\\u0430\\u0431\\u043e\\u043b\\u0435\\u0442\\u044c\", \"\\u0431\\u043e\\u044f\\u0442\\u044c\\u0441\\u044f\", \"\\u0441\\u043a\\u0443\\u0447\\u043d\\u043e\", \"\\u0436\\u0438\\u0442\\u044c\", \"\\u0434\\u0430\\u0442\\u044c\", \"\\u043f\\u043e\\u043b\\u0443\\u0447\\u0438\\u0442\\u044c\\u0441\\u044f\", \"\\u0433\\u0443\\u043b\\u044f\\u0442\\u044c\", \"\\u043c\\u0430\\u043b\\u043e\", \"\\u043f\\u043e\\u0435\\u0445\\u0430\\u0442\\u044c\", \"\\u043d\\u0435\\u0442\\u0443\", \"\\u0440\\u043e\\u0434\\u0438\\u0442\\u0435\\u043b\\u044c\", \"\\u0433\\u0440\\u0443\\u0441\\u0442\\u043d\\u043e\", \"\\u0443\\u043c\\u0435\\u0440\\u0435\\u0442\\u044c\", \"\\u043f\\u0440\\u043e\\u0431\\u043b\\u0435\\u043c\\u0430\", \"\\u0437\\u043d\\u0430\\u0447\\u0438\\u0442\", \"\\u0441\\u0442\\u0430\\u0440\\u044b\\u0439\", \"\\u043f\\u043e\\u043c\\u043e\\u0447\\u044c\", \"\\u0440\\u0435\\u0448\\u0438\\u0442\\u044c\", \"\\u0447\\u0435\\u0441\\u0442\\u043d\\u043e\", \"\\u043f\\u043e\\u0434\\u0440\\u0443\\u0433\\u0430\", \"\\u043f\\u0440\\u0430\\u0432\\u043e\", \"\\u0433\\u043e\\u0442\\u043e\\u0432\\u0438\\u0442\\u044c\\u0441\\u044f\", \"\\u043c\\u0430\\u0433\\u0430\\u0437\\u0438\\u043d\", \"\\u0433\\u043e\\u0441\\u043f\\u043e\\u0434\\u044c\", \"\\u0433\\u0443\\u0431\\u0430\"], \"Freq\": [27657.0, 26705.0, 27810.0, 17282.0, 12331.0, 11700.0, 10023.0, 11849.0, 12717.0, 9999.0, 7329.0, 8124.0, 6784.0, 7086.0, 6514.0, 7316.0, 6355.0, 5177.0, 5642.0, 5139.0, 4688.0, 4729.0, 4682.0, 4461.0, 5086.0, 4871.0, 5687.0, 4669.0, 4986.0, 4786.0, 27809.05062540285, 11848.235511207298, 9998.920272224192, 5686.400050845097, 4415.878297195218, 4243.708357629234, 4071.7429318158784, 3223.5047923452394, 3107.6580879164517, 2924.6802979250183, 2603.621577757637, 2531.703246086536, 2317.373017911265, 2273.2580355832647, 1949.4328423794277, 1826.2540984238763, 1724.128457920297, 1681.4758965869485, 1601.615121977584, 1532.5448473489516, 1488.284693480841, 1476.4132054204451, 1415.4748442779762, 1394.2978881833926, 1342.9453708785793, 1339.164542853343, 1120.4668016684225, 1065.652316904858, 1031.1250242065046, 1029.453567268846, 17281.73995688492, 5085.113761356148, 4985.118807209316, 4785.820651743469, 4603.289434836157, 4035.0602516030076, 3903.99802669037, 3471.380854038478, 3038.864011949399, 2488.6206956036976, 2150.71249392306, 2018.391589829868, 1877.094034007093, 1849.5120768421668, 1737.6071221424531, 1698.737536614727, 1650.7761539015573, 1607.2147944233352, 1561.63303557057, 1401.4412105569818, 1401.310956843856, 1326.406417552092, 1194.1045087920645, 1185.3126765202946, 1031.7406884438933, 1005.1222127144025, 926.1797349746854, 924.7805343333491, 918.9664222229637, 907.2768115394192, 4735.0824300177055, 26704.21958978712, 7315.148338952614, 5641.074569681608, 4870.533446862261, 4074.44853214024, 3100.4679089488127, 2231.3989727625735, 2142.4788209689245, 1887.8734472841697, 1809.2978152301393, 1808.7994389476144, 1644.926251123477, 1543.142397221183, 1368.4627146501023, 1342.7212584699598, 1304.51129490789, 1267.5582459659804, 1222.4300326925427, 1157.0268444452736, 1116.4229617258977, 896.8377560355474, 877.9151821151681, 855.5950443192237, 804.3402421559213, 804.2101611283664, 789.6119784048811, 788.733061585471, 727.0871005486989, 724.1706491155819, 716.0975957141204, 7981.656758500292, 8123.222320939899, 6354.502184513662, 5138.681015515321, 4668.831122079051, 3517.482286587247, 3114.0156398316467, 2733.228860591769, 2386.886805135105, 2349.9638619600655, 2337.4496959524, 2094.1966642436682, 1966.457553896174, 1943.8524687801646, 1843.9831740132697, 1526.8869798166993, 1453.7462023513342, 1261.776810801012, 1212.4203031782627, 1193.7528085557708, 1181.5907636487425, 1117.3727398259998, 1066.7299501657963, 1037.4780840275803, 1017.1466810114657, 982.5010104820022, 975.4910271923134, 967.2845874131706, 963.3341823859274, 884.147916488104, 830.5660794696287, 11699.5941903747, 10022.594118465386, 7085.1990759028795, 2840.5889437555925, 2275.5448857862693, 2086.8801737895237, 1933.642409534155, 1836.0004247761497, 1780.1364081067757, 1636.0820842985097, 1556.1805227396708, 1547.962690434977, 1528.65041339472, 1466.9427317443078, 1461.8805972891273, 1426.9056217601035, 1418.6720309497746, 1381.216118511812, 1370.370612488459, 1300.3088673940565, 1258.986982432292, 1235.7381621690834, 1191.9715391845136, 1180.4671449182915, 1177.5581019395925, 1152.0965819394555, 1012.0079203319456, 895.8092674596912, 823.7563552438136, 812.9539567268183, 12330.921908701988, 4681.459706808966, 3259.7754807944525, 2864.367859152506, 2717.9549031708434, 2549.4049676784475, 2501.054558314934, 2481.7731542140987, 2434.102601104071, 2304.076733651339, 2186.496311192012, 2043.284009173153, 1955.6687661288258, 1758.0137723906128, 1356.8040837105184, 1287.7063022081445, 1255.939593294036, 1255.183488340184, 1246.8770825632826, 1237.2439941863229, 1233.6618727901157, 1224.970416674654, 1211.3529138318604, 1210.6302866480664, 1202.5942782447103, 1201.308463156596, 996.9911692452665, 982.4311384146858, 915.6056465592761, 895.5996558733892, 27656.46183607258, 3899.756382519267, 2891.499221852887, 2648.910457748809, 2623.3355556203483, 2185.3507642294867, 1889.2188119112755, 1857.8982899045955, 1630.0738332924975, 1554.6701621374682, 1417.6077810217841, 1405.8184305556692, 1375.959389034915, 1288.8112070216405, 1253.7384708461982, 1140.7561891706926, 1127.9225566649404, 1094.1858395289657, 1014.0004323357082, 959.7152101120411, 918.3860627148673, 802.4797018728002, 740.2413756842345, 672.201128513803, 664.6669561969934, 646.6833102252858, 635.0936693343709, 624.5934296396406, 622.566254449943, 613.6279091260933, 4728.0288739752195, 4080.134070770356, 3897.322973674751, 3542.2371060984265, 2965.791566055852, 2919.473595433781, 2807.7012720329676, 1912.1711676174357, 1620.235275101635, 1602.394473434097, 1566.847978791678, 1533.1310451721074, 1517.8307387230914, 1488.0032358363014, 1453.31418656742, 1443.9573717478975, 1364.3144548279433, 1314.5849897163016, 1270.1900589816637, 1260.9408147773136, 1255.2406478793393, 1227.2396940381732, 1202.8974319602437, 1197.0653834880684, 1171.6860331092637, 1148.0850401404857, 1110.4736199692213, 1097.487910446865, 1078.7345872508217, 1062.2161511555958, 5176.0803527393155, 4687.358226799185, 4460.564428054937, 3611.2616865477903, 3545.301238001914, 2838.146601755453, 2804.974741365669, 2262.1692648528538, 2174.4685567686993, 1610.0344534070302, 1483.0124741998045, 1369.882873100692, 1330.6779893927064, 1253.8667400711377, 1246.387143152473, 1183.7727811085042, 1150.6980825039602, 1143.1493353360129, 1074.7477486177797, 1059.5960917547939, 991.4559115842969, 915.6785050031235, 906.4389360447957, 881.4365212488811, 858.1735608177679, 814.2936447857132, 769.1179626475204, 748.8992153206614, 747.7577193894921, 737.3316913334211, 7328.220638772341, 6783.3237096927805, 6513.684805734611, 2696.9892537361557, 2357.911434664086, 1934.3316516126793, 1725.4703398784395, 1677.0404090738884, 1625.8883907582992, 1556.1694687621105, 1505.7257031487813, 1401.583057019343, 1220.725783546481, 1138.6832086970917, 1137.954018291769, 1109.0277905310618, 1106.9388591606328, 1098.1320890267223, 1072.6690504090068, 1018.9128471147355, 958.7758555480594, 954.7037980000107, 833.2245476219242, 792.9100705243898, 780.9913993766465, 741.0302576503487, 732.7289701965954, 672.1481923814529, 650.3628380425473, 645.4268908661406], \"Total\": [27657.0, 26705.0, 27810.0, 17282.0, 12331.0, 11700.0, 10023.0, 11849.0, 12717.0, 9999.0, 7329.0, 8124.0, 6784.0, 7086.0, 6514.0, 7316.0, 6355.0, 5177.0, 5642.0, 5139.0, 4688.0, 4729.0, 4682.0, 4461.0, 5086.0, 4871.0, 5687.0, 4669.0, 4986.0, 4786.0, 27810.068121570912, 11849.25307808228, 9999.937802713457, 5687.41760201217, 4416.895790897827, 4244.725891579618, 4072.760471173556, 3224.522323395407, 3108.6756421372675, 2925.6978560517505, 2604.6390892701484, 2532.7207890125537, 2318.3905776117044, 2274.275578505954, 1950.4504656906695, 1827.2714856537036, 1725.1460567971787, 1682.493535402168, 1602.6326564970188, 1533.562340489304, 1489.3022502771005, 1477.4307438525254, 1416.4923615742882, 1395.3154665836773, 1343.9629045872302, 1340.1820556299938, 1121.4845998469318, 1066.6698422019217, 1032.1426187600093, 1030.4710790245274, 17282.779403925117, 5086.153209380558, 4986.158265766186, 4786.860128561738, 4604.328877832975, 4036.099696059949, 3905.037460281488, 3472.4203051322643, 3039.9034830297837, 2489.660216847536, 2151.7519644947583, 2019.4310521976747, 1878.1335728320175, 1850.551531188836, 1738.6465876688887, 1699.7769617936829, 1651.8156376161057, 1608.2543070896336, 1562.672537742066, 1402.4806838752947, 1402.3504192533906, 1327.4459129942916, 1195.1440036116278, 1186.352157677761, 1032.7801825896172, 1006.1616428807346, 927.2192388636879, 925.8200360435468, 920.0058489704893, 908.3163168690859, 12717.659380383668, 26705.23889694954, 7316.167629816991, 5642.0938918067095, 4871.552754859499, 4075.467828518738, 3101.487213713741, 2232.4182039265756, 2143.4981333590417, 1888.8927438542873, 1810.3170972137787, 1809.8187179674276, 1645.9455566463087, 1544.1617189460949, 1369.4820592828237, 1343.740497637983, 1305.530754772138, 1268.5775708835206, 1223.4493691483576, 1158.0461733666875, 1117.4422634712762, 897.8571020106307, 878.9344786599654, 856.6143813591115, 805.3595832447368, 805.2294480672953, 790.6312588233192, 789.7524199743689, 728.1063711667416, 725.1899214847203, 717.1169362640335, 12717.659380383668, 8124.253401015673, 6355.533318306554, 5139.712095606436, 4669.862164340089, 3518.513376915079, 3115.0467043820604, 2734.259964353499, 2387.917899104556, 2350.9949575409332, 2338.4807637138956, 2095.227756509035, 1967.488649616404, 1944.883527198195, 1845.0142996143052, 1527.9180571519794, 1454.7773215046677, 1262.8079016082734, 1213.4513279757125, 1194.7839101709885, 1182.621821556224, 1118.403863707122, 1067.7610192102486, 1038.5091477527722, 1018.177758772395, 983.5320989421667, 976.5221227284189, 968.315716667527, 964.3653571208577, 885.1790451816369, 831.5971334396372, 11700.622554121182, 10023.622489035368, 7086.227475138238, 2841.617284383033, 2276.5732790902002, 2087.908538684195, 1934.6707825242806, 1837.0287975256947, 1781.164819537147, 1637.1104859867417, 1557.208872360224, 1548.9910738271085, 1529.6787612727755, 1467.9710877481018, 1462.9089443056039, 1427.9339510680113, 1419.7004023253255, 1382.2445165338852, 1371.399012978073, 1301.3372346453025, 1260.0153382125425, 1236.7666131879414, 1192.9999058234444, 1181.4955073211668, 1178.5865088436635, 1153.1249617838232, 1013.0362610549591, 896.8376272143835, 824.7847334090192, 813.9823408017232, 12331.93833134629, 4682.476130934128, 3260.791951374247, 2865.3843035683735, 2718.971352891094, 2550.421441417943, 2502.070994065234, 2482.7895924985223, 2435.1190161205354, 2305.0931665841613, 2187.512743748305, 2044.3004205772777, 1956.6851800171896, 1759.0302048631313, 1357.8204859083085, 1288.722713841986, 1256.9560455304709, 1256.1999501865891, 1247.8934909867482, 1238.260445039295, 1234.6783446630895, 1225.986825211388, 1212.3693535436112, 1211.6467448021137, 1203.6107078530006, 1202.3249199453817, 998.0075753984685, 983.447601720641, 916.6220786925946, 896.6160788981524, 27657.482441871583, 3900.777008069153, 2892.5198187659666, 2649.9310421574596, 2624.3561609819367, 2186.3713285765048, 1890.2393792200382, 1858.9189058434904, 1631.0944889600244, 1555.6908049192884, 1418.6283807938657, 1406.8390369480428, 1376.9800003992962, 1289.831835822448, 1254.7591500028118, 1141.776786517289, 1128.943157075423, 1095.2064756003533, 1015.0209720309776, 960.7358283726186, 919.4066428684671, 803.5003264557998, 741.2620213781518, 673.2217722516366, 665.6875865430987, 647.7039464769904, 636.1142382305227, 625.614112794973, 623.5868554492897, 614.6485225334181, 4729.057726796571, 4081.1629259960237, 3898.3518339374427, 3543.2659641792775, 2966.82042747423, 2920.5024732634784, 2808.730123250627, 1913.200053981491, 1621.2641544473047, 1603.4233406963317, 1567.8768259608537, 1534.1599144621887, 1518.8595594777341, 1489.0320618502158, 1454.3430498783812, 1444.9861853985635, 1365.343311031674, 1315.6138433397289, 1271.2188683732227, 1261.969696268255, 1256.2695139129821, 1228.268513042716, 1203.926332230739, 1198.0942412349964, 1172.7149297929598, 1149.1138951216842, 1111.5024411586965, 1098.5170419873987, 1079.7634458816162, 1063.245056944964, 5177.094884203092, 4688.372753256474, 4461.578932907804, 3612.2761976246097, 3546.315750059942, 2839.1611146432624, 2805.9892322520864, 2263.1837678705633, 2175.483079188534, 1611.0489443153247, 1484.0269759810817, 1370.8974105170232, 1331.6924740148686, 1254.8812918322162, 1247.4016534666603, 1184.7872554956302, 1151.712601420367, 1144.1638092723206, 1075.7623290333972, 1060.6105833583404, 992.4704435735487, 916.6930414352594, 907.4534214424534, 882.4510355518237, 859.1881066149942, 815.3081606614325, 770.1324657676728, 749.9137438574523, 748.7722169414618, 738.3461739316953, 7329.252046397101, 6784.355116755638, 6514.716225789672, 2698.0206483886764, 2358.942851803782, 1935.3630921862186, 1726.5017530940756, 1678.0717934153743, 1626.9197819861, 1557.2008741945554, 1506.7571072756614, 1402.6144834332733, 1221.757192758314, 1139.7146241501198, 1138.9854338384307, 1110.0592669039809, 1107.9702818551461, 1099.1634866158838, 1073.7004698582753, 1019.9442659154993, 959.807288102307, 955.735216550449, 834.2559774732223, 793.941499596817, 782.0228141559547, 742.0616829700832, 733.760403178201, 673.1796430494726, 651.3942896902271, 646.4583601217591], \"Category\": [\"Default\", \"Default\", \"Default\", \"Default\", \"Default\", \"Default\", \"Default\", \"Default\", \"Default\", \"Default\", \"Default\", \"Default\", \"Default\", \"Default\", \"Default\", \"Default\", \"Default\", \"Default\", \"Default\", \"Default\", \"Default\", \"Default\", \"Default\", \"Default\", \"Default\", \"Default\", \"Default\", \"Default\", \"Default\", \"Default\", \"Topic1\", \"Topic1\", \"Topic1\", \"Topic1\", \"Topic1\", \"Topic1\", \"Topic1\", \"Topic1\", \"Topic1\", \"Topic1\", \"Topic1\", \"Topic1\", \"Topic1\", \"Topic1\", \"Topic1\", \"Topic1\", \"Topic1\", \"Topic1\", \"Topic1\", \"Topic1\", \"Topic1\", \"Topic1\", \"Topic1\", \"Topic1\", \"Topic1\", \"Topic1\", \"Topic1\", \"Topic1\", \"Topic1\", \"Topic1\", \"Topic2\", \"Topic2\", \"Topic2\", \"Topic2\", \"Topic2\", \"Topic2\", \"Topic2\", \"Topic2\", \"Topic2\", \"Topic2\", \"Topic2\", \"Topic2\", \"Topic2\", \"Topic2\", \"Topic2\", \"Topic2\", \"Topic2\", \"Topic2\", \"Topic2\", \"Topic2\", \"Topic2\", \"Topic2\", \"Topic2\", \"Topic2\", \"Topic2\", \"Topic2\", \"Topic2\", \"Topic2\", \"Topic2\", \"Topic2\", \"Topic2\", \"Topic3\", \"Topic3\", \"Topic3\", \"Topic3\", \"Topic3\", \"Topic3\", \"Topic3\", \"Topic3\", \"Topic3\", \"Topic3\", \"Topic3\", \"Topic3\", \"Topic3\", \"Topic3\", \"Topic3\", \"Topic3\", \"Topic3\", \"Topic3\", \"Topic3\", \"Topic3\", \"Topic3\", \"Topic3\", \"Topic3\", \"Topic3\", \"Topic3\", \"Topic3\", \"Topic3\", \"Topic3\", \"Topic3\", \"Topic3\", \"Topic3\", \"Topic4\", \"Topic4\", \"Topic4\", \"Topic4\", \"Topic4\", \"Topic4\", \"Topic4\", \"Topic4\", \"Topic4\", \"Topic4\", \"Topic4\", \"Topic4\", \"Topic4\", \"Topic4\", \"Topic4\", \"Topic4\", \"Topic4\", \"Topic4\", \"Topic4\", \"Topic4\", \"Topic4\", \"Topic4\", \"Topic4\", \"Topic4\", \"Topic4\", \"Topic4\", \"Topic4\", \"Topic4\", \"Topic4\", \"Topic4\", \"Topic5\", \"Topic5\", \"Topic5\", \"Topic5\", \"Topic5\", \"Topic5\", \"Topic5\", \"Topic5\", \"Topic5\", \"Topic5\", \"Topic5\", \"Topic5\", \"Topic5\", \"Topic5\", \"Topic5\", \"Topic5\", \"Topic5\", \"Topic5\", \"Topic5\", \"Topic5\", \"Topic5\", \"Topic5\", \"Topic5\", \"Topic5\", \"Topic5\", \"Topic5\", \"Topic5\", \"Topic5\", \"Topic5\", \"Topic5\", \"Topic6\", \"Topic6\", \"Topic6\", \"Topic6\", \"Topic6\", \"Topic6\", \"Topic6\", \"Topic6\", \"Topic6\", \"Topic6\", \"Topic6\", \"Topic6\", \"Topic6\", \"Topic6\", \"Topic6\", \"Topic6\", \"Topic6\", \"Topic6\", \"Topic6\", \"Topic6\", \"Topic6\", \"Topic6\", \"Topic6\", \"Topic6\", \"Topic6\", \"Topic6\", \"Topic6\", \"Topic6\", \"Topic6\", \"Topic6\", \"Topic7\", \"Topic7\", \"Topic7\", \"Topic7\", \"Topic7\", \"Topic7\", \"Topic7\", \"Topic7\", \"Topic7\", \"Topic7\", \"Topic7\", \"Topic7\", \"Topic7\", \"Topic7\", \"Topic7\", \"Topic7\", \"Topic7\", \"Topic7\", \"Topic7\", \"Topic7\", \"Topic7\", \"Topic7\", \"Topic7\", \"Topic7\", \"Topic7\", \"Topic7\", \"Topic7\", \"Topic7\", \"Topic7\", \"Topic7\", \"Topic8\", \"Topic8\", \"Topic8\", \"Topic8\", \"Topic8\", \"Topic8\", \"Topic8\", \"Topic8\", \"Topic8\", \"Topic8\", \"Topic8\", \"Topic8\", \"Topic8\", \"Topic8\", \"Topic8\", \"Topic8\", \"Topic8\", \"Topic8\", \"Topic8\", \"Topic8\", \"Topic8\", \"Topic8\", \"Topic8\", \"Topic8\", \"Topic8\", \"Topic8\", \"Topic8\", \"Topic8\", \"Topic8\", \"Topic8\", \"Topic9\", \"Topic9\", \"Topic9\", \"Topic9\", \"Topic9\", \"Topic9\", \"Topic9\", \"Topic9\", \"Topic9\", \"Topic9\", \"Topic9\", \"Topic9\", \"Topic9\", \"Topic9\", \"Topic9\", \"Topic9\", \"Topic9\", \"Topic9\", \"Topic9\", \"Topic9\", \"Topic9\", \"Topic9\", \"Topic9\", \"Topic9\", \"Topic9\", \"Topic9\", \"Topic9\", \"Topic9\", \"Topic9\", \"Topic9\", \"Topic10\", \"Topic10\", \"Topic10\", \"Topic10\", \"Topic10\", \"Topic10\", \"Topic10\", \"Topic10\", \"Topic10\", \"Topic10\", \"Topic10\", \"Topic10\", \"Topic10\", \"Topic10\", \"Topic10\", \"Topic10\", \"Topic10\", \"Topic10\", \"Topic10\", \"Topic10\", \"Topic10\", \"Topic10\", \"Topic10\", \"Topic10\", \"Topic10\", \"Topic10\", \"Topic10\", \"Topic10\", \"Topic10\", \"Topic10\"], \"logprob\": [30.0, 29.0, 28.0, 27.0, 26.0, 25.0, 24.0, 23.0, 22.0, 21.0, 20.0, 19.0, 18.0, 17.0, 16.0, 15.0, 14.0, 13.0, 12.0, 11.0, 10.0, 9.0, 8.0, 7.0, 6.0, 5.0, 4.0, 3.0, 2.0, 1.0, -1.9639, -2.817, -2.9868, -3.5512, -3.804, -3.8438, -3.8852, -4.1188, -4.1554, -4.216, -4.3323, -4.3603, -4.4488, -4.468, -4.6217, -4.687, -4.7445, -4.7696, -4.8182, -4.8623, -4.8916, -4.8996, -4.9418, -4.9568, -4.9944, -4.9972, -5.1755, -5.2256, -5.2586, -5.2602, -2.2098, -3.4331, -3.453, -3.4938, -3.5326, -3.6644, -3.6974, -3.8149, -3.9479, -4.1477, -4.2936, -4.3571, -4.4297, -4.4445, -4.5069, -4.5295, -4.5582, -4.5849, -4.6137, -4.7219, -4.722, -4.7769, -4.882, -4.8894, -5.0282, -5.0543, -5.1361, -5.1376, -5.1439, -5.1567, -3.5044, -1.6829, -2.9778, -3.2376, -3.3845, -3.563, -3.8362, -4.1651, -4.2057, -4.3323, -4.3748, -4.375, -4.47, -4.5339, -4.654, -4.673, -4.7019, -4.7306, -4.7669, -4.8219, -4.8576, -5.0766, -5.0979, -5.1237, -5.1854, -5.1856, -5.2039, -5.205, -5.2864, -5.2904, -5.3016, -2.8906, -2.7952, -3.0407, -3.2531, -3.349, -3.6322, -3.754, -3.8844, -4.0199, -4.0355, -4.0409, -4.1507, -4.2137, -4.2252, -4.278, -4.4667, -4.5158, -4.6574, -4.6973, -4.7128, -4.7231, -4.7789, -4.8253, -4.8531, -4.8729, -4.9076, -4.9147, -4.9232, -4.9273, -5.013, -5.0756, -2.3495, -2.5042, -2.851, -3.765, -3.9868, -4.0734, -4.1496, -4.2014, -4.2323, -4.3167, -4.3668, -4.3721, -4.3846, -4.4259, -4.4293, -4.4535, -4.4593, -4.4861, -4.494, -4.5464, -4.5787, -4.5974, -4.6334, -4.6431, -4.6456, -4.6674, -4.7971, -4.9191, -5.0029, -5.0161, -2.2772, -3.2457, -3.6077, -3.737, -3.7895, -3.8535, -3.8726, -3.8804, -3.8998, -3.9547, -4.007, -4.0748, -4.1186, -4.2252, -4.4842, -4.5365, -4.5615, -4.5621, -4.5687, -4.5765, -4.5794, -4.5864, -4.5976, -4.5982, -4.6049, -4.6059, -4.7924, -4.8071, -4.8775, -4.8996, -1.4682, -3.4271, -3.7263, -3.8139, -3.8236, -4.0063, -4.1519, -4.1686, -4.2994, -4.3468, -4.4391, -4.4474, -4.4689, -4.5343, -4.5619, -4.6563, -4.6677, -4.698, -4.7741, -4.8292, -4.8732, -5.0081, -5.0888, -5.1852, -5.1965, -5.2239, -5.242, -5.2587, -5.2619, -5.2764, -3.1958, -3.3432, -3.389, -3.4845, -3.6622, -3.6779, -3.7169, -4.1011, -4.2667, -4.2778, -4.3002, -4.322, -4.332, -4.3519, -4.3755, -4.3819, -4.4386, -4.4758, -4.5101, -4.5174, -4.522, -4.5445, -4.5646, -4.5694, -4.5909, -4.6112, -4.6445, -4.6563, -4.6735, -4.6889, -3.0654, -3.1645, -3.2141, -3.4253, -3.4438, -3.6663, -3.678, -3.8931, -3.9326, -4.2331, -4.3153, -4.3947, -4.4237, -4.4832, -4.4892, -4.5407, -4.569, -4.5756, -4.6373, -4.6515, -4.718, -4.7975, -4.8076, -4.8356, -4.8624, -4.9148, -4.9719, -4.9986, -5.0001, -5.0141, -2.6126, -2.6899, -2.7305, -3.6122, -3.7466, -3.9446, -4.0589, -4.0873, -4.1183, -4.1621, -4.1951, -4.2668, -4.4049, -4.4745, -4.4751, -4.5009, -4.5028, -4.5107, -4.5342, -4.5856, -4.6465, -4.6507, -4.7868, -4.8364, -4.8515, -4.9041, -4.9153, -5.0016, -5.0346, -5.0422], \"loglift\": [30.0, 29.0, 28.0, 27.0, 26.0, 25.0, 24.0, 23.0, 22.0, 21.0, 20.0, 19.0, 18.0, 17.0, 16.0, 15.0, 14.0, 13.0, 12.0, 11.0, 10.0, 9.0, 8.0, 7.0, 6.0, 5.0, 4.0, 3.0, 2.0, 1.0, 1.8974, 1.8973, 1.8973, 1.8972, 1.8972, 1.8972, 1.8971, 1.8971, 1.8971, 1.897, 1.897, 1.897, 1.897, 1.8969, 1.8969, 1.8968, 1.8968, 1.8968, 1.8968, 1.8967, 1.8967, 1.8967, 1.8967, 1.8967, 1.8966, 1.8966, 1.8965, 1.8964, 1.8964, 1.8964, 2.1271, 2.127, 2.127, 2.127, 2.127, 2.127, 2.1269, 2.1269, 2.1269, 2.1268, 2.1267, 2.1267, 2.1267, 2.1266, 2.1266, 2.1266, 2.1266, 2.1266, 2.1265, 2.1265, 2.1265, 2.1264, 2.1263, 2.1263, 2.1262, 2.1262, 2.1261, 2.1261, 2.1261, 2.1261, 1.1392, 2.2189, 2.2188, 2.2187, 2.2187, 2.2187, 2.2186, 2.2185, 2.2184, 2.2184, 2.2184, 2.2184, 2.2183, 2.2183, 2.2182, 2.2182, 2.2181, 2.2181, 2.2181, 2.218, 2.218, 2.2178, 2.2178, 2.2177, 2.2177, 2.2177, 2.2176, 2.2176, 2.2175, 2.2175, 2.2175, 1.7531, 2.2966, 2.2966, 2.2965, 2.2965, 2.2964, 2.2964, 2.2963, 2.2963, 2.2963, 2.2963, 2.2962, 2.2962, 2.2962, 2.2962, 2.296, 2.296, 2.2959, 2.2959, 2.2958, 2.2958, 2.2958, 2.2957, 2.2957, 2.2957, 2.2957, 2.2957, 2.2956, 2.2956, 2.2955, 2.2955, 2.3775, 2.3775, 2.3774, 2.3772, 2.3771, 2.3771, 2.3771, 2.377, 2.377, 2.377, 2.3769, 2.3769, 2.3769, 2.3769, 2.3769, 2.3769, 2.3769, 2.3768, 2.3768, 2.3768, 2.3768, 2.3768, 2.3767, 2.3767, 2.3767, 2.3767, 2.3766, 2.3764, 2.3763, 2.3763, 2.3972, 2.3971, 2.397, 2.3969, 2.3969, 2.3969, 2.3969, 2.3969, 2.3969, 2.3968, 2.3968, 2.3968, 2.3968, 2.3967, 2.3965, 2.3965, 2.3965, 2.3965, 2.3965, 2.3965, 2.3965, 2.3965, 2.3964, 2.3964, 2.3964, 2.3964, 2.3963, 2.3962, 2.3962, 2.3961, 2.3986, 2.3983, 2.3982, 2.3982, 2.3982, 2.3981, 2.3981, 2.398, 2.398, 2.3979, 2.3979, 2.3979, 2.3978, 2.3978, 2.3978, 2.3977, 2.3977, 2.3977, 2.3976, 2.3975, 2.3975, 2.3973, 2.3972, 2.3971, 2.3971, 2.397, 2.397, 2.397, 2.397, 2.3969, 2.4371, 2.4371, 2.4371, 2.437, 2.437, 2.437, 2.437, 2.4368, 2.4367, 2.4367, 2.4367, 2.4367, 2.4367, 2.4366, 2.4366, 2.4366, 2.4366, 2.4365, 2.4365, 2.4365, 2.4365, 2.4365, 2.4365, 2.4365, 2.4365, 2.4364, 2.4364, 2.4364, 2.4364, 2.4364, 2.477, 2.477, 2.477, 2.4769, 2.4769, 2.4769, 2.4769, 2.4768, 2.4768, 2.4766, 2.4765, 2.4765, 2.4765, 2.4764, 2.4764, 2.4764, 2.4763, 2.4763, 2.4763, 2.4763, 2.4762, 2.4761, 2.4761, 2.4761, 2.476, 2.476, 2.4759, 2.4759, 2.4759, 2.4758, 2.5821, 2.5821, 2.5821, 2.5819, 2.5818, 2.5817, 2.5817, 2.5817, 2.5816, 2.5816, 2.5816, 2.5815, 2.5814, 2.5814, 2.5814, 2.5813, 2.5813, 2.5813, 2.5813, 2.5813, 2.5812, 2.5812, 2.581, 2.581, 2.5809, 2.5809, 2.5809, 2.5807, 2.5807, 2.5807]}, \"token.table\": {\"Topic\": [1, 1, 3, 3, 7, 3, 8, 10, 10, 6, 2, 2, 5, 9, 1, 7, 3, 10, 7, 1, 1, 1, 1, 2, 7, 3, 10, 6, 9, 1, 4, 7, 3, 6, 6, 2, 2, 1, 8, 4, 1, 1, 5, 10, 10, 9, 10, 10, 10, 1, 2, 10, 9, 2, 1, 6, 8, 8, 9, 2, 9, 9, 5, 3, 9, 8, 8, 2, 3, 1, 1, 7, 7, 8, 10, 10, 9, 6, 4, 3, 2, 6, 2, 10, 10, 3, 9, 1, 4, 3, 2, 5, 9, 5, 8, 6, 6, 7, 9, 9, 8, 3, 4, 5, 7, 6, 9, 2, 9, 2, 6, 10, 5, 10, 2, 5, 9, 7, 1, 8, 5, 6, 2, 5, 7, 2, 7, 3, 5, 7, 7, 4, 6, 6, 8, 3, 3, 10, 2, 5, 9, 1, 4, 3, 5, 4, 6, 5, 4, 5, 8, 5, 2, 1, 2, 5, 7, 4, 7, 5, 1, 4, 7, 6, 8, 4, 9, 7, 1, 10, 10, 5, 6, 2, 7, 4, 10, 9, 10, 8, 8, 7, 9, 9, 7, 4, 10, 4, 3, 3, 4, 10, 6, 6, 5, 4, 10, 9, 2, 8, 3, 5, 7, 6, 8, 9, 3, 3, 8, 3, 1, 7, 10, 10, 6, 9, 3, 8, 2, 1, 5, 4, 7, 8, 6, 3, 6, 2, 5, 1, 7, 6, 1, 10, 3, 4, 2, 4, 9, 3, 3, 1, 5, 7, 6, 6, 3, 2, 5, 10, 3, 5, 5, 8, 6, 3, 8, 6, 1, 4, 4, 9, 9, 1, 8, 8, 2, 8, 7, 2, 1, 4, 10, 9, 4, 5, 8, 8, 8, 4, 1, 6, 4, 9, 9, 5, 4, 3, 2, 8, 2, 6, 7, 4, 7, 10, 4, 8, 5, 4, 2, 7], \"Freq\": [0.9993041616072453, 0.9999615922706034, 0.998480481409648, 0.9989368050945161, 0.9981851860679575, 0.9984424628571006, 0.9990866818340864, 0.9998002585754553, 0.9996217047525986, 0.9993638799052291, 0.9995062175235955, 0.9997275349612839, 0.9993459423894833, 0.9989828298510326, 0.9991255970526747, 0.9989131662994809, 0.999806119531563, 0.9991301757490925, 0.9990183840447118, 0.9985724208524901, 0.9993720248052209, 0.9998942483484805, 0.9993356754967713, 0.9986850587082489, 0.9993727833151757, 0.9995934567070153, 0.9998900603242186, 0.9988705145510246, 0.9998702403529086, 0.9992563432313797, 0.9994502483723203, 0.9993196686721417, 0.9999536084678246, 0.9995719569637415, 0.9994426641045048, 0.9990427901506674, 0.9988454709151815, 0.9994001970051409, 0.9989672347461114, 0.9995698817219204, 0.9998289897632593, 0.9997614736428415, 0.9993216792658485, 0.9978595303761565, 0.9989636900888799, 0.9986171752077958, 0.9991242708662532, 0.9977440772496399, 0.999561901405888, 0.9996333109685488, 0.9988602392055258, 0.9992288251217579, 0.9993812680181773, 0.9997732649149398, 0.9997154092090685, 0.9999239104736759, 0.9990161368054318, 0.9989894573585346, 0.9993453846289747, 0.9997343277005559, 0.9993182759255995, 0.9983556758467439, 0.9997827700491457, 0.9996398380307492, 0.9992977090040689, 0.9993903635275745, 0.9986482790293018, 0.3723169380761599, 0.6276312143028318, 0.9994391275542818, 0.9998132786892481, 0.9994745692817362, 0.9982974692595131, 0.999715050338075, 0.9994346482252634, 0.9992956917532829, 0.998781534723244, 0.9995404675857207, 0.9998457210830577, 0.9984731705102861, 0.9995696233690535, 0.9985280337070238, 0.9992445802090616, 0.9998291713275549, 0.9990741985154927, 0.9988153419463802, 0.9989686891099991, 0.9992835333594822, 0.9998614522383374, 0.9990966047893876, 0.9997348164849692, 0.9993460349517516, 0.9993355300776755, 0.999380147248667, 0.9986190091464998, 0.9992840006032552, 0.9989820840645078, 0.9993289849438936, 0.9994243095742011, 0.9997072004875208, 0.9992929507990587, 0.9992827795417856, 0.9993991450341972, 0.9989724149822955, 0.9994036013175587, 0.9993128843965083, 0.9992913592409559, 0.9985508166652526, 0.9996474568609472, 0.9997677037702276, 0.9993213356877876, 0.9982476548991754, 0.9993601810598819, 0.9993802428479226, 0.9997027921988881, 0.9995023625001113, 0.9993489059913258, 0.9995056772833921, 0.9990572264013541, 0.9988290028372748, 0.99994679307718, 0.9992393962112912, 0.9991142597787674, 0.9990996408240375, 0.9995570504563611, 0.9989066928524261, 0.9991645663738586, 0.9993010801662355, 0.9995648570483996, 0.998944888811015, 0.9996486541941478, 0.9987447613937342, 0.9994392014401365, 0.9995168872926924, 0.9997400521877902, 0.9990453915119551, 0.9995273718652412, 0.9991348143627178, 0.9992913587239746, 0.9989770740744462, 0.9996467054137641, 0.9997546342321356, 0.9994742008435075, 0.9983591588224445, 0.9989798643831346, 0.9986412317337418, 0.9997571291311874, 0.9987931669368212, 0.9992433757538097, 0.9997481833352496, 0.9990411813389912, 0.9992236928637636, 0.9993964365216537, 0.9999062191453628, 0.999037031518763, 0.9993384830558267, 0.9995559497317179, 0.9996156069248024, 0.9990589034323585, 0.9990485597305182, 0.9990316000540271, 0.9992819438456126, 0.999288297288986, 0.9995257603466929, 0.9997763345559143, 0.9994656766412445, 0.999628981130651, 0.9994832404983365, 0.9991179887650129, 0.9986920916660741, 0.9993729797486343, 0.9990244233529704, 0.9996847541999464, 0.9996505338407186, 0.9993949834892137, 0.9993438895817769, 0.9994975253330444, 0.99930798024719, 0.9992307319666397, 0.9992439416183057, 0.9994855428895427, 0.9982483677246053, 0.999476945757844, 0.9985184006404724, 0.9993443268436458, 0.9995391936502289, 0.9996003074838964, 0.9994589917881287, 0.9998404041738693, 0.9992015761882996, 0.998803966881693, 0.9985692793544684, 0.9994926035062534, 0.9996819736553963, 0.9994399665769637, 0.9986680150326029, 0.9993476114820293, 0.9985295182088656, 0.999220081622599, 0.9992305739928268, 0.999272449442252, 0.9998267801672265, 0.9989671032523388, 0.9994505899726664, 0.999533416782716, 0.9995910360150843, 0.999547624323199, 0.9993647230057159, 0.9992202662078002, 0.9989177957660871, 0.9988929642674943, 0.9993550819577053, 0.9984944938878036, 0.9990457564424148, 0.999649826132386, 0.9992439765505645, 0.9987093172341667, 0.9996532293658889, 0.9998203146658483, 0.9998380152645813, 0.9999378977973234, 0.9985841910321893, 0.998994137008879, 0.9990306486359507, 0.9990447777151951, 0.9983118307982888, 0.9994662266003782, 0.9995909754558903, 0.9995562720160861, 0.999750747683506, 0.998470053616234, 0.9996427498619797, 0.9997971899405748, 0.9993612946599901, 0.9995447098413396, 0.998843268022457, 0.9989442393807497, 0.9984412818788313, 0.9997885137847419, 0.9992476701553722, 0.9990472710746574, 0.9996052392327998, 0.9996532833749598, 0.9981327618590802, 0.9989904130757061, 0.9993957331496883, 0.9994255237407517, 0.9997113851186059, 0.9987342251308619, 0.9991589060509187, 0.9995204836869341, 0.9990660213298753, 0.9995066548377542, 0.9993175122305467, 0.9988980350291319, 0.9994489280934193, 0.9994407558385102, 0.9994143336138952, 0.9997826591722503, 0.9995457171672034, 0.9993602339617574, 0.9983983514656398, 0.9988763415033443, 0.9989464386714874, 0.9992316009876289, 0.9990765247040624, 0.9995429036802199, 0.9994340757363837, 0.9992340991655687, 0.9989107556246641, 0.9986762191410079, 0.9995767929923703, 0.9989414799253694, 0.9981767713042693, 0.9996639843696122, 0.9991618559074787, 0.9991123113527126, 0.999723465745809, 0.9993727503932516, 0.9985468132312192, 0.9991123083858917, 0.9993084640294653, 0.9992872757138002, 0.9994800045593253, 0.9983955015728394, 0.9993786733554799, 0.9993667838808544, 0.9998865341530074, 0.999954902859841, 0.9996427126295131, 0.9996281086257124, 0.9991950768221202, 0.9998008068475728, 0.9999160859868332, 0.9988984035182115, 0.9988141448742821, 0.9994140224110621, 0.9993068907804891, 0.9991941858311163, 0.9998153769191149, 0.9997019638850686, 0.9999463999706156], \"Term\": [\"amp\", \"http\", \"https\", \"\\u0430\\u0430\\u0430\", \"\\u0430\\u0432\\u0442\\u043e\\u0431\\u0443\\u0441\", \"\\u0430\\u043b\\u0433\\u0435\\u0431\\u0440\\u0430\", \"\\u0431\\u0435\\u0441\\u0438\\u0442\\u044c\", \"\\u0431\\u043b\\u0438\\u043d\", \"\\u0431\\u043b\\u044f\", \"\\u0431\\u043b\\u044f\\u0434\\u044c\", \"\\u0431\\u043e\\u0433\", \"\\u0431\\u043e\\u043b\\u0435\\u0442\\u044c\", \"\\u0431\\u043e\\u043b\\u044c\", \"\\u0431\\u043e\\u043b\\u044c\\u043d\\u0438\\u0446\\u0430\", \"\\u0431\\u043e\\u043b\\u044c\\u043d\\u043e\", \"\\u0431\\u043e\\u043b\\u044c\\u0448\\u0438\\u0439\", \"\\u0431\\u043e\\u043b\\u044c\\u0448\\u043e\\u0439\", \"\\u0431\\u043e\\u044f\\u0442\\u044c\\u0441\\u044f\", \"\\u0431\\u0440\\u0430\\u0442\\u044c\", \"\\u0431\\u044b\\u0432\\u0430\\u0442\\u044c\", \"\\u0432\\u0430\\u0448\", \"\\u0432\\u0435\\u0441\\u044c\", \"\\u0432\\u0435\\u0447\\u0435\\u0440\", \"\\u0432\\u0437\\u044f\\u0442\\u044c\", \"\\u0432\\u0438\\u0434\\u0435\\u0442\\u044c\", \"\\u0432\\u043e\\u0434\\u0430\", \"\\u0432\\u043e\\u043e\\u0431\\u0449\\u0435\", \"\\u0432\\u043e\\u043f\\u0440\\u043e\\u0441\", \"\\u0432\\u0440\\u0435\\u043c\\u044f\", \"\\u0432\\u0440\\u043e\\u0434\\u0435\", \"\\u0432\\u0441\\u0442\\u0430\\u0432\\u0430\\u0442\\u044c\", \"\\u0432\\u0441\\u0442\\u0430\\u0442\\u044c\", \"\\u0432\\u0441\\u0451\", \"\\u0432\\u0442\\u043e\\u0440\\u043e\\u0439\", \"\\u0432\\u0447\\u0435\\u0440\\u0430\", \"\\u0432\\u044b\\u0439\\u0442\\u0438\", \"\\u0432\\u044b\\u0445\\u043e\\u0434\\u0438\\u0442\\u044c\", \"\\u0432\\u044b\\u0445\\u043e\\u0434\\u043d\\u043e\\u0439\", \"\\u0433\\u043b\\u0430\\u0437\", \"\\u0433\\u043e\\u0432\\u043e\\u0440\\u0438\\u0442\\u044c\", \"\\u0433\\u043e\\u0434\", \"\\u0433\\u043e\\u043b\\u043e\\u0432\\u0430\", \"\\u0433\\u043e\\u0440\\u043e\\u0434\", \"\\u0433\\u043e\\u0441\\u043f\\u043e\\u0434\\u044c\", \"\\u0433\\u043e\\u0442\\u043e\\u0432\\u0438\\u0442\\u044c\\u0441\\u044f\", \"\\u0433\\u043e\\u0442\\u043e\\u0432\\u044b\\u0439\", \"\\u0433\\u0440\\u0443\\u0441\\u0442\\u043d\\u043e\", \"\\u0433\\u0443\\u0431\\u0430\", \"\\u0433\\u0443\\u043b\\u044f\\u0442\\u044c\", \"\\u0434\\u0430\\u0432\\u0430\\u0442\\u044c\", \"\\u0434\\u0430\\u0432\\u043d\\u043e\", \"\\u0434\\u0430\\u0442\\u044c\", \"\\u0434\\u0435\\u0432\\u0443\\u0448\\u043a\\u0430\", \"\\u0434\\u0435\\u043b\\u0430\\u0442\\u044c\", \"\\u0434\\u0435\\u043b\\u043e\", \"\\u0434\\u0435\\u043d\\u044c\", \"\\u0434\\u0435\\u043d\\u044c\\u0433\\u0430\", \"\\u0434\\u043e\\u043b\\u0433\\u043e\", \"\\u0434\\u043e\\u043b\\u0436\\u043d\\u044b\\u0439\", \"\\u0434\\u043e\\u043c\", \"\\u0434\\u043e\\u043c\\u043e\\u0439\", \"\\u0434\\u043e\\u0440\\u043e\\u0433\\u0430\", \"\\u0434\\u0440\\u0443\\u0433\", \"\\u0434\\u0443\\u043c\\u0430\\u0442\\u044c\", \"\\u0434\\u0443\\u0448\\u0430\", \"\\u0435\\u0434\\u0430\", \"\\u0435\\u0445\\u0430\\u0442\\u044c\", \"\\u0435\\u0449\\u0451\", \"\\u0435\\u0449\\u0451\", \"\\u0436\\u0430\\u043b\\u043a\\u043e\", \"\\u0436\\u0430\\u043b\\u044c\", \"\\u0436\\u0434\\u0430\\u0442\\u044c\", \"\\u0436\\u0435\\u043b\\u0430\\u043d\\u0438\\u0435\", \"\\u0436\\u0438\\u0437\\u043d\\u044c\", \"\\u0436\\u0438\\u0442\\u044c\", \"\\u0437\\u0430\\u0431\\u043e\\u043b\\u0435\\u0442\\u044c\", \"\\u0437\\u0430\\u0431\\u0440\\u0430\\u0442\\u044c\", \"\\u0437\\u0430\\u0431\\u044b\\u0442\\u044c\", \"\\u0437\\u0430\\u0432\\u0442\\u0440\\u0430\", \"\\u0437\\u0430\\u0439\\u0442\\u0438\", \"\\u0437\\u0430\\u043a\\u043e\\u043d\\u0447\\u0438\\u0442\\u044c\\u0441\\u044f\", \"\\u0437\\u0430\\u0442\\u043e\", \"\\u0437\\u0438\\u043c\\u0430\", \"\\u0437\\u043d\\u0430\\u0442\\u044c\", \"\\u0437\\u043d\\u0430\\u0447\\u0438\\u0442\", \"\\u0438\\u0431\\u043e\", \"\\u0438\\u0433\\u0440\\u0430\", \"\\u0438\\u0433\\u0440\\u0430\\u0442\\u044c\", \"\\u0438\\u0434\\u0442\\u0438\", \"\\u0438\\u043d\\u0442\\u0435\\u0440\\u043d\\u0435\\u0442\", \"\\u043a\\u0430\\u0436\\u0434\\u044b\\u0439\", \"\\u043a\\u0430\\u0437\\u0430\\u0442\\u044c\\u0441\\u044f\", \"\\u043a\\u0430\\u043f\\u0435\\u0446\", \"\\u043a\\u0430\\u0442\\u043e\\u043a\", \"\\u043a\\u0438\\u0435\\u0432\", \"\\u043a\\u043b\\u0430\\u0441\\u0441\", \"\\u043a\\u043d\\u0438\\u0433\\u0430\", \"\\u043a\\u043e\\u043d\\u0435\\u0446\", \"\\u043a\\u043e\\u0442\", \"\\u043a\\u043e\\u0442\\u043e\\u0440\\u044b\\u0439\", \"\\u043a\\u0440\\u0443\\u0442\\u043e\", \"\\u043a\\u0441\\u0442\\u0430\\u0442\\u0438\", \"\\u043a\\u0443\\u043f\\u0438\\u0442\\u044c\", \"\\u043b\\u0435\\u043d\\u0442\\u0430\", \"\\u043b\\u0435\\u0442\\u043e\", \"\\u043b\\u0435\\u0447\\u044c\", \"\\u043b\\u0438\\u0446\\u043e\", \"\\u043b\\u0438\\u0448\\u044c\", \"\\u043b\\u044e\\u0431\\u0438\\u043c\\u044b\\u0439\", \"\\u043b\\u044e\\u0431\\u0438\\u0442\\u044c\", \"\\u043b\\u044e\\u0431\\u043e\\u0432\\u044c\", \"\\u043c\\u0430\\u0433\\u0430\\u0437\\u0438\\u043d\", \"\\u043c\\u0430\\u043b\\u0435\\u043d\\u044c\\u043a\\u0438\\u0439\", \"\\u043c\\u0430\\u043b\\u043e\", \"\\u043c\\u0430\\u043c\\u0430\", \"\\u043c\\u0435\\u0441\\u0442\\u043e\", \"\\u043c\\u0435\\u0441\\u044f\\u0446\", \"\\u043c\\u0438\\u043d\\u0443\\u0442\\u0430\", \"\\u043c\\u043e\\u043c\\u0435\\u043d\\u0442\", \"\\u043c\\u043e\\u0440\\u043e\\u0437\", \"\\u043c\\u043e\\u0447\\u044c\", \"\\u043c\\u0443\\u0437\\u044b\\u043a\\u0430\", \"\\u043c\\u044b\\u0441\\u043b\\u044c\", \"\\u043d\\u0430\\u0432\\u0435\\u0440\\u043d\\u043e\\u0435\", \"\\u043d\\u0430\\u0434\\u0435\\u044f\\u0442\\u044c\\u0441\\u044f\", \"\\u043d\\u0430\\u0434\\u043e\\u0435\\u0441\\u0442\\u044c\", \"\\u043d\\u0430\\u0437\\u0430\\u0434\", \"\\u043d\\u0430\\u0439\\u0442\\u0438\", \"\\u043d\\u0430\\u043f\\u0438\\u0441\\u0430\\u0442\\u044c\", \"\\u043d\\u0430\\u0441\\u0442\\u043e\\u043b\\u044c\\u043a\\u043e\", \"\\u043d\\u0430\\u0441\\u0442\\u0440\\u043e\\u0435\\u043d\\u0438\\u0435\", \"\\u043d\\u0430\\u0447\\u0430\\u043b\\u043e\", \"\\u043d\\u0430\\u0447\\u0438\\u043d\\u0430\\u0442\\u044c\", \"\\u043d\\u0430\\u0448\", \"\\u043d\\u0435\\u0434\\u0435\\u043b\\u044f\", \"\\u043d\\u0435\\u043c\\u043d\\u043e\\u0433\\u043e\", \"\\u043d\\u0435\\u043d\\u0430\\u0432\\u0438\\u0434\\u0435\\u0442\\u044c\", \"\\u043d\\u0435\\u0442\\u0443\", \"\\u043d\\u0438\\u0431\\u044b\\u0442\\u044c\", \"\\u043d\\u0438\\u043a\\u0430\\u043a\", \"\\u043d\\u0438\\u043a\\u0442\\u043e\", \"\\u043d\\u043e\\u0432\\u044b\\u0439\", \"\\u043d\\u043e\\u0433\\u0430\", \"\\u043d\\u043e\\u0440\\u043c\\u0430\", \"\\u043d\\u043e\\u0440\\u043c\\u0430\\u043b\\u044c\\u043d\\u043e\", \"\\u043d\\u043e\\u0440\\u043c\\u0430\\u043b\\u044c\\u043d\\u044b\\u0439\", \"\\u043d\\u043e\\u0447\\u044c\", \"\\u043d\\u043e\\u0447\\u044c\\u044e\", \"\\u043d\\u0440\\u0430\\u0432\\u0438\\u0442\\u044c\\u0441\\u044f\", \"\\u043d\\u0443\\u0436\\u043d\\u043e\", \"\\u043d\\u0443\\u0436\\u043d\\u044b\\u0439\", \"\\u043e\\u0431\\u0438\\u0434\\u043d\\u043e\", \"\\u043e\\u0441\\u0442\\u0430\\u0442\\u044c\\u0441\\u044f\", \"\\u043e\\u0447\\u0435\\u043d\\u044c\", \"\\u043f\\u0430\\u043f\\u0430\", \"\\u043f\\u0430\\u0440\\u0430\", \"\\u043f\\u0430\\u0440\\u0435\\u043d\\u044c\", \"\\u043f\\u0435\\u0440\\u0432\\u044b\\u0439\", \"\\u043f\\u0435\\u0440\\u0435\\u0436\\u0438\\u0432\\u0430\\u0442\\u044c\", \"\\u043f\\u0435\\u0440\\u0435\\u0441\\u0442\\u0430\\u0442\\u044c\", \"\\u043f\\u0435\\u0441\\u043d\\u044f\", \"\\u043f\\u0435\\u0447\\u0430\\u043b\\u044c\", \"\\u043f\\u0435\\u0447\\u0430\\u043b\\u044c\\u043d\\u043e\", \"\\u043f\\u0438\\u0437\\u0434\\u0435\\u0446\", \"\\u043f\\u0438\\u0441\\u0430\\u0442\\u044c\", \"\\u043f\\u043b\\u0430\\u043a\\u0430\\u0442\\u044c\", \"\\u043f\\u043b\\u043e\\u0445\\u043e\", \"\\u043f\\u043b\\u043e\\u0445\\u043e\\u0439\", \"\\u043f\\u043e\\u0433\\u043e\\u0434\\u0430\", \"\\u043f\\u043e\\u0434\\u0440\\u0443\\u0433\\u0430\", \"\\u043f\\u043e\\u0435\\u0445\\u0430\\u0442\\u044c\", \"\\u043f\\u043e\\u0436\\u0430\\u043b\\u0443\\u0439\\u0441\\u0442\\u0430\", \"\\u043f\\u043e\\u0439\\u0442\\u0438\", \"\\u043f\\u043e\\u043a\\u0430\", \"\\u043f\\u043e\\u043b\", \"\\u043f\\u043e\\u043b\\u0443\\u0447\\u0430\\u0442\\u044c\\u0441\\u044f\", \"\\u043f\\u043e\\u043b\\u0443\\u0447\\u0438\\u0442\\u044c\\u0441\\u044f\", \"\\u043f\\u043e\\u043c\\u043d\\u0438\\u0442\\u044c\", \"\\u043f\\u043e\\u043c\\u043e\\u0447\\u044c\", \"\\u043f\\u043e\\u043d\\u0435\\u0434\\u0435\\u043b\\u044c\\u043d\\u0438\\u043a\", \"\\u043f\\u043e\\u043d\\u0438\\u043c\\u0430\\u0442\\u044c\", \"\\u043f\\u043e\\u043d\\u0440\\u0430\\u0432\\u0438\\u0442\\u044c\\u0441\\u044f\", \"\\u043f\\u043e\\u043d\\u044f\\u0442\\u044c\", \"\\u043f\\u043e\\u043f\\u0430\\u0441\\u0442\\u044c\", \"\\u043f\\u043e\\u0440\\u0430\", \"\\u043f\\u043e\\u0441\\u043b\\u0435\\u0434\\u043d\\u0438\\u0439\", \"\\u043f\\u043e\\u0441\\u043c\\u043e\\u0442\\u0440\\u0435\\u0442\\u044c\", \"\\u043f\\u043e\\u0445\\u043e\\u0434\", \"\\u043f\\u043e\\u0447\\u0435\\u043c\\u0443\", \"\\u043f\\u043e\\u044d\\u0442\\u043e\\u043c\\u0443\", \"\\u043f\\u0440\\u0430\\u0432\\u0434\\u0430\", \"\\u043f\\u0440\\u0430\\u0432\\u043e\", \"\\u043f\\u0440\\u0438\\u0435\\u0445\\u0430\\u0442\\u044c\", \"\\u043f\\u0440\\u0438\\u0439\\u0442\\u0438\", \"\\u043f\\u0440\\u0438\\u0439\\u0442\\u0438\\u0441\\u044c\", \"\\u043f\\u0440\\u0438\\u0445\\u043e\\u0434\\u0438\\u0442\\u044c\", \"\\u043f\\u0440\\u043e\\u0431\\u043b\\u0435\\u043c\\u0430\", \"\\u043f\\u0440\\u043e\\u0438\\u0441\\u0445\\u043e\\u0434\\u0438\\u0442\\u044c\", \"\\u043f\\u0440\\u043e\\u0439\\u0442\\u0438\", \"\\u043f\\u0440\\u043e\\u0441\\u043d\\u0443\\u0442\\u044c\\u0441\\u044f\", \"\\u043f\\u0440\\u043e\\u0441\\u0442\\u0438\\u0442\\u044c\", \"\\u043f\\u0440\\u043e\\u0441\\u0442\\u043e\", \"\\u043f\\u0440\\u043e\\u0445\\u043e\\u0434\\u0438\\u0442\\u044c\", \"\\u043f\\u0440\\u044f\\u043c\", \"\\u043f\\u044b\\u0442\\u0430\\u0442\\u044c\\u0441\\u044f\", \"\\u0440\\u0430\\u0431\\u043e\\u0442\\u0430\", \"\\u0440\\u0430\\u0431\\u043e\\u0442\\u0430\\u0442\\u044c\", \"\\u0440\\u0430\\u0432\\u043d\\u043e\", \"\\u0440\\u0430\\u043d\\u043d\\u0438\\u0439\", \"\\u0440\\u0430\\u043d\\u043e\", \"\\u0440\\u0435\\u0431\\u044f\\u0442\\u0430\", \"\\u0440\\u0435\\u0431\\u0451\\u043d\\u043e\\u043a\", \"\\u0440\\u0435\\u0448\\u0438\\u0442\\u044c\", \"\\u0440\\u043e\\u0434\\u0438\\u0442\\u0435\\u043b\\u044c\", \"\\u0440\\u0443\\u043a\\u0430\", \"\\u0440\\u0443\\u0441\\u0441\\u043a\\u0438\\u0439\", \"\\u0440\\u044f\\u0434\\u043e\\u043c\", \"\\u0441\\u0430\\u043c\\u044b\\u0439\", \"\\u0441\\u0432\\u043e\\u0439\", \"\\u0441\\u0434\\u0435\\u043b\\u0430\\u0442\\u044c\", \"\\u0441\\u0435\\u0433\\u043e\\u0434\\u043d\\u044f\", \"\\u0441\\u0435\\u0437\\u043e\\u043d\", \"\\u0441\\u0435\\u0439\", \"\\u0441\\u0435\\u0440\\u0434\\u0446\\u0435\", \"\\u0441\\u0435\\u0440\\u0438\\u0430\\u043b\", \"\\u0441\\u0435\\u0440\\u0438\\u044f\", \"\\u0441\\u0435\\u0441\\u0441\\u0438\\u044f\", \"\\u0441\\u0438\\u0434\\u0435\\u0442\\u044c\", \"\\u0441\\u0438\\u043b\\u044c\\u043d\\u043e\", \"\\u0441\\u043a\\u0430\\u0437\\u0430\\u0442\\u044c\", \"\\u0441\\u043a\\u043e\\u043b\\u044c\\u043a\\u043e\", \"\\u0441\\u043a\\u043e\\u0440\\u043e\", \"\\u0441\\u043a\\u0443\\u0447\\u0430\\u0442\\u044c\", \"\\u0441\\u043a\\u0443\\u0447\\u043d\\u043e\", \"\\u0441\\u043b\\u0435\\u0437\\u0430\", \"\\u0441\\u043b\\u0438\\u0448\\u043a\\u043e\\u043c\", \"\\u0441\\u043b\\u043e\\u0432\\u043e\", \"\\u0441\\u043b\\u0443\\u0448\\u0430\\u0442\\u044c\", \"\\u0441\\u043c\\u043e\\u0442\\u0440\\u0435\\u0442\\u044c\", \"\\u0441\\u043c\\u043e\\u0447\\u044c\", \"\\u0441\\u043c\\u044b\\u0441\\u043b\", \"\\u0441\\u043d\\u0435\\u0433\", \"\\u0441\\u043d\\u043e\\u0432\\u0430\", \"\\u0441\\u043e\\u0431\\u0430\\u043a\\u0430\", \"\\u0441\\u043e\\u0431\\u0438\\u0440\\u0430\\u0442\\u044c\\u0441\\u044f\", \"\\u0441\\u043e\\u043d\", \"\\u0441\\u043f\\u0430\\u0441\\u0438\\u0431\\u043e\", \"\\u0441\\u043f\\u0430\\u0442\\u044c\", \"\\u0441\\u0440\\u0430\\u0437\\u0443\", \"\\u0441\\u0442\\u0430\\u0440\\u044b\\u0439\", \"\\u0441\\u0442\\u0430\\u0442\\u044c\", \"\\u0441\\u0442\\u043e\\u0438\\u0442\\u044c\", \"\\u0441\\u0442\\u043e\\u043b\\u044c\\u043a\\u043e\", \"\\u0441\\u0443\\u043a\\u0430\", \"\\u0441\\u0445\\u043e\\u0434\\u0438\\u0442\\u044c\", \"\\u0442\\u0430\\u043a\\u0438\", \"\\u0442\\u0432\\u0438\\u0442\", \"\\u0442\\u0432\\u0438\\u0442\\u0442\\u0435\\u0440\", \"\\u0442\\u0432\\u043e\\u0439\", \"\\u0442\\u0435\\u043b\\u0435\\u0444\\u043e\\u043d\", \"\\u0442\\u0435\\u043c\\u043f\\u0435\\u0440\\u0430\\u0442\\u0443\\u0440\\u0430\", \"\\u0442\\u043e\\u0447\\u043d\\u043e\", \"\\u0443\\u0431\\u0438\\u0442\\u044c\", \"\\u0443\\u0432\\u0438\\u0434\\u0435\\u0442\\u044c\", \"\\u0443\\u0435\\u0445\\u0430\\u0442\\u044c\", \"\\u0443\\u0436\\u0430\\u0441\", \"\\u0443\\u0436\\u0430\\u0441\\u043d\\u043e\", \"\\u0443\\u0436\\u0430\\u0441\\u043d\\u044b\\u0439\", \"\\u0443\\u0437\\u043d\\u0430\\u0442\\u044c\", \"\\u0443\\u0439\\u0442\\u0438\", \"\\u0443\\u043a\\u0440\\u0430\\u0438\\u043d\\u0430\", \"\\u0443\\u043b\\u0438\\u0446\\u0430\", \"\\u0443\\u043c\\u0435\\u0440\\u0435\\u0442\\u044c\", \"\\u0443\\u043c\\u0435\\u0442\\u044c\", \"\\u0443\\u0440\\u043e\\u043a\", \"\\u0443\\u0441\\u043d\\u0443\\u0442\\u044c\", \"\\u0443\\u0441\\u0442\\u0430\\u0442\\u044c\", \"\\u0443\\u0442\\u0440\\u043e\", \"\\u0443\\u0447\\u0438\\u0442\\u044c\", \"\\u0443\\u0447\\u0438\\u0442\\u044c\\u0441\\u044f\", \"\\u0443\\u0447\\u0451\\u0431\\u0430\", \"\\u0444\\u0438\\u043b\\u044c\\u043c\", \"\\u0444\\u043e\\u0442\\u043a\\u0430\", \"\\u0445\\u0432\\u0430\\u0442\\u0430\\u0442\\u044c\", \"\\u0445\\u0432\\u0430\\u0442\\u0438\\u0442\\u044c\", \"\\u0445\\u043e\\u0434\\u0438\\u0442\\u044c\", \"\\u0445\\u043e\\u043b\\u043e\\u0434\\u043d\\u043e\", \"\\u0445\\u043e\\u0440\\u043e\\u0448\\u0438\\u0439\", \"\\u0445\\u043e\\u0442\\u0435\\u0442\\u044c\", \"\\u0445\\u043e\\u0442\\u0435\\u0442\\u044c\\u0441\\u044f\", \"\\u0445\\u043e\\u0442\\u044f\", \"\\u0446\\u0435\\u043b\\u044b\\u0439\", \"\\u0447\\u0430\\u0441\", \"\\u0447\\u0435\\u043b\\u043e\\u0432\\u0435\\u043a\", \"\\u0447\\u0435\\u0440\\u0442\\u0430\", \"\\u0447\\u0435\\u0441\\u0442\\u043d\\u043e\", \"\\u0447\\u0438\\u0442\\u0430\\u0442\\u044c\", \"\\u0447\\u0443\\u0432\\u0441\\u0442\\u0432\\u043e\", \"\\u0447\\u0443\\u0432\\u0441\\u0442\\u0432\\u043e\\u0432\\u0430\\u0442\\u044c\", \"\\u0448\\u043a\\u043e\\u043b\\u0430\", \"\\u044d\\u043a\\u0437\\u0430\\u043c\\u0435\\u043d\", \"\\u044d\\u0442\\u043e\"]}, \"R\": 30, \"lambda.step\": 0.01, \"plot.opts\": {\"xlab\": \"PC1\", \"ylab\": \"PC2\"}, \"topic.order\": [4, 2, 7, 1, 6, 5, 9, 10, 8, 3]};\n",
       "\n",
       "function LDAvis_load_lib(url, callback){\n",
       "  var s = document.createElement('script');\n",
       "  s.src = url;\n",
       "  s.async = true;\n",
       "  s.onreadystatechange = s.onload = callback;\n",
       "  s.onerror = function(){console.warn(\"failed to load library \" + url);};\n",
       "  document.getElementsByTagName(\"head\")[0].appendChild(s);\n",
       "}\n",
       "\n",
       "if(typeof(LDAvis) !== \"undefined\"){\n",
       "   // already loaded: just create the visualization\n",
       "   !function(LDAvis){\n",
       "       new LDAvis(\"#\" + \"ldavis_el1255229697330284808536704971\", ldavis_el1255229697330284808536704971_data);\n",
       "   }(LDAvis);\n",
       "}else if(typeof define === \"function\" && define.amd){\n",
       "   // require.js is available: use it to load d3/LDAvis\n",
       "   require.config({paths: {d3: \"https://d3js.org/d3.v5\"}});\n",
       "   require([\"d3\"], function(d3){\n",
       "      window.d3 = d3;\n",
       "      LDAvis_load_lib(\"https://cdn.jsdelivr.net/gh/bmabey/pyLDAvis@3.4.0/pyLDAvis/js/ldavis.v3.0.0.js\", function(){\n",
       "        new LDAvis(\"#\" + \"ldavis_el1255229697330284808536704971\", ldavis_el1255229697330284808536704971_data);\n",
       "      });\n",
       "    });\n",
       "}else{\n",
       "    // require.js not available: dynamically load d3 & LDAvis\n",
       "    LDAvis_load_lib(\"https://d3js.org/d3.v5.js\", function(){\n",
       "         LDAvis_load_lib(\"https://cdn.jsdelivr.net/gh/bmabey/pyLDAvis@3.4.0/pyLDAvis/js/ldavis.v3.0.0.js\", function(){\n",
       "                 new LDAvis(\"#\" + \"ldavis_el1255229697330284808536704971\", ldavis_el1255229697330284808536704971_data);\n",
       "            })\n",
       "         });\n",
       "}\n",
       "</script>"
      ],
      "text/plain": [
       "<IPython.core.display.HTML object>"
      ]
     },
     "execution_count": 30,
     "metadata": {},
     "output_type": "execute_result"
    }
   ],
   "source": [
    "import pyLDAvis\n",
    "import pyLDAvis.gensim as gensimvis\n",
    "\n",
    "%time vis_data = gensimvis.prepare(lda, corpus, dictionary)\n",
    "pyLDAvis.display(vis_data)"
   ]
  },
  {
   "cell_type": "markdown",
   "id": "e7b4641b",
   "metadata": {
    "id": "N1_QuVBaf6Mr",
    "papermill": {
     "duration": 0.013414,
     "end_time": "2023-08-17T15:11:56.728287",
     "exception": false,
     "start_time": "2023-08-17T15:11:56.714873",
     "status": "completed"
    },
    "tags": []
   },
   "source": [
    "Если выделять 20 тем, то большинство из них очень сильно пересекаются по вхождению слов и практически не разделимы.\n",
    "Сократим число тем до 10.\n",
    "Можно утверждать, что присутствуют следующие темы разговоров:\n",
    "\n",
    " Отношения в позитивном ключе (дружеский и любовный треп;\n",
    " Про учебу\n",
    " Про праздники и отдых\n",
    " Про работу, учебу и плохое настроение (жалобы)\n",
    " Про политику (острые темы) и жесткий юмор на злобу дня.\n",
    "\n",
    "Посмотрим на метрики качества получившейся модели: перплексию и среднюю когерентность:"
   ]
  },
  {
   "cell_type": "code",
   "execution_count": 31,
   "id": "bbebaa3c",
   "metadata": {
    "id": "ZotOH4d6f6Mr",
    "outputId": "347c2c8b-6dc0-452a-e1f1-631f04e07942",
    "papermill": {
     "duration": 37.264069,
     "end_time": "2023-08-17T15:12:34.005817",
     "exception": false,
     "start_time": "2023-08-17T15:11:56.741748",
     "status": "completed"
    },
    "tags": []
   },
   "outputs": [
    {
     "name": "stdout",
     "output_type": "stream",
     "text": [
      "-9.526661305538028\n"
     ]
    }
   ],
   "source": [
    "print(lda.log_perplexity(corpus))\n"
   ]
  },
  {
   "cell_type": "code",
   "execution_count": 32,
   "id": "1763e7db",
   "metadata": {
    "id": "VqyxqodWf6Mr",
    "outputId": "957cc9c2-0b76-49fe-a92d-ab14d462d726",
    "papermill": {
     "duration": 36.619808,
     "end_time": "2023-08-17T15:13:10.639753",
     "exception": false,
     "start_time": "2023-08-17T15:12:34.019945",
     "status": "completed"
    },
    "tags": []
   },
   "outputs": [
    {
     "name": "stdout",
     "output_type": "stream",
     "text": [
      "Персплексия:  7.288114533128078e-05\n"
     ]
    }
   ],
   "source": [
    "print('Персплексия: ', np.exp(lda.log_perplexity(corpus)))"
   ]
  },
  {
   "cell_type": "code",
   "execution_count": 33,
   "id": "c95495d0",
   "metadata": {
    "id": "agpzf-CVf6Mr",
    "outputId": "5338d2ba-ec1b-42f5-c69d-8dd50970895a",
    "papermill": {
     "duration": 10.933387,
     "end_time": "2023-08-17T15:13:21.587058",
     "exception": false,
     "start_time": "2023-08-17T15:13:10.653671",
     "status": "completed"
    },
    "tags": []
   },
   "outputs": [
    {
     "name": "stdout",
     "output_type": "stream",
     "text": [
      "Средняя когерентность:  0.22830342107477702\n"
     ]
    }
   ],
   "source": [
    "coherence_model_lda = CoherenceModel(model=lda, texts=data['text'], dictionary=dictionary, coherence='c_v')\n",
    "coherence_lda = coherence_model_lda.get_coherence()\n",
    "print('Средняя когерентность: ', coherence_lda)"
   ]
  },
  {
   "cell_type": "markdown",
   "id": "269de870",
   "metadata": {
    "id": "QscCr17Zf6Mr",
    "papermill": {
     "duration": 0.013751,
     "end_time": "2023-08-17T15:13:21.616259",
     "exception": false,
     "start_time": "2023-08-17T15:13:21.602508",
     "status": "completed"
    },
    "tags": []
   },
   "source": [
    "Теперь можно подобрать оптимальное количество тем, опираясь на значение метрик:"
   ]
  },
  {
   "cell_type": "code",
   "execution_count": 34,
   "id": "dfb4072b",
   "metadata": {
    "id": "q7dUj8ClSOvg",
    "outputId": "25acc209-9c57-4207-fb9d-d6d3bbc9c2f8",
    "papermill": {
     "duration": 1764.312761,
     "end_time": "2023-08-17T15:42:45.942785",
     "exception": false,
     "start_time": "2023-08-17T15:13:21.630024",
     "status": "completed"
    },
    "tags": []
   },
   "outputs": [],
   "source": [
    "%%capture\n",
    "topics_list = range(5, 15)\n",
    "coherences = []\n",
    "\n",
    "for num in tqdm(topics_list):\n",
    "    lda = ldamodel.LdaModel(corpus, id2word=dictionary, num_topics=num, chunksize=50, update_every=1, passes=2)\n",
    "    coherences.append(CoherenceModel(model=lda, texts=data['text'], dictionary=dictionary, coherence='c_v').get_coherence())"
   ]
  },
  {
   "cell_type": "code",
   "execution_count": 35,
   "id": "ccbcb63e",
   "metadata": {
    "id": "_FQfTmaeN2LY",
    "outputId": "d2811cc9-1619-4d01-a45e-5d5c456b43d4",
    "papermill": {
     "duration": 0.27361,
     "end_time": "2023-08-17T15:42:46.230401",
     "exception": false,
     "start_time": "2023-08-17T15:42:45.956791",
     "status": "completed"
    },
    "tags": []
   },
   "outputs": [
    {
     "data": {
      "image/png": "[encoded data removed]",
      "text/plain": [
       "<Figure size 640x480 with 1 Axes>"
      ]
     },
     "metadata": {},
     "output_type": "display_data"
    }
   ],
   "source": [
    "plt.plot(topics_list, coherences)\n",
    "plt.xlabel(\"Число тем\")\n",
    "plt.ylabel(\"Средняя когерентность\")\n",
    "plt.show()"
   ]
  }
 ],
 "metadata": {
  "kernelspec": {
   "display_name": "Python 3 (ipykernel)",
   "language": "python",
   "name": "python3"
  },
  "language_info": {
   "codemirror_mode": {
    "name": "ipython",
    "version": 3
   },
   "file_extension": ".py",
   "mimetype": "text/x-python",
   "name": "python",
   "nbconvert_exporter": "python",
   "pygments_lexer": "ipython3",
   "version": "3.11.5"
  },
  "papermill": {
   "default_parameters": {},
   "duration": 3077.360218,
   "end_time": "2023-08-17T15:42:48.876499",
   "environment_variables": {},
   "exception": null,
   "input_path": "__notebook__.ipynb",
   "output_path": "__notebook__.ipynb",
   "parameters": {},
   "start_time": "2023-08-17T14:51:31.516281",
   "version": "2.4.0"
  },
  "widgets": {
   "application/vnd.jupyter.widget-state+json": {
    "state": {
     "09a0bb75cacb45c6b27f5bce17c1f8ca": {
      "model_module": "@jupyter-widgets/base",
      "model_module_version": "1.2.0",
      "model_name": "LayoutModel",
      "state": {
       "_model_module": "@jupyter-widgets/base",
       "_model_module_version": "1.2.0",
       "_model_name": "LayoutModel",
       "_view_count": null,
       "_view_module": "@jupyter-widgets/base",
       "_view_module_version": "1.2.0",
       "_view_name": "LayoutView",
       "align_content": null,
       "align_items": null,
       "align_self": null,
       "border": null,
       "bottom": null,
       "display": null,
       "flex": null,
       "flex_flow": null,
       "grid_area": null,
       "grid_auto_columns": null,
       "grid_auto_flow": null,
       "grid_auto_rows": null,
       "grid_column": null,
       "grid_gap": null,
       "grid_row": null,
       "grid_template_areas": null,
       "grid_template_columns": null,
       "grid_template_rows": null,
       "height": null,
       "justify_content": null,
       "justify_items": null,
       "left": null,
       "margin": null,
       "max_height": null,
       "max_width": null,
       "min_height": null,
       "min_width": null,
       "object_fit": null,
       "object_position": null,
       "order": null,
       "overflow": null,
       "overflow_x": null,
       "overflow_y": null,
       "padding": null,
       "right": null,
       "top": null,
       "visibility": null,
       "width": null
      }
     },
     "0b874073667f4d24934c3f66f95a7a25": {
      "model_module": "@jupyter-widgets/base",
      "model_module_version": "1.2.0",
      "model_name": "LayoutModel",
      "state": {
       "_model_module": "@jupyter-widgets/base",
       "_model_module_version": "1.2.0",
       "_model_name": "LayoutModel",
       "_view_count": null,
       "_view_module": "@jupyter-widgets/base",
       "_view_module_version": "1.2.0",
       "_view_name": "LayoutView",
       "align_content": null,
       "align_items": null,
       "align_self": null,
       "border": null,
       "bottom": null,
       "display": null,
       "flex": null,
       "flex_flow": null,
       "grid_area": null,
       "grid_auto_columns": null,
       "grid_auto_flow": null,
       "grid_auto_rows": null,
       "grid_column": null,
       "grid_gap": null,
       "grid_row": null,
       "grid_template_areas": null,
       "grid_template_columns": null,
       "grid_template_rows": null,
       "height": null,
       "justify_content": null,
       "justify_items": null,
       "left": null,
       "margin": null,
       "max_height": null,
       "max_width": null,
       "min_height": null,
       "min_width": null,
       "object_fit": null,
       "object_position": null,
       "order": null,
       "overflow": null,
       "overflow_x": null,
       "overflow_y": null,
       "padding": null,
       "right": null,
       "top": null,
       "visibility": null,
       "width": null
      }
     },
     "0dde901b576a4c3a80d633d79a6825c2": {
      "model_module": "@jupyter-widgets/base",
      "model_module_version": "1.2.0",
      "model_name": "LayoutModel",
      "state": {
       "_model_module": "@jupyter-widgets/base",
       "_model_module_version": "1.2.0",
       "_model_name": "LayoutModel",
       "_view_count": null,
       "_view_module": "@jupyter-widgets/base",
       "_view_module_version": "1.2.0",
       "_view_name": "LayoutView",
       "align_content": null,
       "align_items": null,
       "align_self": null,
       "border": null,
       "bottom": null,
       "display": null,
       "flex": null,
       "flex_flow": null,
       "grid_area": null,
       "grid_auto_columns": null,
       "grid_auto_flow": null,
       "grid_auto_rows": null,
       "grid_column": null,
       "grid_gap": null,
       "grid_row": null,
       "grid_template_areas": null,
       "grid_template_columns": null,
       "grid_template_rows": null,
       "height": null,
       "justify_content": null,
       "justify_items": null,
       "left": null,
       "margin": null,
       "max_height": null,
       "max_width": null,
       "min_height": null,
       "min_width": null,
       "object_fit": null,
       "object_position": null,
       "order": null,
       "overflow": null,
       "overflow_x": null,
       "overflow_y": null,
       "padding": null,
       "right": null,
       "top": null,
       "visibility": null,
       "width": null
      }
     },
     "0f32949d5a7b4187a81d444f621d61bd": {
      "model_module": "@jupyter-widgets/controls",
      "model_module_version": "1.5.0",
      "model_name": "HBoxModel",
      "state": {
       "_dom_classes": [],
       "_model_module": "@jupyter-widgets/controls",
       "_model_module_version": "1.5.0",
       "_model_name": "HBoxModel",
       "_view_count": null,
       "_view_module": "@jupyter-widgets/controls",
       "_view_module_version": "1.5.0",
       "_view_name": "HBoxView",
       "box_style": "",
       "children": [
        "IPY_MODEL_deffc1b8e8884c38a612349ae504d451",
        "IPY_MODEL_99bf54e3610c48f3a84c897e48d8a3fb",
        "IPY_MODEL_f5c7c2fa49fb41bcaeb6a028e157304b"
       ],
       "layout": "IPY_MODEL_bf23bff966e34975a84502b9eb1cfe6d"
      }
     },
     "17938c08b35b4f799142b6b6e1de8fb2": {
      "model_module": "@jupyter-widgets/controls",
      "model_module_version": "1.5.0",
      "model_name": "ProgressStyleModel",
      "state": {
       "_model_module": "@jupyter-widgets/controls",
       "_model_module_version": "1.5.0",
       "_model_name": "ProgressStyleModel",
       "_view_count": null,
       "_view_module": "@jupyter-widgets/base",
       "_view_module_version": "1.2.0",
       "_view_name": "StyleView",
       "bar_color": null,
       "description_width": ""
      }
     },
     "199fa7e2362c4c8fa49f51a446f1cf4f": {
      "model_module": "@jupyter-widgets/controls",
      "model_module_version": "1.5.0",
      "model_name": "HTMLModel",
      "state": {
       "_dom_classes": [],
       "_model_module": "@jupyter-widgets/controls",
       "_model_module_version": "1.5.0",
       "_model_name": "HTMLModel",
       "_view_count": null,
       "_view_module": "@jupyter-widgets/controls",
       "_view_module_version": "1.5.0",
       "_view_name": "HTMLView",
       "description": "",
       "description_tooltip": null,
       "layout": "IPY_MODEL_35c54d000b974b64803fcaff2cfcd182",
       "placeholder": "​",
       "style": "IPY_MODEL_79dfc01fb1644bb48ffea15f89605e12",
       "value": "100%"
      }
     },
     "2181123931d24528946f32466e649359": {
      "model_module": "@jupyter-widgets/controls",
      "model_module_version": "1.5.0",
      "model_name": "DescriptionStyleModel",
      "state": {
       "_model_module": "@jupyter-widgets/controls",
       "_model_module_version": "1.5.0",
       "_model_name": "DescriptionStyleModel",
       "_view_count": null,
       "_view_module": "@jupyter-widgets/base",
       "_view_module_version": "1.2.0",
       "_view_name": "StyleView",
       "description_width": ""
      }
     },
     "35c54d000b974b64803fcaff2cfcd182": {
      "model_module": "@jupyter-widgets/base",
      "model_module_version": "1.2.0",
      "model_name": "LayoutModel",
      "state": {
       "_model_module": "@jupyter-widgets/base",
       "_model_module_version": "1.2.0",
       "_model_name": "LayoutModel",
       "_view_count": null,
       "_view_module": "@jupyter-widgets/base",
       "_view_module_version": "1.2.0",
       "_view_name": "LayoutView",
       "align_content": null,
       "align_items": null,
       "align_self": null,
       "border": null,
       "bottom": null,
       "display": null,
       "flex": null,
       "flex_flow": null,
       "grid_area": null,
       "grid_auto_columns": null,
       "grid_auto_flow": null,
       "grid_auto_rows": null,
       "grid_column": null,
       "grid_gap": null,
       "grid_row": null,
       "grid_template_areas": null,
       "grid_template_columns": null,
       "grid_template_rows": null,
       "height": null,
       "justify_content": null,
       "justify_items": null,
       "left": null,
       "margin": null,
       "max_height": null,
       "max_width": null,
       "min_height": null,
       "min_width": null,
       "object_fit": null,
       "object_position": null,
       "order": null,
       "overflow": null,
       "overflow_x": null,
       "overflow_y": null,
       "padding": null,
       "right": null,
       "top": null,
       "visibility": null,
       "width": null
      }
     },
     "3f67ca01eac6414a80ea45fbed25529e": {
      "model_module": "@jupyter-widgets/controls",
      "model_module_version": "1.5.0",
      "model_name": "DescriptionStyleModel",
      "state": {
       "_model_module": "@jupyter-widgets/controls",
       "_model_module_version": "1.5.0",
       "_model_name": "DescriptionStyleModel",
       "_view_count": null,
       "_view_module": "@jupyter-widgets/base",
       "_view_module_version": "1.2.0",
       "_view_name": "StyleView",
       "description_width": ""
      }
     },
     "3fe8d87816094719bd83b4ba086f3f50": {
      "model_module": "@jupyter-widgets/controls",
      "model_module_version": "1.5.0",
      "model_name": "FloatProgressModel",
      "state": {
       "_dom_classes": [],
       "_model_module": "@jupyter-widgets/controls",
       "_model_module_version": "1.5.0",
       "_model_name": "FloatProgressModel",
       "_view_count": null,
       "_view_module": "@jupyter-widgets/controls",
       "_view_module_version": "1.5.0",
       "_view_name": "ProgressView",
       "bar_style": "success",
       "description": "",
       "description_tooltip": null,
       "layout": "IPY_MODEL_0dde901b576a4c3a80d633d79a6825c2",
       "max": 10,
       "min": 0,
       "orientation": "horizontal",
       "style": "IPY_MODEL_fccce92e62e54faaba0a3684050df361",
       "value": 10
      }
     },
     "6a1d21c8e18e41cc92ed21177034c9a2": {
      "model_module": "@jupyter-widgets/base",
      "model_module_version": "1.2.0",
      "model_name": "LayoutModel",
      "state": {
       "_model_module": "@jupyter-widgets/base",
       "_model_module_version": "1.2.0",
       "_model_name": "LayoutModel",
       "_view_count": null,
       "_view_module": "@jupyter-widgets/base",
       "_view_module_version": "1.2.0",
       "_view_name": "LayoutView",
       "align_content": null,
       "align_items": null,
       "align_self": null,
       "border": null,
       "bottom": null,
       "display": null,
       "flex": null,
       "flex_flow": null,
       "grid_area": null,
       "grid_auto_columns": null,
       "grid_auto_flow": null,
       "grid_auto_rows": null,
       "grid_column": null,
       "grid_gap": null,
       "grid_row": null,
       "grid_template_areas": null,
       "grid_template_columns": null,
       "grid_template_rows": null,
       "height": null,
       "justify_content": null,
       "justify_items": null,
       "left": null,
       "margin": null,
       "max_height": null,
       "max_width": null,
       "min_height": null,
       "min_width": null,
       "object_fit": null,
       "object_position": null,
       "order": null,
       "overflow": null,
       "overflow_x": null,
       "overflow_y": null,
       "padding": null,
       "right": null,
       "top": null,
       "visibility": null,
       "width": null
      }
     },
     "7042b246c14a4b24aedf585243f2cda2": {
      "model_module": "@jupyter-widgets/controls",
      "model_module_version": "1.5.0",
      "model_name": "HTMLModel",
      "state": {
       "_dom_classes": [],
       "_model_module": "@jupyter-widgets/controls",
       "_model_module_version": "1.5.0",
       "_model_name": "HTMLModel",
       "_view_count": null,
       "_view_module": "@jupyter-widgets/controls",
       "_view_module_version": "1.5.0",
       "_view_name": "HTMLView",
       "description": "",
       "description_tooltip": null,
       "layout": "IPY_MODEL_ffbb1fbb29374d6fb394b3bc43aa73b8",
       "placeholder": "​",
       "style": "IPY_MODEL_3f67ca01eac6414a80ea45fbed25529e",
       "value": " 10/10 [29:24&lt;00:00, 198.39s/it]"
      }
     },
     "724e6f832f2d4923bc5da367273d56aa": {
      "model_module": "@jupyter-widgets/base",
      "model_module_version": "1.2.0",
      "model_name": "LayoutModel",
      "state": {
       "_model_module": "@jupyter-widgets/base",
       "_model_module_version": "1.2.0",
       "_model_name": "LayoutModel",
       "_view_count": null,
       "_view_module": "@jupyter-widgets/base",
       "_view_module_version": "1.2.0",
       "_view_name": "LayoutView",
       "align_content": null,
       "align_items": null,
       "align_self": null,
       "border": null,
       "bottom": null,
       "display": null,
       "flex": null,
       "flex_flow": null,
       "grid_area": null,
       "grid_auto_columns": null,
       "grid_auto_flow": null,
       "grid_auto_rows": null,
       "grid_column": null,
       "grid_gap": null,
       "grid_row": null,
       "grid_template_areas": null,
       "grid_template_columns": null,
       "grid_template_rows": null,
       "height": null,
       "justify_content": null,
       "justify_items": null,
       "left": null,
       "margin": null,
       "max_height": null,
       "max_width": null,
       "min_height": null,
       "min_width": null,
       "object_fit": null,
       "object_position": null,
       "order": null,
       "overflow": null,
       "overflow_x": null,
       "overflow_y": null,
       "padding": null,
       "right": null,
       "top": null,
       "visibility": null,
       "width": null
      }
     },
     "77e6dece58d5426bbc81839605aeb7e3": {
      "model_module": "@jupyter-widgets/controls",
      "model_module_version": "1.5.0",
      "model_name": "ProgressStyleModel",
      "state": {
       "_model_module": "@jupyter-widgets/controls",
       "_model_module_version": "1.5.0",
       "_model_name": "ProgressStyleModel",
       "_view_count": null,
       "_view_module": "@jupyter-widgets/base",
       "_view_module_version": "1.2.0",
       "_view_name": "StyleView",
       "bar_color": null,
       "description_width": ""
      }
     },
     "79dfc01fb1644bb48ffea15f89605e12": {
      "model_module": "@jupyter-widgets/controls",
      "model_module_version": "1.5.0",
      "model_name": "DescriptionStyleModel",
      "state": {
       "_model_module": "@jupyter-widgets/controls",
       "_model_module_version": "1.5.0",
       "_model_name": "DescriptionStyleModel",
       "_view_count": null,
       "_view_module": "@jupyter-widgets/base",
       "_view_module_version": "1.2.0",
       "_view_name": "StyleView",
       "description_width": ""
      }
     },
     "7cc09ca3df7f4bca8113323091d5519a": {
      "model_module": "@jupyter-widgets/base",
      "model_module_version": "1.2.0",
      "model_name": "LayoutModel",
      "state": {
       "_model_module": "@jupyter-widgets/base",
       "_model_module_version": "1.2.0",
       "_model_name": "LayoutModel",
       "_view_count": null,
       "_view_module": "@jupyter-widgets/base",
       "_view_module_version": "1.2.0",
       "_view_name": "LayoutView",
       "align_content": null,
       "align_items": null,
       "align_self": null,
       "border": null,
       "bottom": null,
       "display": null,
       "flex": null,
       "flex_flow": null,
       "grid_area": null,
       "grid_auto_columns": null,
       "grid_auto_flow": null,
       "grid_auto_rows": null,
       "grid_column": null,
       "grid_gap": null,
       "grid_row": null,
       "grid_template_areas": null,
       "grid_template_columns": null,
       "grid_template_rows": null,
       "height": null,
       "justify_content": null,
       "justify_items": null,
       "left": null,
       "margin": null,
       "max_height": null,
       "max_width": null,
       "min_height": null,
       "min_width": null,
       "object_fit": null,
       "object_position": null,
       "order": null,
       "overflow": null,
       "overflow_x": null,
       "overflow_y": null,
       "padding": null,
       "right": null,
       "top": null,
       "visibility": null,
       "width": null
      }
     },
     "84876c269d374ed9b496505aa64433e7": {
      "model_module": "@jupyter-widgets/controls",
      "model_module_version": "1.5.0",
      "model_name": "HTMLModel",
      "state": {
       "_dom_classes": [],
       "_model_module": "@jupyter-widgets/controls",
       "_model_module_version": "1.5.0",
       "_model_name": "HTMLModel",
       "_view_count": null,
       "_view_module": "@jupyter-widgets/controls",
       "_view_module_version": "1.5.0",
       "_view_name": "HTMLView",
       "description": "",
       "description_tooltip": null,
       "layout": "IPY_MODEL_dbaa13efa18943eba9a8404d8f71b75b",
       "placeholder": "​",
       "style": "IPY_MODEL_f82dee43d58f44ad8ec81dd4b0fa448f",
       "value": "100%"
      }
     },
     "99bf54e3610c48f3a84c897e48d8a3fb": {
      "model_module": "@jupyter-widgets/controls",
      "model_module_version": "1.5.0",
      "model_name": "FloatProgressModel",
      "state": {
       "_dom_classes": [],
       "_model_module": "@jupyter-widgets/controls",
       "_model_module_version": "1.5.0",
       "_model_name": "FloatProgressModel",
       "_view_count": null,
       "_view_module": "@jupyter-widgets/controls",
       "_view_module_version": "1.5.0",
       "_view_name": "ProgressView",
       "bar_style": "success",
       "description": "",
       "description_tooltip": null,
       "layout": "IPY_MODEL_e4052a8ac49c4565a28ea10e1f796bf8",
       "max": 226834,
       "min": 0,
       "orientation": "horizontal",
       "style": "IPY_MODEL_17938c08b35b4f799142b6b6e1de8fb2",
       "value": 226834
      }
     },
     "9d1fde8e2e9d401dbfda3ba2b7fc87e2": {
      "model_module": "@jupyter-widgets/controls",
      "model_module_version": "1.5.0",
      "model_name": "DescriptionStyleModel",
      "state": {
       "_model_module": "@jupyter-widgets/controls",
       "_model_module_version": "1.5.0",
       "_model_name": "DescriptionStyleModel",
       "_view_count": null,
       "_view_module": "@jupyter-widgets/base",
       "_view_module_version": "1.2.0",
       "_view_name": "StyleView",
       "description_width": ""
      }
     },
     "b4e333987fff4892aef8b50ad95add67": {
      "model_module": "@jupyter-widgets/controls",
      "model_module_version": "1.5.0",
      "model_name": "HBoxModel",
      "state": {
       "_dom_classes": [],
       "_model_module": "@jupyter-widgets/controls",
       "_model_module_version": "1.5.0",
       "_model_name": "HBoxModel",
       "_view_count": null,
       "_view_module": "@jupyter-widgets/controls",
       "_view_module_version": "1.5.0",
       "_view_name": "HBoxView",
       "box_style": "",
       "children": [
        "IPY_MODEL_199fa7e2362c4c8fa49f51a446f1cf4f",
        "IPY_MODEL_3fe8d87816094719bd83b4ba086f3f50",
        "IPY_MODEL_7042b246c14a4b24aedf585243f2cda2"
       ],
       "layout": "IPY_MODEL_0b874073667f4d24934c3f66f95a7a25"
      }
     },
     "bd076e07ef75467297540ba0dcdd8f3e": {
      "model_module": "@jupyter-widgets/controls",
      "model_module_version": "1.5.0",
      "model_name": "DescriptionStyleModel",
      "state": {
       "_model_module": "@jupyter-widgets/controls",
       "_model_module_version": "1.5.0",
       "_model_name": "DescriptionStyleModel",
       "_view_count": null,
       "_view_module": "@jupyter-widgets/base",
       "_view_module_version": "1.2.0",
       "_view_name": "StyleView",
       "description_width": ""
      }
     },
     "bf23bff966e34975a84502b9eb1cfe6d": {
      "model_module": "@jupyter-widgets/base",
      "model_module_version": "1.2.0",
      "model_name": "LayoutModel",
      "state": {
       "_model_module": "@jupyter-widgets/base",
       "_model_module_version": "1.2.0",
       "_model_name": "LayoutModel",
       "_view_count": null,
       "_view_module": "@jupyter-widgets/base",
       "_view_module_version": "1.2.0",
       "_view_name": "LayoutView",
       "align_content": null,
       "align_items": null,
       "align_self": null,
       "border": null,
       "bottom": null,
       "display": null,
       "flex": null,
       "flex_flow": null,
       "grid_area": null,
       "grid_auto_columns": null,
       "grid_auto_flow": null,
       "grid_auto_rows": null,
       "grid_column": null,
       "grid_gap": null,
       "grid_row": null,
       "grid_template_areas": null,
       "grid_template_columns": null,
       "grid_template_rows": null,
       "height": null,
       "justify_content": null,
       "justify_items": null,
       "left": null,
       "margin": null,
       "max_height": null,
       "max_width": null,
       "min_height": null,
       "min_width": null,
       "object_fit": null,
       "object_position": null,
       "order": null,
       "overflow": null,
       "overflow_x": null,
       "overflow_y": null,
       "padding": null,
       "right": null,
       "top": null,
       "visibility": null,
       "width": null
      }
     },
     "cbdadba2cd514acab088b80c827eab3f": {
      "model_module": "@jupyter-widgets/controls",
      "model_module_version": "1.5.0",
      "model_name": "HTMLModel",
      "state": {
       "_dom_classes": [],
       "_model_module": "@jupyter-widgets/controls",
       "_model_module_version": "1.5.0",
       "_model_name": "HTMLModel",
       "_view_count": null,
       "_view_module": "@jupyter-widgets/controls",
       "_view_module_version": "1.5.0",
       "_view_name": "HTMLView",
       "description": "",
       "description_tooltip": null,
       "layout": "IPY_MODEL_7cc09ca3df7f4bca8113323091d5519a",
       "placeholder": "​",
       "style": "IPY_MODEL_2181123931d24528946f32466e649359",
       "value": " 226834/226834 [08:00&lt;00:00, 480.09it/s]"
      }
     },
     "dbaa13efa18943eba9a8404d8f71b75b": {
      "model_module": "@jupyter-widgets/base",
      "model_module_version": "1.2.0",
      "model_name": "LayoutModel",
      "state": {
       "_model_module": "@jupyter-widgets/base",
       "_model_module_version": "1.2.0",
       "_model_name": "LayoutModel",
       "_view_count": null,
       "_view_module": "@jupyter-widgets/base",
       "_view_module_version": "1.2.0",
       "_view_name": "LayoutView",
       "align_content": null,
       "align_items": null,
       "align_self": null,
       "border": null,
       "bottom": null,
       "display": null,
       "flex": null,
       "flex_flow": null,
       "grid_area": null,
       "grid_auto_columns": null,
       "grid_auto_flow": null,
       "grid_auto_rows": null,
       "grid_column": null,
       "grid_gap": null,
       "grid_row": null,
       "grid_template_areas": null,
       "grid_template_columns": null,
       "grid_template_rows": null,
       "height": null,
       "justify_content": null,
       "justify_items": null,
       "left": null,
       "margin": null,
       "max_height": null,
       "max_width": null,
       "min_height": null,
       "min_width": null,
       "object_fit": null,
       "object_position": null,
       "order": null,
       "overflow": null,
       "overflow_x": null,
       "overflow_y": null,
       "padding": null,
       "right": null,
       "top": null,
       "visibility": null,
       "width": null
      }
     },
     "deffc1b8e8884c38a612349ae504d451": {
      "model_module": "@jupyter-widgets/controls",
      "model_module_version": "1.5.0",
      "model_name": "HTMLModel",
      "state": {
       "_dom_classes": [],
       "_model_module": "@jupyter-widgets/controls",
       "_model_module_version": "1.5.0",
       "_model_name": "HTMLModel",
       "_view_count": null,
       "_view_module": "@jupyter-widgets/controls",
       "_view_module_version": "1.5.0",
       "_view_name": "HTMLView",
       "description": "",
       "description_tooltip": null,
       "layout": "IPY_MODEL_724e6f832f2d4923bc5da367273d56aa",
       "placeholder": "​",
       "style": "IPY_MODEL_bd076e07ef75467297540ba0dcdd8f3e",
       "value": "100%"
      }
     },
     "e16f7c00f2234dac8b094b75520a9c61": {
      "model_module": "@jupyter-widgets/controls",
      "model_module_version": "1.5.0",
      "model_name": "FloatProgressModel",
      "state": {
       "_dom_classes": [],
       "_model_module": "@jupyter-widgets/controls",
       "_model_module_version": "1.5.0",
       "_model_name": "FloatProgressModel",
       "_view_count": null,
       "_view_module": "@jupyter-widgets/controls",
       "_view_module_version": "1.5.0",
       "_view_name": "ProgressView",
       "bar_style": "success",
       "description": "",
       "description_tooltip": null,
       "layout": "IPY_MODEL_6a1d21c8e18e41cc92ed21177034c9a2",
       "max": 226834,
       "min": 0,
       "orientation": "horizontal",
       "style": "IPY_MODEL_77e6dece58d5426bbc81839605aeb7e3",
       "value": 226834
      }
     },
     "e4052a8ac49c4565a28ea10e1f796bf8": {
      "model_module": "@jupyter-widgets/base",
      "model_module_version": "1.2.0",
      "model_name": "LayoutModel",
      "state": {
       "_model_module": "@jupyter-widgets/base",
       "_model_module_version": "1.2.0",
       "_model_name": "LayoutModel",
       "_view_count": null,
       "_view_module": "@jupyter-widgets/base",
       "_view_module_version": "1.2.0",
       "_view_name": "LayoutView",
       "align_content": null,
       "align_items": null,
       "align_self": null,
       "border": null,
       "bottom": null,
       "display": null,
       "flex": null,
       "flex_flow": null,
       "grid_area": null,
       "grid_auto_columns": null,
       "grid_auto_flow": null,
       "grid_auto_rows": null,
       "grid_column": null,
       "grid_gap": null,
       "grid_row": null,
       "grid_template_areas": null,
       "grid_template_columns": null,
       "grid_template_rows": null,
       "height": null,
       "justify_content": null,
       "justify_items": null,
       "left": null,
       "margin": null,
       "max_height": null,
       "max_width": null,
       "min_height": null,
       "min_width": null,
       "object_fit": null,
       "object_position": null,
       "order": null,
       "overflow": null,
       "overflow_x": null,
       "overflow_y": null,
       "padding": null,
       "right": null,
       "top": null,
       "visibility": null,
       "width": null
      }
     },
     "edf39e8ce0984103ab59211dcda377bc": {
      "model_module": "@jupyter-widgets/base",
      "model_module_version": "1.2.0",
      "model_name": "LayoutModel",
      "state": {
       "_model_module": "@jupyter-widgets/base",
       "_model_module_version": "1.2.0",
       "_model_name": "LayoutModel",
       "_view_count": null,
       "_view_module": "@jupyter-widgets/base",
       "_view_module_version": "1.2.0",
       "_view_name": "LayoutView",
       "align_content": null,
       "align_items": null,
       "align_self": null,
       "border": null,
       "bottom": null,
       "display": null,
       "flex": null,
       "flex_flow": null,
       "grid_area": null,
       "grid_auto_columns": null,
       "grid_auto_flow": null,
       "grid_auto_rows": null,
       "grid_column": null,
       "grid_gap": null,
       "grid_row": null,
       "grid_template_areas": null,
       "grid_template_columns": null,
       "grid_template_rows": null,
       "height": null,
       "justify_content": null,
       "justify_items": null,
       "left": null,
       "margin": null,
       "max_height": null,
       "max_width": null,
       "min_height": null,
       "min_width": null,
       "object_fit": null,
       "object_position": null,
       "order": null,
       "overflow": null,
       "overflow_x": null,
       "overflow_y": null,
       "padding": null,
       "right": null,
       "top": null,
       "visibility": null,
       "width": null
      }
     },
     "ee39ec096c1e4a1d9fd080f633a326f0": {
      "model_module": "@jupyter-widgets/controls",
      "model_module_version": "1.5.0",
      "model_name": "HBoxModel",
      "state": {
       "_dom_classes": [],
       "_model_module": "@jupyter-widgets/controls",
       "_model_module_version": "1.5.0",
       "_model_name": "HBoxModel",
       "_view_count": null,
       "_view_module": "@jupyter-widgets/controls",
       "_view_module_version": "1.5.0",
       "_view_name": "HBoxView",
       "box_style": "",
       "children": [
        "IPY_MODEL_84876c269d374ed9b496505aa64433e7",
        "IPY_MODEL_e16f7c00f2234dac8b094b75520a9c61",
        "IPY_MODEL_cbdadba2cd514acab088b80c827eab3f"
       ],
       "layout": "IPY_MODEL_09a0bb75cacb45c6b27f5bce17c1f8ca"
      }
     },
     "f5c7c2fa49fb41bcaeb6a028e157304b": {
      "model_module": "@jupyter-widgets/controls",
      "model_module_version": "1.5.0",
      "model_name": "HTMLModel",
      "state": {
       "_dom_classes": [],
       "_model_module": "@jupyter-widgets/controls",
       "_model_module_version": "1.5.0",
       "_model_name": "HTMLModel",
       "_view_count": null,
       "_view_module": "@jupyter-widgets/controls",
       "_view_module_version": "1.5.0",
       "_view_name": "HTMLView",
       "description": "",
       "description_tooltip": null,
       "layout": "IPY_MODEL_edf39e8ce0984103ab59211dcda377bc",
       "placeholder": "​",
       "style": "IPY_MODEL_9d1fde8e2e9d401dbfda3ba2b7fc87e2",
       "value": " 226834/226834 [08:01&lt;00:00, 483.14it/s]"
      }
     },
     "f82dee43d58f44ad8ec81dd4b0fa448f": {
      "model_module": "@jupyter-widgets/controls",
      "model_module_version": "1.5.0",
      "model_name": "DescriptionStyleModel",
      "state": {
       "_model_module": "@jupyter-widgets/controls",
       "_model_module_version": "1.5.0",
       "_model_name": "DescriptionStyleModel",
       "_view_count": null,
       "_view_module": "@jupyter-widgets/base",
       "_view_module_version": "1.2.0",
       "_view_name": "StyleView",
       "description_width": ""
      }
     },
     "fccce92e62e54faaba0a3684050df361": {
      "model_module": "@jupyter-widgets/controls",
      "model_module_version": "1.5.0",
      "model_name": "ProgressStyleModel",
      "state": {
       "_model_module": "@jupyter-widgets/controls",
       "_model_module_version": "1.5.0",
       "_model_name": "ProgressStyleModel",
       "_view_count": null,
       "_view_module": "@jupyter-widgets/base",
       "_view_module_version": "1.2.0",
       "_view_name": "StyleView",
       "bar_color": null,
       "description_width": ""
      }
     },
     "ffbb1fbb29374d6fb394b3bc43aa73b8": {
      "model_module": "@jupyter-widgets/base",
      "model_module_version": "1.2.0",
      "model_name": "LayoutModel",
      "state": {
       "_model_module": "@jupyter-widgets/base",
       "_model_module_version": "1.2.0",
       "_model_name": "LayoutModel",
       "_view_count": null,
       "_view_module": "@jupyter-widgets/base",
       "_view_module_version": "1.2.0",
       "_view_name": "LayoutView",
       "align_content": null,
       "align_items": null,
       "align_self": null,
       "border": null,
       "bottom": null,
       "display": null,
       "flex": null,
       "flex_flow": null,
       "grid_area": null,
       "grid_auto_columns": null,
       "grid_auto_flow": null,
       "grid_auto_rows": null,
       "grid_column": null,
       "grid_gap": null,
       "grid_row": null,
       "grid_template_areas": null,
       "grid_template_columns": null,
       "grid_template_rows": null,
       "height": null,
       "justify_content": null,
       "justify_items": null,
       "left": null,
       "margin": null,
       "max_height": null,
       "max_width": null,
       "min_height": null,
       "min_width": null,
       "object_fit": null,
       "object_position": null,
       "order": null,
       "overflow": null,
       "overflow_x": null,
       "overflow_y": null,
       "padding": null,
       "right": null,
       "top": null,
       "visibility": null,
       "width": null
      }
     }
    },
    "version_major": 2,
    "version_minor": 0
   }
  }
 },
 "nbformat": 4,
 "nbformat_minor": 5
}
